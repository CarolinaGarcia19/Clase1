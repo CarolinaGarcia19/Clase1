{
  "nbformat": 4,
  "nbformat_minor": 0,
  "metadata": {
    "colab": {
      "name": "clase7.ipynb",
      "provenance": [],
      "authorship_tag": "ABX9TyOyODgDHlUlLY/CP8xq8WXx",
      "include_colab_link": true
    },
    "kernelspec": {
      "name": "python3",
      "display_name": "Python 3"
    },
    "language_info": {
      "name": "python"
    }
  },
  "cells": [
    {
      "cell_type": "markdown",
      "metadata": {
        "id": "view-in-github",
        "colab_type": "text"
      },
      "source": [
        "<a href=\"https://colab.research.google.com/github/CarolinaGarcia19/Clase1/blob/main/clase7.ipynb\" target=\"_parent\"><img src=\"https://colab.research.google.com/assets/colab-badge.svg\" alt=\"Open In Colab\"/></a>"
      ]
    },
    {
      "cell_type": "markdown",
      "metadata": {
        "id": "3R0SfgcUzEpr"
      },
      "source": [
        "**Continuacion de funciones**"
      ]
    },
    {
      "cell_type": "code",
      "metadata": {
        "id": "uvkdsJyhzOYb"
      },
      "source": [
        "##Recordemos el ejercicio de la clase pasada\n",
        "def suma(*number):\n",
        "  print(type(number))\n",
        "  total=0\n",
        "  for i in number:\n",
        "    total+=i\n",
        "    return total\n",
        "    suma(2,3,5,4)"
      ],
      "execution_count": 2,
      "outputs": []
    },
    {
      "cell_type": "code",
      "metadata": {
        "colab": {
          "base_uri": "https://localhost:8080/"
        },
        "id": "YwblRU_QyklL",
        "outputId": "993e9c76-646b-47c4-f3c3-31997c2dc929"
      },
      "source": [
        "suma(1,2,5,6,7,9) #Al realizar el cambio y/o edicion de la funcion suma que veniamos usando, se puede añadir n elementos para iterar la funcion"
      ],
      "execution_count": 3,
      "outputs": [
        {
          "output_type": "stream",
          "text": [
            "<class 'tuple'>\n"
          ],
          "name": "stdout"
        },
        {
          "output_type": "execute_result",
          "data": {
            "text/plain": [
              "1"
            ]
          },
          "metadata": {
            "tags": []
          },
          "execution_count": 3
        }
      ]
    },
    {
      "cell_type": "markdown",
      "metadata": {
        "id": "ouzdQA4X2pzW"
      },
      "source": [
        "El uso de **:\n",
        "El uso de doble * nos permite tener como parametro de entrada una lista de elementos en forma de clave y valor. La forma de iterar sera usando el comando * item()"
      ]
    },
    {
      "cell_type": "code",
      "metadata": {
        "colab": {
          "base_uri": "https://localhost:8080/"
        },
        "id": "xasYJEi03Hlb",
        "outputId": "18034e38-c769-416d-a487-1f3311e86f8b"
      },
      "source": [
        "def suma(**dado):\n",
        "  suma=0;\n",
        "  for i,j in dado.items():\n",
        "    suma +=j\n",
        "  return suma\n",
        "\n",
        "suma(a=3, b=30, c=7)\n"
      ],
      "execution_count": 4,
      "outputs": [
        {
          "output_type": "execute_result",
          "data": {
            "text/plain": [
              "40"
            ]
          },
          "metadata": {
            "tags": []
          },
          "execution_count": 4
        }
      ]
    },
    {
      "cell_type": "markdown",
      "metadata": {
        "id": "U3FJSM8039Sx"
      },
      "source": [
        "**Ampliemos la definicion del comando return**\n",
        "\n",
        "---\n",
        "1. Devolver parametros."
      ]
    },
    {
      "cell_type": "code",
      "metadata": {
        "colab": {
          "base_uri": "https://localhost:8080/",
          "height": 35
        },
        "id": "oh6EfWkI4WG3",
        "outputId": "5f85ecbc-20d7-43c9-a44b-f26eff84bac8"
      },
      "source": [
        "def w():\n",
        "  return \"Hi\"\n",
        "w()"
      ],
      "execution_count": 5,
      "outputs": [
        {
          "output_type": "execute_result",
          "data": {
            "application/vnd.google.colaboratory.intrinsic+json": {
              "type": "string"
            },
            "text/plain": [
              "'Hi'"
            ]
          },
          "metadata": {
            "tags": []
          },
          "execution_count": 5
        }
      ]
    },
    {
      "cell_type": "markdown",
      "metadata": {
        "id": "H1lqIECq4pLD"
      },
      "source": [
        "2. Devolver varias variables"
      ]
    },
    {
      "cell_type": "code",
      "metadata": {
        "colab": {
          "base_uri": "https://localhost:8080/"
        },
        "id": "A-spw2aM4x9J",
        "outputId": "f080acbb-8206-4d03-c28c-46c2df335298"
      },
      "source": [
        "def sd(a,b,c):\n",
        "  q=a+b+c #Declaracion de variable con una suma de argumentos\n",
        "  z=q/3   #Declaracion de variable con el promedio\n",
        "  return q,z\n",
        "q,z=sd(2,4,6)  \n",
        "print(q)\n",
        "print(z)"
      ],
      "execution_count": 6,
      "outputs": [
        {
          "output_type": "stream",
          "text": [
            "12\n",
            "4.0\n"
          ],
          "name": "stdout"
        }
      ]
    },
    {
      "cell_type": "markdown",
      "metadata": {
        "id": "OIF0nfze5mmq"
      },
      "source": [
        "**Formas de hacer documentacion en programacion y por bloques de codigo o linea\n",
        "\n",
        "---"
      ]
    },
    {
      "cell_type": "code",
      "metadata": {
        "colab": {
          "base_uri": "https://localhost:8080/"
        },
        "id": "JF26S7HN6Adn",
        "outputId": "46a96b5c-0f7e-4c84-c51b-2d7eb3bf907a"
      },
      "source": [
        "def paula(a,b):\n",
        "  \"\"\"\n",
        "  Descripcion de la funcion, los parametros que se van a usar, explicar como se usa y que operaciones devuelve esta funcion\n",
        "  \"\"\"\n",
        "  return a+b\n",
        "paula(2,3)  \n"
      ],
      "execution_count": 7,
      "outputs": [
        {
          "output_type": "execute_result",
          "data": {
            "text/plain": [
              "5"
            ]
          },
          "metadata": {
            "tags": []
          },
          "execution_count": 7
        }
      ]
    },
    {
      "cell_type": "code",
      "metadata": {
        "colab": {
          "base_uri": "https://localhost:8080/"
        },
        "id": "XVdSP1Yr7C32",
        "outputId": "8df8e046-d475-431c-f52a-8a5ca4abc652"
      },
      "source": [
        "help(paula)"
      ],
      "execution_count": 8,
      "outputs": [
        {
          "output_type": "stream",
          "text": [
            "Help on function paula in module __main__:\n",
            "\n",
            "paula(a, b)\n",
            "    Descripcion de la funcion, los parametros que se van a usar, explicar como se usa y que operaciones devuelve esta funcion\n",
            "\n"
          ],
          "name": "stdout"
        }
      ]
    },
    {
      "cell_type": "code",
      "metadata": {
        "colab": {
          "base_uri": "https://localhost:8080/"
        },
        "id": "Fm0h95BG7g98",
        "outputId": "73071fdb-d421-4ef2-8971-2b05d0f7345f"
      },
      "source": [
        "print(paula.__doc__) #Otra forma de llamar al comentario es print del # funcion segudo de .__doc__"
      ],
      "execution_count": 9,
      "outputs": [
        {
          "output_type": "stream",
          "text": [
            "\n",
            "  Descripcion de la funcion, los parametros que se van a usar, explicar como se usa y que operaciones devuelve esta funcion\n",
            "  \n"
          ],
          "name": "stdout"
        }
      ]
    }
  ]
}