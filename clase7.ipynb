{
  "nbformat": 4,
  "nbformat_minor": 0,
  "metadata": {
    "colab": {
      "name": "clase7.ipynb",
      "provenance": [],
      "authorship_tag": "ABX9TyPim8gh8ZiDDCAixZJp/5id",
      "include_colab_link": true
    },
    "kernelspec": {
      "name": "python3",
      "display_name": "Python 3"
    },
    "language_info": {
      "name": "python"
    }
  },
  "cells": [
    {
      "cell_type": "markdown",
      "metadata": {
        "id": "view-in-github",
        "colab_type": "text"
      },
      "source": [
        "<a href=\"https://colab.research.google.com/github/CarolinaGarcia19/Clase1/blob/main/clase7.ipynb\" target=\"_parent\"><img src=\"https://colab.research.google.com/assets/colab-badge.svg\" alt=\"Open In Colab\"/></a>"
      ]
    },
    {
      "cell_type": "markdown",
      "metadata": {
        "id": "3R0SfgcUzEpr"
      },
      "source": [
        "**Continuacion de funciones**"
      ]
    },
    {
      "cell_type": "code",
      "metadata": {
        "id": "uvkdsJyhzOYb"
      },
      "source": [
        "##Recordemos el ejercicio de la clase pasada\n",
        "def suma(*number):\n",
        "  print(type(number))\n",
        "  total=0\n",
        "  for i in number:\n",
        "    total+=i\n",
        "    return total\n",
        "    suma(2,3,5,4)"
      ],
      "execution_count": 2,
      "outputs": []
    },
    {
      "cell_type": "code",
      "metadata": {
        "colab": {
          "base_uri": "https://localhost:8080/"
        },
        "id": "YwblRU_QyklL",
        "outputId": "993e9c76-646b-47c4-f3c3-31997c2dc929"
      },
      "source": [
        "suma(1,2,5,6,7,9) #Al realizar el cambio y/o edicion de la funcion suma que veniamos usando, se puede añadir n elementos para iterar la funcion"
      ],
      "execution_count": 3,
      "outputs": [
        {
          "output_type": "stream",
          "text": [
            "<class 'tuple'>\n"
          ],
          "name": "stdout"
        },
        {
          "output_type": "execute_result",
          "data": {
            "text/plain": [
              "1"
            ]
          },
          "metadata": {
            "tags": []
          },
          "execution_count": 3
        }
      ]
    },
    {
      "cell_type": "markdown",
      "metadata": {
        "id": "ouzdQA4X2pzW"
      },
      "source": [
        "El uso de **:\n",
        "El uso de doble * nos permite tener como parametro de entrada una lista de elementos en forma de clave y valor. La forma de iterar sera usando el comando * item()"
      ]
    },
    {
      "cell_type": "code",
      "metadata": {
        "colab": {
          "base_uri": "https://localhost:8080/"
        },
        "id": "xasYJEi03Hlb",
        "outputId": "18034e38-c769-416d-a487-1f3311e86f8b"
      },
      "source": [
        "def suma(**dado):\n",
        "  suma=0;\n",
        "  for i,j in dado.items():\n",
        "    suma +=j\n",
        "  return suma\n",
        "\n",
        "suma(a=3, b=30, c=7)\n"
      ],
      "execution_count": 4,
      "outputs": [
        {
          "output_type": "execute_result",
          "data": {
            "text/plain": [
              "40"
            ]
          },
          "metadata": {
            "tags": []
          },
          "execution_count": 4
        }
      ]
    },
    {
      "cell_type": "markdown",
      "metadata": {
        "id": "U3FJSM8039Sx"
      },
      "source": [
        "**Ampliemos la definicion del comando return**\n",
        "\n",
        "---\n",
        "1. Devolver parametros."
      ]
    },
    {
      "cell_type": "code",
      "metadata": {
        "colab": {
          "base_uri": "https://localhost:8080/",
          "height": 35
        },
        "id": "oh6EfWkI4WG3",
        "outputId": "5f85ecbc-20d7-43c9-a44b-f26eff84bac8"
      },
      "source": [
        "def w():\n",
        "  return \"Hi\"\n",
        "w()"
      ],
      "execution_count": 5,
      "outputs": [
        {
          "output_type": "execute_result",
          "data": {
            "application/vnd.google.colaboratory.intrinsic+json": {
              "type": "string"
            },
            "text/plain": [
              "'Hi'"
            ]
          },
          "metadata": {
            "tags": []
          },
          "execution_count": 5
        }
      ]
    },
    {
      "cell_type": "markdown",
      "metadata": {
        "id": "H1lqIECq4pLD"
      },
      "source": [
        "2. Devolver varias variables"
      ]
    },
    {
      "cell_type": "code",
      "metadata": {
        "colab": {
          "base_uri": "https://localhost:8080/"
        },
        "id": "A-spw2aM4x9J",
        "outputId": "f080acbb-8206-4d03-c28c-46c2df335298"
      },
      "source": [
        "def sd(a,b,c):\n",
        "  q=a+b+c #Declaracion de variable con una suma de argumentos\n",
        "  z=q/3   #Declaracion de variable con el promedio\n",
        "  return q,z\n",
        "q,z=sd(2,4,6)  \n",
        "print(q)\n",
        "print(z)"
      ],
      "execution_count": 6,
      "outputs": [
        {
          "output_type": "stream",
          "text": [
            "12\n",
            "4.0\n"
          ],
          "name": "stdout"
        }
      ]
    },
    {
      "cell_type": "markdown",
      "metadata": {
        "id": "OIF0nfze5mmq"
      },
      "source": [
        "**Formas de hacer documentacion en programacion y por bloques de codigo o linea\n",
        "\n",
        "---"
      ]
    },
    {
      "cell_type": "code",
      "metadata": {
        "colab": {
          "base_uri": "https://localhost:8080/"
        },
        "id": "JF26S7HN6Adn",
        "outputId": "46a96b5c-0f7e-4c84-c51b-2d7eb3bf907a"
      },
      "source": [
        "def paula(a,b):\n",
        "  \"\"\"\n",
        "  Descripcion de la funcion, los parametros que se van a usar, explicar como se usa y que operaciones devuelve esta funcion\n",
        "  \"\"\"\n",
        "  return a+b\n",
        "paula(2,3)  \n"
      ],
      "execution_count": 7,
      "outputs": [
        {
          "output_type": "execute_result",
          "data": {
            "text/plain": [
              "5"
            ]
          },
          "metadata": {
            "tags": []
          },
          "execution_count": 7
        }
      ]
    },
    {
      "cell_type": "code",
      "metadata": {
        "colab": {
          "base_uri": "https://localhost:8080/"
        },
        "id": "XVdSP1Yr7C32",
        "outputId": "8df8e046-d475-431c-f52a-8a5ca4abc652"
      },
      "source": [
        "help(paula)"
      ],
      "execution_count": 8,
      "outputs": [
        {
          "output_type": "stream",
          "text": [
            "Help on function paula in module __main__:\n",
            "\n",
            "paula(a, b)\n",
            "    Descripcion de la funcion, los parametros que se van a usar, explicar como se usa y que operaciones devuelve esta funcion\n",
            "\n"
          ],
          "name": "stdout"
        }
      ]
    },
    {
      "cell_type": "code",
      "metadata": {
        "colab": {
          "base_uri": "https://localhost:8080/"
        },
        "id": "Fm0h95BG7g98",
        "outputId": "73071fdb-d421-4ef2-8971-2b05d0f7345f"
      },
      "source": [
        "print(paula.__doc__) #Otra forma de llamar al comentario es print del # funcion segudo de .__doc__"
      ],
      "execution_count": 9,
      "outputs": [
        {
          "output_type": "stream",
          "text": [
            "\n",
            "  Descripcion de la funcion, los parametros que se van a usar, explicar como se usa y que operaciones devuelve esta funcion\n",
            "  \n"
          ],
          "name": "stdout"
        }
      ]
    },
    {
      "cell_type": "markdown",
      "metadata": {
        "id": "Od0kkce-8gME"
      },
      "source": [
        "**Diferencias entre valores y referencias**\n",
        "\n",
        "---\n",
        "Existen dos conceptos de paso por *valor* u p*r *referencia* que se aplican a la hora de tratar a los parametros de entrada de una funcion:\n",
        "\n",
        "1. Si se usa un parametro que pasa por valor, se crea una copia locar de la variable, lo cual implica que cualquier modificacion sobre esta no tendra repercusiones sobre la basa original.\n",
        "\n",
        "2. Si la variable pasa como referencia, \n",
        "si actuara directamente sobre la base original.\n"
      ]
    },
    {
      "cell_type": "code",
      "metadata": {
        "colab": {
          "base_uri": "https://localhost:8080/"
        },
        "id": "xUFg6n0I9rm9",
        "outputId": "5eb9e9c9-c15a-478a-b99b-83cd9461729d"
      },
      "source": [
        "#Ejemplo de paso por**valor**\n",
        "\n",
        "x=3\n",
        "def funcion(w):\n",
        "  w=0\n",
        "funcion(x)\n",
        "print(x)\n"
      ],
      "execution_count": 11,
      "outputs": [
        {
          "output_type": "stream",
          "text": [
            "3\n"
          ],
          "name": "stdout"
        }
      ]
    },
    {
      "cell_type": "markdown",
      "metadata": {
        "id": "T6ClJ97d-b67"
      },
      "source": [
        "1. inicio con x=3\n",
        "2. Se lo pasamos a la funcion()\n",
        "3. Dentro de esta funcion hacemos que la variable valga cero\n",
        "4. Dado que pasa como valor dentro de la funcion se crea una copia locar de x.\n",
        "por lo cual la variable original no se modifica"
      ]
    },
    {
      "cell_type": "code",
      "metadata": {
        "colab": {
          "base_uri": "https://localhost:8080/"
        },
        "id": "I3Yqz1ek_G2c",
        "outputId": "18987d80-b7cd-4a59-8fea-466dc0292690"
      },
      "source": [
        "##Caso que pasa por **Referencia**\n",
        "x=[3,6,9,12]\n",
        "def sw(tipo):\n",
        "  tipo.append(50)\n",
        "sw(x)\n",
        "print(x)  "
      ],
      "execution_count": 12,
      "outputs": [
        {
          "output_type": "stream",
          "text": [
            "[3, 6, 9, 12, 50]\n"
          ],
          "name": "stdout"
        }
      ]
    },
    {
      "cell_type": "markdown",
      "metadata": {
        "id": "jVzMxdpWBnzB"
      },
      "source": [
        "**Tipos de Funciones**\n",
        "\n",
        "---\n",
        "1. Funcion Lambda\n",
        "---\n",
        "Son funciones que normalmente se usan para definir el codigo en una sola linea."
      ]
    },
    {
      "cell_type": "code",
      "metadata": {
        "colab": {
          "base_uri": "https://localhost:8080/"
        },
        "id": "MwBGk7AbB31K",
        "outputId": "7c2d25f0-e621-4cbd-fddb-f12b6a0c982b"
      },
      "source": [
        "#Lo que normalmente seria la definicion de la funcion de este estilo:\n",
        "#def suma(a,b,c,d):\n",
        "#  return a+b+c+d\n",
        "\n",
        "#,# se puede escribir de la siguiente forma:\n",
        "(lambda a,b,c,d: a+b+c+d)(1,2,3,4)\n"
      ],
      "execution_count": 14,
      "outputs": [
        {
          "output_type": "execute_result",
          "data": {
            "text/plain": [
              "10"
            ]
          },
          "metadata": {
            "tags": []
          },
          "execution_count": 14
        }
      ]
    },
    {
      "cell_type": "code",
      "metadata": {
        "colab": {
          "base_uri": "https://localhost:8080/"
        },
        "id": "y6d7aEL4DQTc",
        "outputId": "68dd3828-db62-4d53-e10a-86f0c59c6539"
      },
      "source": [
        "(lambda *number:sum(number))(1,4,5,6,7,8,9)"
      ],
      "execution_count": 16,
      "outputs": [
        {
          "output_type": "execute_result",
          "data": {
            "text/plain": [
              "40"
            ]
          },
          "metadata": {
            "tags": []
          },
          "execution_count": 16
        }
      ]
    },
    {
      "cell_type": "code",
      "metadata": {
        "colab": {
          "base_uri": "https://localhost:8080/"
        },
        "id": "xcXkz4yKEWDG",
        "outputId": "7b36ca4a-db19-4181-c0bf-62847e749626"
      },
      "source": [
        "(lambda **number:sum(number.values()))(a=1,b=4,c=10)"
      ],
      "execution_count": 17,
      "outputs": [
        {
          "output_type": "execute_result",
          "data": {
            "text/plain": [
              "15"
            ]
          },
          "metadata": {
            "tags": []
          },
          "execution_count": 17
        }
      ]
    },
    {
      "cell_type": "code",
      "metadata": {
        "colab": {
          "base_uri": "https://localhost:8080/"
        },
        "id": "ckbSpxZUExQo",
        "outputId": "09329d11-0199-42ae-9b13-0de3baa7762d"
      },
      "source": [
        "luisa=lambda a,b,c,d:(a,b,c,d)\n",
        "print(luisa(2,5,7,9))"
      ],
      "execution_count": 18,
      "outputs": [
        {
          "output_type": "stream",
          "text": [
            "(2, 5, 7, 9)\n"
          ],
          "name": "stdout"
        }
      ]
    },
    {
      "cell_type": "code",
      "metadata": {
        "colab": {
          "base_uri": "https://localhost:8080/"
        },
        "id": "VN6X-lGLFf8r",
        "outputId": "37e2e566-cbc0-451d-f382-fbe04c53790f"
      },
      "source": [
        "luisa=lambda a,b,c,d:a+b+c+d\n",
        "print(luisa(4,6,1,1))"
      ],
      "execution_count": 20,
      "outputs": [
        {
          "output_type": "stream",
          "text": [
            "12\n"
          ],
          "name": "stdout"
        }
      ]
    },
    {
      "cell_type": "markdown",
      "metadata": {
        "id": "epVlWu2gFu_5"
      },
      "source": [
        "**RECURSIVIDAD**\n",
        "\n",
        "---\n",
        "Las caracteristicas de una funcion recursiva son las siguientes:\n",
        "\n",
        "1. Seccion en que se llama a si misma.\n",
        "2. seccion del bloque de codigo donde este la condicion que implique retornar sin volver a llamarse.(IMPORTANTE).\n",
        "\n",
        "Los ejemplos tradicionales de recursividad son **calculo factorial** y la serie **fibonacci**.\n",
        "\n",
        "**1. Calculo factorial**\n",
        "\n",
        "En matematicas definimos factorial(n!) como la multiplicacion de todos los numeros predecesores hasta llegar a 1.\n",
        "\n",
        "Ejemplo:\n",
        "5!= 5*4*3*2*1\n",
        "100!= 100*99*98*98*97*96....*1\n",
        "\n"
      ]
    },
    {
      "cell_type": "code",
      "metadata": {
        "colab": {
          "base_uri": "https://localhost:8080/"
        },
        "id": "qtU4t3egHgzn",
        "outputId": "d839249f-cd8f-4f10-d9a1-985e3a950ef3"
      },
      "source": [
        "#Apliquemos un enfoque no recursivo de calculo factorial:\n",
        "\n",
        "def factorial(n):\n",
        "  w=1\n",
        "  i=2\n",
        "  while i<=n:\n",
        "    w *=i\n",
        "    i +=1\n",
        "  return w \n",
        "factorial(5)  \n"
      ],
      "execution_count": 23,
      "outputs": [
        {
          "output_type": "execute_result",
          "data": {
            "text/plain": [
              "120"
            ]
          },
          "metadata": {
            "tags": []
          },
          "execution_count": 23
        }
      ]
    },
    {
      "cell_type": "code",
      "metadata": {
        "colab": {
          "base_uri": "https://localhost:8080/"
        },
        "id": "w87STTSvI7lF",
        "outputId": "df947b57-3cc1-4b97-9ea9-96bd6bf51184"
      },
      "source": [
        "#Definamos factorial recursivo:\n",
        "\n",
        "def recursivofac(n):\n",
        " if n==1:\n",
        "   return 1\n",
        " else:\n",
        "   return n*recursivofac(n-1)\n",
        "recursivofac(10)"
      ],
      "execution_count": 29,
      "outputs": [
        {
          "output_type": "execute_result",
          "data": {
            "text/plain": [
              "3628800"
            ]
          },
          "metadata": {
            "tags": []
          },
          "execution_count": 29
        }
      ]
    },
    {
      "cell_type": "markdown",
      "metadata": {
        "id": "Ksy5OBldKdiQ"
      },
      "source": [
        "A continuacion complementamos los tipos de generadores:\n",
        "\n",
        "1. Return\n",
        "2. Yield\n"
      ]
    },
    {
      "cell_type": "code",
      "metadata": {
        "id": "g8MIOhrTKvbk"
      },
      "source": [
        ""
      ],
      "execution_count": null,
      "outputs": []
    },
    {
      "cell_type": "code",
      "metadata": {
        "colab": {
          "base_uri": "https://localhost:8080/"
        },
        "id": "3QV7IKQLKviQ",
        "outputId": "2f1bdfb9-1fae-43f2-fe52-44860d2e8885"
      },
      "source": [
        "def s():\n",
        "  return 4 \n",
        "s()  "
      ],
      "execution_count": 30,
      "outputs": [
        {
          "output_type": "execute_result",
          "data": {
            "text/plain": [
              "4"
            ]
          },
          "metadata": {
            "tags": []
          },
          "execution_count": 30
        }
      ]
    },
    {
      "cell_type": "code",
      "metadata": {
        "colab": {
          "base_uri": "https://localhost:8080/"
        },
        "id": "q32aQfEDK5aO",
        "outputId": "acf42b35-8c12-4f3f-b793-ea7bdc69c52f"
      },
      "source": [
        "def s():\n",
        "  yield 4\n",
        "s()"
      ],
      "execution_count": 31,
      "outputs": [
        {
          "output_type": "execute_result",
          "data": {
            "text/plain": [
              "<generator object s at 0x7f7a8bbabc50>"
            ]
          },
          "metadata": {
            "tags": []
          },
          "execution_count": 31
        }
      ]
    },
    {
      "cell_type": "markdown",
      "metadata": {
        "id": "fm_NLzGtLHc8"
      },
      "source": [
        "Cuando usamos el return, nos devuelve el numero 4, pero cuando usamos el yield lo que devuelve es un objeto de clase (generador)"
      ]
    }
  ]
}