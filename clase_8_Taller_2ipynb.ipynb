{
  "nbformat": 4,
  "nbformat_minor": 0,
  "metadata": {
    "colab": {
      "name": "clase 8_Taller 2ipynb",
      "provenance": [],
      "authorship_tag": "ABX9TyO32Iow4zbgaS9BzPdzPvGQ",
      "include_colab_link": true
    },
    "kernelspec": {
      "display_name": "Python 3",
      "name": "python3"
    },
    "language_info": {
      "name": "python"
    }
  },
  "cells": [
    {
      "cell_type": "markdown",
      "metadata": {
        "id": "view-in-github",
        "colab_type": "text"
      },
      "source": [
        "<a href=\"https://colab.research.google.com/github/CarolinaGarcia19/Clase1/blob/main/clase_8_Taller_2ipynb.ipynb\" target=\"_parent\"><img src=\"https://colab.research.google.com/assets/colab-badge.svg\" alt=\"Open In Colab\"/></a>"
      ]
    },
    {
      "cell_type": "markdown",
      "metadata": {
        "id": "hqCNzNR775Qh"
      },
      "source": [
        "**Ejercicio de funciones**\n",
        "\n",
        "---\n"
      ]
    },
    {
      "cell_type": "markdown",
      "metadata": {
        "id": "zaPlaQaTAcZB"
      },
      "source": [
        "***Ejercicio de practica**\n",
        "\n",
        "---\n",
        "Se le pide a la analista realizar una estimacion relevante sobre la poblacion de los paises en via de desarrollo.\n",
        "\n",
        "Para ello de inicio se solicita que se cree un programa que permita ingresar como prueba 5 paises y su respectiva poblacion e identificar que pais tiene la mayor cantidad de habitantes."
      ]
    },
    {
      "cell_type": "code",
      "metadata": {
        "colab": {
          "base_uri": "https://localhost:8080/"
        },
        "id": "nh0Jh-8OBJ2r",
        "outputId": "79e11250-5ecc-409c-9b99-0332976a4199"
      },
      "source": [
        "def poblacion():\n",
        "   pais=[]\n",
        "   for x in range(5):\n",
        "     nombre=input(\"Ingresa el nombre del pais:\")\n",
        "     cant=int(input(\"Ingrese la cantidad de habitantes\"))\n",
        "     pais.append((nombre,cant))\n",
        "   return pais\n",
        "\n",
        "def view(pais):\n",
        "  print(\"Habitantes por pais:\")\n",
        "  for x in range(len(pais)):\n",
        "    print(pais[x][0],pais[x][1])\n",
        "\n",
        "def mayor(pais):\n",
        "  p=0\n",
        "  for x in range(1,len(pais)):\n",
        "    if pais[x][1]>pais[p][1]:\n",
        "      p=x\n",
        "    print(\"El pais con mayor cantidade de habitantes es:\", pais[p][0])\n",
        "\n",
        "\n",
        "pais=poblacion()\n",
        "view(pais)\n",
        "mayor(pais)"
      ],
      "execution_count": 30,
      "outputs": [
        {
          "output_type": "stream",
          "text": [
            "Ingresa el nombre del pais:a\n",
            "Ingrese la cantidad de habitantes10\n",
            "Ingresa el nombre del pais:c\n",
            "Ingrese la cantidad de habitantes45\n",
            "Ingresa el nombre del pais:chi\n",
            "Ingrese la cantidad de habitantes45\n",
            "Ingresa el nombre del pais:pe\n",
            "Ingrese la cantidad de habitantes15\n",
            "Ingresa el nombre del pais:bo\n",
            "Ingrese la cantidad de habitantes4\n",
            "Habitantes por pais:\n",
            "a 10\n",
            "c 45\n",
            "chi 45\n",
            "pe 15\n",
            "bo 4\n",
            "El pais con mayor cantidade de habitantes es: c\n",
            "El pais con mayor cantidade de habitantes es: c\n",
            "El pais con mayor cantidade de habitantes es: c\n",
            "El pais con mayor cantidade de habitantes es: c\n"
          ],
          "name": "stdout"
        }
      ]
    },
    {
      "cell_type": "markdown",
      "metadata": {
        "id": "guk-tjYiE4Ze"
      },
      "source": [
        "**Taller 2**\n",
        "\n",
        "---\n",
        "Se solicita realizar un programa que permita identificar el niver de cumplimiento del area de ventas de la empresa AVA. Entre los principales requerimientos se encuentran los siguientes:\n",
        "\n",
        "1. Permite ingresar la cantidad de vendedores del area de ventas.\n",
        "2. Permite ingresar la puntuacion por cada uno de elllos .(Escala de 1 a 10)\n",
        "3. El programa debe permitir identificar el vendedor con mejor revdimiento y el peor rendimiento.\n",
        "4. Obtener tambien el promedio general del nivel de cumplimiento del area de ventas.\n",
        "\n",
        "Nota: Si hay empate en la puntuacion para definir el primer y ultimo puesto, se define por orden alfabetico.\n"
      ]
    },
    {
      "cell_type": "code",
      "metadata": {
        "colab": {
          "base_uri": "https://localhost:8080/"
        },
        "id": "LuHMgLm2GZDa",
        "outputId": "4c8a029e-58c3-44dd-dc1f-24917aa1dfce"
      },
      "source": [
        "se=[1,10,7,9,3,15]\n",
        "sorted(se)"
      ],
      "execution_count": null,
      "outputs": [
        {
          "output_type": "execute_result",
          "data": {
            "text/plain": [
              "[1, 3, 7, 9, 10, 15]"
            ]
          },
          "metadata": {
            "tags": []
          },
          "execution_count": 15
        }
      ]
    },
    {
      "cell_type": "markdown",
      "metadata": {
        "id": "1tRIVO8RAbQT"
      },
      "source": [
        ""
      ]
    },
    {
      "cell_type": "code",
      "metadata": {
        "colab": {
          "base_uri": "https://localhost:8080/",
          "height": 571
        },
        "id": "_0RU2ORUP1u4",
        "outputId": "a37baeaa-bfc0-4e91-f9a3-fa2285051ca6"
      },
      "source": [
        "#Solucion ejercicio:\n",
        "\n",
        "# CANTIDAD DE VENDEDORES DEL AREA DE VENTAS\n",
        "# PUNTUACION POR CADA VENDEDOR ESCALA DE 1 A 10\n",
        "# VENDEDOR CON MEJOR Y PEOR RENDIMIENTO\n",
        "# PROMEDIO GENERAL DEL NIVEL DE CUMPLIMIENTO DEL AREA DE VENTAS\n",
        "\n",
        "def cumplimientov():\n",
        "  vendedor=[]\n",
        "  for x in range(5):\n",
        "    nombre=(input(\"Ingresa el nombre del vendedor:\"))\n",
        "    puntuacion=(input(\"Ingresa la puntuacion de 1 a 10;\"))\n",
        "    vendedor.append((nombre,puntuacion))\n",
        "  return vendedor\n",
        "\n",
        "def view(vendedor):\n",
        "  print(\"Puntuacion por vendedor:\")\n",
        "  for x in range(len(vendedor)):\n",
        "   print(vendedor[x][0],vendedor[x][1])\n",
        "\n",
        "def mayor(vendedor):\n",
        "  v=0\n",
        "  for x in range(1,len(vendedor)):\n",
        "    if vendedor[x][1]>vendedor[v][1]:\n",
        "      v=x\n",
        "  print(\"El vendedor con la mas alta puntuacion es:\",vendedor[v][0])\n",
        "\n",
        "def menor(vendedor):\n",
        "  v=0\n",
        "  for x in range(1,len(vendedor)):\n",
        "    if vendedor[x][1]<vendedor[v][1]:\n",
        "      v=x\n",
        "  print(\"El vendedor con la menor puntuacion es:\",vendedor[v][0])\n",
        "\n",
        "def ven(camilo,juan,luis,pedro,santiago):\n",
        "  suma=camilo+juan+luis+pedro+santiago\n",
        "  promedio=suma/5\n",
        "  return suma,promedio\n",
        "suma,promedio=vendedores(1,2,3,4,4)\n",
        "print(\"La suma de las ventas es:\", suma)\n",
        "print(\"El promedio de ventas es:\", promedio)\n",
        "\n",
        "\n",
        "\n",
        "\n",
        "vendedor=cumplimientov()\n",
        "view(vendedor)\n",
        "mayor(vendedor)\n",
        "menor(vendedor)\n",
        "ven(camilo,juan,luis,pedro,santiago)\n",
        "\n",
        "\n",
        "\n",
        "\n",
        "\n",
        "\n"
      ],
      "execution_count": 73,
      "outputs": [
        {
          "output_type": "stream",
          "text": [
            "La suma de las ventas es: 14\n",
            "El promedio de ventas es: 2.8\n",
            "Ingresa el nombre del vendedor:LUIS\n",
            "Ingresa la puntuacion de 1 a 10;1\n",
            "Ingresa el nombre del vendedor:CAMILO\n",
            "Ingresa la puntuacion de 1 a 10;3\n",
            "Ingresa el nombre del vendedor:JUAN\n",
            "Ingresa la puntuacion de 1 a 10;7\n",
            "Ingresa el nombre del vendedor:CARLOS\n",
            "Ingresa la puntuacion de 1 a 10;8\n",
            "Ingresa el nombre del vendedor:MIGUEL\n",
            "Ingresa la puntuacion de 1 a 10;9\n",
            "Puntuacion por vendedor:\n",
            "LUIS 1\n",
            "CAMILO 3\n",
            "JUAN 7\n",
            "CARLOS 8\n",
            "MIGUEL 9\n",
            "El vendedor con la mas alta puntuacion es: MIGUEL\n",
            "El vendedor con la menor puntuacion es: LUIS\n"
          ],
          "name": "stdout"
        },
        {
          "output_type": "error",
          "ename": "NameError",
          "evalue": "ignored",
          "traceback": [
            "\u001b[0;31m---------------------------------------------------------------------------\u001b[0m",
            "\u001b[0;31mNameError\u001b[0m                                 Traceback (most recent call last)",
            "\u001b[0;32m<ipython-input-73-e512c39b8c41>\u001b[0m in \u001b[0;36m<module>\u001b[0;34m()\u001b[0m\n\u001b[1;32m     48\u001b[0m \u001b[0mmayor\u001b[0m\u001b[0;34m(\u001b[0m\u001b[0mvendedor\u001b[0m\u001b[0;34m)\u001b[0m\u001b[0;34m\u001b[0m\u001b[0;34m\u001b[0m\u001b[0m\n\u001b[1;32m     49\u001b[0m \u001b[0mmenor\u001b[0m\u001b[0;34m(\u001b[0m\u001b[0mvendedor\u001b[0m\u001b[0;34m)\u001b[0m\u001b[0;34m\u001b[0m\u001b[0;34m\u001b[0m\u001b[0m\n\u001b[0;32m---> 50\u001b[0;31m \u001b[0mven\u001b[0m\u001b[0;34m(\u001b[0m\u001b[0mcamilo\u001b[0m\u001b[0;34m,\u001b[0m\u001b[0mjuan\u001b[0m\u001b[0;34m,\u001b[0m\u001b[0mluis\u001b[0m\u001b[0;34m,\u001b[0m\u001b[0mpedro\u001b[0m\u001b[0;34m,\u001b[0m\u001b[0msantiago\u001b[0m\u001b[0;34m)\u001b[0m\u001b[0;34m\u001b[0m\u001b[0;34m\u001b[0m\u001b[0m\n\u001b[0m\u001b[1;32m     51\u001b[0m \u001b[0;34m\u001b[0m\u001b[0m\n\u001b[1;32m     52\u001b[0m \u001b[0;34m\u001b[0m\u001b[0m\n",
            "\u001b[0;31mNameError\u001b[0m: name 'camilo' is not defined"
          ]
        }
      ]
    },
    {
      "cell_type": "markdown",
      "metadata": {
        "id": "HWoI9oyH76Fn"
      },
      "source": [
        ""
      ]
    },
    {
      "cell_type": "markdown",
      "metadata": {
        "id": "ZmzsAksw76M_"
      },
      "source": [
        ""
      ]
    }
  ]
}