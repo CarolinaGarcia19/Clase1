{
  "nbformat": 4,
  "nbformat_minor": 0,
  "metadata": {
    "colab": {
      "name": "clase 8_Taller 2ipynb",
      "provenance": [],
      "authorship_tag": "ABX9TyOEZsApGMj7Fe2UdXfmiJMz",
      "include_colab_link": true
    },
    "kernelspec": {
      "display_name": "Python 3",
      "name": "python3"
    },
    "language_info": {
      "name": "python"
    }
  },
  "cells": [
    {
      "cell_type": "markdown",
      "metadata": {
        "id": "view-in-github",
        "colab_type": "text"
      },
      "source": [
        "<a href=\"https://colab.research.google.com/github/CarolinaGarcia19/Clase1/blob/main/clase_8_Taller_2ipynb.ipynb\" target=\"_parent\"><img src=\"https://colab.research.google.com/assets/colab-badge.svg\" alt=\"Open In Colab\"/></a>"
      ]
    },
    {
      "cell_type": "markdown",
      "metadata": {
        "id": "hqCNzNR775Qh"
      },
      "source": [
        "**Ejercicio de funciones**\n",
        "\n",
        "---\n"
      ]
    },
    {
      "cell_type": "markdown",
      "metadata": {
        "id": "zaPlaQaTAcZB"
      },
      "source": [
        "***Ejercicio de practica**\n",
        "\n",
        "---\n",
        "Se le pide a la analista realizar una estimacion relevante sobre la poblacion de los paises en via de desarrollo.\n",
        "\n",
        "Para ello de inicio se solicita que se cree un programa que permita ingresar como prueba 5 paises y su respectiva poblacion e identificar que pais tiene la mayor cantidad de habitantes."
      ]
    },
    {
      "cell_type": "code",
      "metadata": {
        "colab": {
          "base_uri": "https://localhost:8080/",
          "height": 520
        },
        "id": "nh0Jh-8OBJ2r",
        "outputId": "2f78fc98-2115-496c-d4f2-8a2845de3069"
      },
      "source": [
        "def poblacion():\n",
        "   pais=[]\n",
        "   for x in range(5):\n",
        "     nombre=input(\"Ingresa el nombre del pais:\")\n",
        "     cant=int(input(\"Ingrese la cantidad de habitantes\"))\n",
        "     pais.append((nombre,cant))\n",
        "   return pais\n",
        "\n",
        "def view(pais):\n",
        "  print(\"Habitantes por pais:\")\n",
        "  for x in range(lent(pais)):\n",
        "    print(pais[x][0],pais[x][1])\n",
        "\n",
        "def mayor(pais):\n",
        "  p=0\n",
        "  for x in range(1,len(pais)):\n",
        "    if pais[x][1]>pais[p][1]:\n",
        "      pos=x\n",
        "    print(\"El pais con mayor cantidade de habitantes es:\", pais[pos][0])\n",
        "\n",
        "\n",
        "pais=poblacion()\n",
        "view(pais)\n",
        "mayor(pais)"
      ],
      "execution_count": 18,
      "outputs": [
        {
          "output_type": "stream",
          "text": [
            "Ingresa el nombre del pais:peru\n",
            "Ingrese la cantidad de habitantes123\n",
            "Ingresa el nombre del pais:col\n",
            "Ingrese la cantidad de habitantes1234\n",
            "Ingresa el nombre del pais:chi\n",
            "Ingrese la cantidad de habitantes12345\n",
            "Ingresa el nombre del pais:arg\n",
            "Ingrese la cantidad de habitantes12346\n",
            "Ingresa el nombre del pais:bolivia\n",
            "Ingrese la cantidad de habitantes123757\n",
            "Habitantes por pais:\n"
          ],
          "name": "stdout"
        },
        {
          "output_type": "error",
          "ename": "NameError",
          "evalue": "ignored",
          "traceback": [
            "\u001b[0;31m---------------------------------------------------------------------------\u001b[0m",
            "\u001b[0;31mNameError\u001b[0m                                 Traceback (most recent call last)",
            "\u001b[0;32m<ipython-input-18-a34044fea3de>\u001b[0m in \u001b[0;36m<module>\u001b[0;34m()\u001b[0m\n\u001b[1;32m     21\u001b[0m \u001b[0;34m\u001b[0m\u001b[0m\n\u001b[1;32m     22\u001b[0m \u001b[0mpais\u001b[0m\u001b[0;34m=\u001b[0m\u001b[0mpoblacion\u001b[0m\u001b[0;34m(\u001b[0m\u001b[0;34m)\u001b[0m\u001b[0;34m\u001b[0m\u001b[0;34m\u001b[0m\u001b[0m\n\u001b[0;32m---> 23\u001b[0;31m \u001b[0mview\u001b[0m\u001b[0;34m(\u001b[0m\u001b[0mpais\u001b[0m\u001b[0;34m)\u001b[0m\u001b[0;34m\u001b[0m\u001b[0;34m\u001b[0m\u001b[0m\n\u001b[0m\u001b[1;32m     24\u001b[0m \u001b[0mmayor\u001b[0m\u001b[0;34m(\u001b[0m\u001b[0mpais\u001b[0m\u001b[0;34m)\u001b[0m\u001b[0;34m\u001b[0m\u001b[0;34m\u001b[0m\u001b[0m\n",
            "\u001b[0;32m<ipython-input-18-a34044fea3de>\u001b[0m in \u001b[0;36mview\u001b[0;34m(pais)\u001b[0m\n\u001b[1;32m      9\u001b[0m \u001b[0;32mdef\u001b[0m \u001b[0mview\u001b[0m\u001b[0;34m(\u001b[0m\u001b[0mpais\u001b[0m\u001b[0;34m)\u001b[0m\u001b[0;34m:\u001b[0m\u001b[0;34m\u001b[0m\u001b[0;34m\u001b[0m\u001b[0m\n\u001b[1;32m     10\u001b[0m   \u001b[0mprint\u001b[0m\u001b[0;34m(\u001b[0m\u001b[0;34m\"Habitantes por pais:\"\u001b[0m\u001b[0;34m)\u001b[0m\u001b[0;34m\u001b[0m\u001b[0;34m\u001b[0m\u001b[0m\n\u001b[0;32m---> 11\u001b[0;31m   \u001b[0;32mfor\u001b[0m \u001b[0mx\u001b[0m \u001b[0;32min\u001b[0m \u001b[0mrange\u001b[0m\u001b[0;34m(\u001b[0m\u001b[0mlent\u001b[0m\u001b[0;34m(\u001b[0m\u001b[0mpais\u001b[0m\u001b[0;34m)\u001b[0m\u001b[0;34m)\u001b[0m\u001b[0;34m:\u001b[0m\u001b[0;34m\u001b[0m\u001b[0;34m\u001b[0m\u001b[0m\n\u001b[0m\u001b[1;32m     12\u001b[0m     \u001b[0mprint\u001b[0m\u001b[0;34m(\u001b[0m\u001b[0mpais\u001b[0m\u001b[0;34m[\u001b[0m\u001b[0mx\u001b[0m\u001b[0;34m]\u001b[0m\u001b[0;34m[\u001b[0m\u001b[0;36m0\u001b[0m\u001b[0;34m]\u001b[0m\u001b[0;34m,\u001b[0m\u001b[0mpais\u001b[0m\u001b[0;34m[\u001b[0m\u001b[0mx\u001b[0m\u001b[0;34m]\u001b[0m\u001b[0;34m[\u001b[0m\u001b[0;36m1\u001b[0m\u001b[0;34m]\u001b[0m\u001b[0;34m)\u001b[0m\u001b[0;34m\u001b[0m\u001b[0;34m\u001b[0m\u001b[0m\n\u001b[1;32m     13\u001b[0m \u001b[0;34m\u001b[0m\u001b[0m\n",
            "\u001b[0;31mNameError\u001b[0m: name 'lent' is not defined"
          ]
        }
      ]
    },
    {
      "cell_type": "markdown",
      "metadata": {
        "id": "guk-tjYiE4Ze"
      },
      "source": [
        "**Taller 2**\n",
        "\n",
        "---\n",
        "Se solicita realizar un programa que permita identificar el niver de cumplimiento del area de ventas de la empresa AVA. Entre los principales requerimientos se encuentran los siguientes:\n",
        "\n",
        "1. Permite ingresar la cantidad de vendedores del area de ventas.\n",
        "2. Permite ingresar la puntuacion por cada uno de elllos .(Escala de 1 a 10)\n",
        "3. El programa debe permitir identificar el vendedor con mejor revdimiento y el peor rendimiento.\n",
        "4. Obtener tambien el promedio general del nivel de cumplimiento del area de ventas.\n",
        "\n",
        "Nota: Si hay empate en la puntuacion para definir el primer y ultimo puesto, se define por orden alfabetico.\n"
      ]
    },
    {
      "cell_type": "code",
      "metadata": {
        "colab": {
          "base_uri": "https://localhost:8080/"
        },
        "id": "LuHMgLm2GZDa",
        "outputId": "4c8a029e-58c3-44dd-dc1f-24917aa1dfce"
      },
      "source": [
        "se=[1,10,7,9,3,15]\n",
        "sorted(se)"
      ],
      "execution_count": 15,
      "outputs": [
        {
          "output_type": "execute_result",
          "data": {
            "text/plain": [
              "[1, 3, 7, 9, 10, 15]"
            ]
          },
          "metadata": {
            "tags": []
          },
          "execution_count": 15
        }
      ]
    },
    {
      "cell_type": "markdown",
      "metadata": {
        "id": "1tRIVO8RAbQT"
      },
      "source": [
        ""
      ]
    },
    {
      "cell_type": "markdown",
      "metadata": {
        "id": "HWoI9oyH76Fn"
      },
      "source": [
        ""
      ]
    },
    {
      "cell_type": "markdown",
      "metadata": {
        "id": "ZmzsAksw76M_"
      },
      "source": [
        ""
      ]
    }
  ]
}