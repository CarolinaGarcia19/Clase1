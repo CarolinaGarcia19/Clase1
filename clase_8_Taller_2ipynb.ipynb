{
  "nbformat": 4,
  "nbformat_minor": 0,
  "metadata": {
    "colab": {
      "name": "clase 8_Taller 2ipynb",
      "provenance": [],
      "authorship_tag": "ABX9TyMB2L0bx8dgMqw8NgNXkUh4",
      "include_colab_link": true
    },
    "kernelspec": {
      "name": "python3",
      "display_name": "Python 3"
    },
    "language_info": {
      "name": "python"
    }
  },
  "cells": [
    {
      "cell_type": "markdown",
      "metadata": {
        "id": "view-in-github",
        "colab_type": "text"
      },
      "source": [
        "<a href=\"https://colab.research.google.com/github/CarolinaGarcia19/Clase1/blob/main/clase_8_Taller_2ipynb.ipynb\" target=\"_parent\"><img src=\"https://colab.research.google.com/assets/colab-badge.svg\" alt=\"Open In Colab\"/></a>"
      ]
    },
    {
      "cell_type": "markdown",
      "metadata": {
        "id": "hqCNzNR775Qh"
      },
      "source": [
        "**Ejercicio de funciones**\n",
        "\n",
        "---\n"
      ]
    },
    {
      "cell_type": "code",
      "metadata": {
        "id": "5SbOloCU8OW_"
      },
      "source": [
        "lcompras=list()\n",
        "while (\"articulo\"==input(\"¿Que productos se va a comprar\"))!=\"\":\n",
        " lcompras.append(articulo)\n",
        "print(lcompras)\n"
      ],
      "execution_count": null,
      "outputs": []
    },
    {
      "cell_type": "markdown",
      "metadata": {
        "id": "HWoI9oyH76Fn"
      },
      "source": [
        ""
      ]
    },
    {
      "cell_type": "markdown",
      "metadata": {
        "id": "ZmzsAksw76M_"
      },
      "source": [
        ""
      ]
    }
  ]
}