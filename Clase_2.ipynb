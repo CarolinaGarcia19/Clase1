{
  "nbformat": 4,
  "nbformat_minor": 0,
  "metadata": {
    "colab": {
      "name": "Clase 2.ipynb",
      "provenance": [],
      "authorship_tag": "ABX9TyMaWvcS7VAaUCRa6K31zVzL",
      "include_colab_link": true
    },
    "kernelspec": {
      "name": "python3",
      "display_name": "Python 3"
    },
    "language_info": {
      "name": "python"
    }
  },
  "cells": [
    {
      "cell_type": "markdown",
      "metadata": {
        "id": "view-in-github",
        "colab_type": "text"
      },
      "source": [
        "<a href=\"https://colab.research.google.com/github/CarolinaGarcia19/Clase1/blob/main/Clase_2.ipynb\" target=\"_parent\"><img src=\"https://colab.research.google.com/assets/colab-badge.svg\" alt=\"Open In Colab\"/></a>"
      ]
    },
    {
      "cell_type": "markdown",
      "metadata": {
        "id": "xiG2YvEEvUdK"
      },
      "source": [
        "**Operadores aritmeticos**\n",
        "\n",
        "---\n",
        "Los operadores permiten realizar diferentes procesos de calculo en cualquier lenguaje de programacion.\n",
        "\n",
        "Los operadores mas basicos:\n",
        "1.suma\n",
        "2.resta\n",
        "3.multiplicacion\n",
        "4.division\n",
        "\n"
      ]
    },
    {
      "cell_type": "markdown",
      "metadata": {
        "id": "Y2GNiua8vtjR"
      },
      "source": [
        "**suma**\n",
        "\n",
        "---\n",
        "\n",
        "simbolo suma(+) el cual se utilizara en medio de la declaracion de las variables a operar\n"
      ]
    },
    {
      "cell_type": "code",
      "metadata": {
        "colab": {
          "base_uri": "https://localhost:8080/"
        },
        "id": "Q5ptCxemwBDX",
        "outputId": "b0fd1aea-7ada-4488-c6f4-99db89468e68"
      },
      "source": [
        "print(10+300)\n",
        "a=20\n",
        "b=35\n",
        "print(a+b)"
      ],
      "execution_count": 2,
      "outputs": [
        {
          "output_type": "stream",
          "text": [
            "310\n",
            "55\n"
          ],
          "name": "stdout"
        }
      ]
    },
    {
      "cell_type": "code",
      "metadata": {
        "colab": {
          "base_uri": "https://localhost:8080/"
        },
        "id": "eVGIyG4Vwkqi",
        "outputId": "88205c78-fa85-4a93-acf7-b2b670992016"
      },
      "source": [
        "numero_botellas=12\n",
        "print(numero_botellas + 8)"
      ],
      "execution_count": 3,
      "outputs": [
        {
          "output_type": "stream",
          "text": [
            "20\n"
          ],
          "name": "stdout"
        }
      ]
    },
    {
      "cell_type": "code",
      "metadata": {
        "colab": {
          "base_uri": "https://localhost:8080/"
        },
        "id": "yVh6cnE0vLJo",
        "outputId": "9d138c03-6a04-49cc-e339-bfac507b8521"
      },
      "source": [
        "numero_botellas=12\n",
        "numero_botellas=numero_botellas + 8\n",
        "print(numero_botellas)"
      ],
      "execution_count": 4,
      "outputs": [
        {
          "output_type": "stream",
          "text": [
            "20\n"
          ],
          "name": "stdout"
        }
      ]
    },
    {
      "cell_type": "markdown",
      "metadata": {
        "id": "meYS-4_yxU3w"
      },
      "source": [
        "**sumas entre los diferentes tipos de variables**\n",
        "\n",
        "---\n",
        "Recordemos los tipos de variables vistos en la clase de ayer:\n",
        "1.Declaracion de variables numericas enteros\n",
        "2Flotantes(incorpora y flexibiliza los decimales)\n",
        "3Tipo cadena\n",
        "\n"
      ]
    },
    {
      "cell_type": "code",
      "metadata": {
        "colab": {
          "base_uri": "https://localhost:8080/"
        },
        "id": "YaxWIA6extXY",
        "outputId": "3fbd5bdc-c6a0-443a-a6c5-9eb6fcf5a16f"
      },
      "source": [
        "q1=100\n",
        "q2=24.5\n",
        "print(type(q1+q2))"
      ],
      "execution_count": 6,
      "outputs": [
        {
          "output_type": "stream",
          "text": [
            "<class 'float'>\n"
          ],
          "name": "stdout"
        }
      ]
    },
    {
      "cell_type": "code",
      "metadata": {
        "colab": {
          "base_uri": "https://localhost:8080/"
        },
        "id": "c001-M2JyExE",
        "outputId": "fb17df02-5d02-4d46-9fb9-bb54601eae02"
      },
      "source": [
        "v1=\"quiero\"\n",
        "v2=\"un celular\"\n",
        "print(v1,v2)"
      ],
      "execution_count": 7,
      "outputs": [
        {
          "output_type": "stream",
          "text": [
            "quiero un celular\n"
          ],
          "name": "stdout"
        }
      ]
    },
    {
      "cell_type": "code",
      "metadata": {
        "colab": {
          "base_uri": "https://localhost:8080/"
        },
        "id": "lFQoeiIvyE3n",
        "outputId": "b5787ee8-3d1e-4f5e-dc55-1d22e554069d"
      },
      "source": [
        "xq2=235\n",
        "xq3=400\n",
        "print(xq2-xq3)"
      ],
      "execution_count": 8,
      "outputs": [
        {
          "output_type": "stream",
          "text": [
            "-165\n"
          ],
          "name": "stdout"
        }
      ]
    },
    {
      "cell_type": "code",
      "metadata": {
        "colab": {
          "base_uri": "https://localhost:8080/"
        },
        "id": "X7idXpwGzH7r",
        "outputId": "0cb3ac2a-ff54-42a4-c283-796cb82636d9"
      },
      "source": [
        "xq2=24.66\n",
        "xq3=4\n",
        "print(type(xq2-xq3))"
      ],
      "execution_count": 9,
      "outputs": [
        {
          "output_type": "stream",
          "text": [
            "<class 'float'>\n"
          ],
          "name": "stdout"
        }
      ]
    },
    {
      "cell_type": "markdown",
      "metadata": {
        "id": "oCzSwP9XzbeS"
      },
      "source": [
        "**importante**\n",
        "La resta no funciona directamente para variables tipo cadena.\n",
        "\n",
        "\n"
      ]
    },
    {
      "cell_type": "code",
      "metadata": {
        "id": "nTcDmtHFzqfb"
      },
      "source": [
        ""
      ],
      "execution_count": null,
      "outputs": []
    },
    {
      "cell_type": "markdown",
      "metadata": {
        "id": "ct2RgO4b0rPH"
      },
      "source": [
        ""
      ]
    },
    {
      "cell_type": "markdown",
      "metadata": {
        "id": "lWcyLFry0rcj"
      },
      "source": [
        "**multiplicacion**\n",
        "---\n",
        "Definamos la multiplicacion como la suma de varias veces un numero,cantidad de veces indicadas por el otro numero. Ejemplo: 4x2= 4+4= 8\n",
        "El simbolo que se maneja es (*)\n"
      ]
    },
    {
      "cell_type": "code",
      "metadata": {
        "colab": {
          "base_uri": "https://localhost:8080/"
        },
        "id": "_CvHaeOB1JBu",
        "outputId": "4f8afc83-d880-4dd6-e151-1ccefb506c01"
      },
      "source": [
        "cali=5\n",
        "palmira=6\n",
        "print(cali*palmira)"
      ],
      "execution_count": 10,
      "outputs": [
        {
          "output_type": "stream",
          "text": [
            "30\n"
          ],
          "name": "stdout"
        }
      ]
    },
    {
      "cell_type": "markdown",
      "metadata": {
        "id": "4Kn3u9Xt1RRV"
      },
      "source": [
        "**importante**\n",
        "Se aplica la ley conmutativa.\n",
        "Recordemos que la ley conmutativa es que el orden de los factores no altera el resultado(aplica para la suma y la multiplicacion)\n"
      ]
    },
    {
      "cell_type": "code",
      "metadata": {
        "colab": {
          "base_uri": "https://localhost:8080/"
        },
        "id": "ynXy3wIM1mp0",
        "outputId": "ea00d21e-53f9-4ed7-9fd0-7d8d952d49c5"
      },
      "source": [
        "cali=5\n",
        "palmira=6\n",
        "print(palmira*cali)"
      ],
      "execution_count": 11,
      "outputs": [
        {
          "output_type": "stream",
          "text": [
            "30\n"
          ],
          "name": "stdout"
        }
      ]
    },
    {
      "cell_type": "markdown",
      "metadata": {
        "id": "OYUPgfwc1xk9"
      },
      "source": [
        "**Division**\n",
        "\n",
        "---\n",
        "El simbolo de division es (/)\n"
      ]
    },
    {
      "cell_type": "code",
      "metadata": {
        "colab": {
          "base_uri": "https://localhost:8080/"
        },
        "id": "snR8KS06172I",
        "outputId": "1b80f997-9c96-4328-b3aa-3ebf424d851c"
      },
      "source": [
        "a=20\n",
        "b=4\n",
        "print(a/b)"
      ],
      "execution_count": 12,
      "outputs": [
        {
          "output_type": "stream",
          "text": [
            "5.0\n"
          ],
          "name": "stdout"
        }
      ]
    },
    {
      "cell_type": "markdown",
      "metadata": {
        "id": "mGfLaIlt2aV6"
      },
      "source": [
        "Para el print podemos separar las operaciones por variable con coma, lo cual no afectara la impresion de los resultados por operacion asignada.\n",
        "\n"
      ]
    },
    {
      "cell_type": "markdown",
      "metadata": {
        "id": "UZ_GlVva29jU"
      },
      "source": [
        ""
      ]
    },
    {
      "cell_type": "markdown",
      "metadata": {
        "id": "YctnPps729s5"
      },
      "source": [
        "**Tipos de division**\n",
        "\n",
        "1.Division exacta (/)\n",
        "2.Division inexacta (//)"
      ]
    },
    {
      "cell_type": "code",
      "metadata": {
        "colab": {
          "base_uri": "https://localhost:8080/"
        },
        "id": "5rD3z6T23ZL5",
        "outputId": "7f770437-4469-457e-d9df-4f262731d539"
      },
      "source": [
        "print(15/4)\n",
        "print(15//4)"
      ],
      "execution_count": 15,
      "outputs": [
        {
          "output_type": "stream",
          "text": [
            "3.75\n",
            "3\n"
          ],
          "name": "stdout"
        }
      ]
    },
    {
      "cell_type": "markdown",
      "metadata": {
        "id": "nojVr_dG39oo"
      },
      "source": [
        "Nota: Operacion de division, al igual que una division normal, no es posible dividir entre cero. por que en matematicas es un resultado indefinido.\n",
        "\n",
        "4.potenciacion\n",
        "5.Modulo\n"
      ]
    },
    {
      "cell_type": "markdown",
      "metadata": {
        "id": "EInGrxUr4U6x"
      },
      "source": [
        "**potenciacion**\n",
        "\n",
        "---\n",
        "En python el simbolo es (**)\n",
        "El primer valor es la base, y el ultimo valor el exponente\n"
      ]
    },
    {
      "cell_type": "code",
      "metadata": {
        "colab": {
          "base_uri": "https://localhost:8080/"
        },
        "id": "hvzr0WJn4TD5",
        "outputId": "ab6f40c7-cade-4fda-e692-641441f7d1c1"
      },
      "source": [
        "print(3**4)"
      ],
      "execution_count": 17,
      "outputs": [
        {
          "output_type": "stream",
          "text": [
            "81\n"
          ],
          "name": "stdout"
        }
      ]
    },
    {
      "cell_type": "markdown",
      "metadata": {
        "id": "ZX2B3JyB4gi_"
      },
      "source": [
        "**Modulo**\n",
        "\n",
        "---\n",
        "Le llamamos modulo al residuo de la operacion de division.\n",
        "El simbolo usado para mostrar el residuo es (%).\n",
        "El primer valor es el dividendo y el segundo valor es el divisor.\n",
        "\n"
      ]
    },
    {
      "cell_type": "code",
      "metadata": {
        "colab": {
          "base_uri": "https://localhost:8080/"
        },
        "id": "S1V0Gubt5YJN",
        "outputId": "f6f370b7-24ff-4468-d8b7-02c19daac003"
      },
      "source": [
        "print(88%9)"
      ],
      "execution_count": 18,
      "outputs": [
        {
          "output_type": "stream",
          "text": [
            "7\n"
          ],
          "name": "stdout"
        }
      ]
    },
    {
      "cell_type": "markdown",
      "metadata": {
        "id": "oLJ2jjqK5moa"
      },
      "source": [
        "**Operadores de comparacion**\n",
        "\n",
        "---\n",
        "Los operadores de comparacion, sirven para comparar varios valores, elegir entre un camino u otro.\n"
      ]
    },
    {
      "cell_type": "markdown",
      "metadata": {
        "id": "FvZgs5PP9BhO"
      },
      "source": [
        "**igualdad**\n",
        "Simbolo en python es (==)\n"
      ]
    },
    {
      "cell_type": "code",
      "metadata": {
        "colab": {
          "base_uri": "https://localhost:8080/"
        },
        "id": "A8o4NERi82qK",
        "outputId": "6854d9f4-0158-4338-b3f4-e995b1515dea"
      },
      "source": [
        "x=30\n",
        "z=31\n",
        "print(x==z)\n"
      ],
      "execution_count": 19,
      "outputs": [
        {
          "output_type": "stream",
          "text": [
            "False\n"
          ],
          "name": "stdout"
        }
      ]
    },
    {
      "cell_type": "code",
      "metadata": {
        "colab": {
          "base_uri": "https://localhost:8080/"
        },
        "id": "Z6tmfylu5G3w",
        "outputId": "cc49b606-e5ca-4d64-9dbc-15a9b35e3318"
      },
      "source": [
        "x=\"casa\"\n",
        "z=\"caza\"\n",
        "print(x==z)"
      ],
      "execution_count": 20,
      "outputs": [
        {
          "output_type": "stream",
          "text": [
            "False\n"
          ],
          "name": "stdout"
        }
      ]
    },
    {
      "cell_type": "code",
      "metadata": {
        "colab": {
          "base_uri": "https://localhost:8080/"
        },
        "id": "cT_uu5we-iO4",
        "outputId": "dad449bb-ba22-4c26-aa12-a4b480061f5b"
      },
      "source": [
        "x=5\n",
        "y=5\n",
        "print(x==y)"
      ],
      "execution_count": 22,
      "outputs": [
        {
          "output_type": "stream",
          "text": [
            "True\n"
          ],
          "name": "stdout"
        }
      ]
    },
    {
      "cell_type": "markdown",
      "metadata": {
        "id": "1jBRa_ey_RcA"
      },
      "source": [
        "**Diferencia**\n",
        "\n",
        "---\n",
        "A diferencia del operador de igialdad, el simbolo esta combinado por el simbolo de admiracion, es decir(!=)\n"
      ]
    },
    {
      "cell_type": "code",
      "metadata": {
        "colab": {
          "base_uri": "https://localhost:8080/"
        },
        "id": "jxHuteqf_iy-",
        "outputId": "a674c302-847d-463b-a831-2e3c70acf153"
      },
      "source": [
        "x=\"casa\"\n",
        "z=\"caza\"\n",
        "print(x!=z)"
      ],
      "execution_count": 23,
      "outputs": [
        {
          "output_type": "stream",
          "text": [
            "True\n"
          ],
          "name": "stdout"
        }
      ]
    },
    {
      "cell_type": "markdown",
      "metadata": {
        "id": "hQvxcc8R_xN5"
      },
      "source": [
        "**Mayor que**\n",
        "Simbolo en Python(>)\n",
        "Siempre en comparativa se designa cual es el mayor o el menor por el valor que esta a la izquierda de la operacion.\n"
      ]
    },
    {
      "cell_type": "code",
      "metadata": {
        "colab": {
          "base_uri": "https://localhost:8080/"
        },
        "id": "7GDrb0pw_6oI",
        "outputId": "a69d52a2-aaa4-42b5-a245-ee21ccfaa954"
      },
      "source": [
        "print(30>29.8)\n",
        "print(20>10)\n"
      ],
      "execution_count": 25,
      "outputs": [
        {
          "output_type": "stream",
          "text": [
            "True\n",
            "True\n"
          ],
          "name": "stdout"
        }
      ]
    },
    {
      "cell_type": "markdown",
      "metadata": {
        "id": "qMRgDLxOAd1H"
      },
      "source": [
        "**Menor que***\n",
        "\n",
        "---\n",
        "Caso contrario, el simbolo es (<)\n"
      ]
    },
    {
      "cell_type": "code",
      "metadata": {
        "colab": {
          "base_uri": "https://localhost:8080/"
        },
        "id": "Va2-HAm8AljJ",
        "outputId": "98bfc646-ec7c-4cd0-ce95-4cb201b1b976"
      },
      "source": [
        "x=4\n",
        "y=3\n",
        "print(x<y)"
      ],
      "execution_count": 26,
      "outputs": [
        {
          "output_type": "stream",
          "text": [
            "False\n"
          ],
          "name": "stdout"
        }
      ]
    },
    {
      "cell_type": "markdown",
      "metadata": {
        "id": "LH70GoChAzXW"
      },
      "source": [
        "**Mayor o igual que**\n",
        "\n",
        "---\n",
        "Es similar al mayor que , con la diferencia en que en la forma que dara el resultado verdadero es si ambos numeros son iguales y flexibiliza dado verdadero, de igual forma si el valor de la izquierda es mayor que el de la derecha.EL simbolo es (<=)\n"
      ]
    },
    {
      "cell_type": "code",
      "metadata": {
        "colab": {
          "base_uri": "https://localhost:8080/"
        },
        "id": "VfaRi4DoAvtv",
        "outputId": "92ad5750-0e3c-4ebd-f319-5a13ef95d4dc"
      },
      "source": [
        "x=10\n",
        "y=5\n",
        "print(x>=y)"
      ],
      "execution_count": 27,
      "outputs": [
        {
          "output_type": "stream",
          "text": [
            "True\n"
          ],
          "name": "stdout"
        }
      ]
    },
    {
      "cell_type": "markdown",
      "metadata": {
        "id": "AvtS3wLfBogT"
      },
      "source": [
        "**Menor o igual que**\n",
        "\n",
        "---\n",
        "EL simbolo es(<=)\n"
      ]
    },
    {
      "cell_type": "code",
      "metadata": {
        "colab": {
          "base_uri": "https://localhost:8080/"
        },
        "id": "6PsDrus2Bw1z",
        "outputId": "5905c9d8-80d7-4288-c482-8fcb81c67bc4"
      },
      "source": [
        "c=45\n",
        "print(c<46)"
      ],
      "execution_count": 28,
      "outputs": [
        {
          "output_type": "stream",
          "text": [
            "True\n"
          ],
          "name": "stdout"
        }
      ]
    },
    {
      "cell_type": "markdown",
      "metadata": {
        "id": "Al5gOq97CAL3"
      },
      "source": [
        "**Tener en cuenta** En comparaciones los resultados que nos arrojan siempre es de tipo boleano es decir: True or False(Verdadero o falso"
      ]
    },
    {
      "cell_type": "markdown",
      "metadata": {
        "id": "Zqjb1GJiCfdL"
      },
      "source": [
        "**OPERADORES LOGICOS**\n",
        "\n",
        "---\n",
        "Python incluye tres operadores logicos base:\n",
        "1 AND (y)\n",
        "2.OR(o)\n",
        "3.NOT (No)\n",
        "\n",
        "Los operadores logicos funcionan solo con valores o variables booleanas, asu vez,devuelven como respuestas valores booleanos."
      ]
    },
    {
      "cell_type": "markdown",
      "metadata": {
        "id": "miC9aNG_DDDB"
      },
      "source": [
        "**Operador AND**\n",
        "---\n",
        "Este operador solo devolvera (verdadero) si ambos valores lo son.\n",
        "¿Como usar el operador AND?\n",
        "Para usar este operador basta con escribir un valor booleano , luego la palabra \"and\" y por ultimo otro valor booleano.\n"
      ]
    },
    {
      "cell_type": "code",
      "metadata": {
        "colab": {
          "base_uri": "https://localhost:8080/"
        },
        "id": "BLIgwXaTDfvA",
        "outputId": "0bbc321b-3379-4fd4-bce8-a8c03d5f81a1"
      },
      "source": [
        "print(True and False)"
      ],
      "execution_count": 31,
      "outputs": [
        {
          "output_type": "stream",
          "text": [
            "False\n"
          ],
          "name": "stdout"
        }
      ]
    },
    {
      "cell_type": "markdown",
      "metadata": {
        "id": "TnWAKxnbDsnS"
      },
      "source": [
        "**Ejemplo 2 de contextualizacion**\n",
        "\n",
        "1True and True= True\n",
        "2True and False= False\n",
        "3False and False= False\n",
        "4False and True= False\n"
      ]
    },
    {
      "cell_type": "markdown",
      "metadata": {
        "id": "4IFr1O20EDzG"
      },
      "source": [
        "**Operador OR**\n",
        "\n",
        "---\n",
        "A diferencia del operador AND, Or devuelve a todo verdadero a menos de que ambos valores sean falsos."
      ]
    },
    {
      "cell_type": "code",
      "metadata": {
        "colab": {
          "base_uri": "https://localhost:8080/"
        },
        "id": "Zw-S2ETwERKw",
        "outputId": "2a91b4cc-030e-4dc3-b518-ce21d5d156da"
      },
      "source": [
        "print(True or True)\n",
        "print(False or False)"
      ],
      "execution_count": 33,
      "outputs": [
        {
          "output_type": "stream",
          "text": [
            "True\n",
            "False\n"
          ],
          "name": "stdout"
        }
      ]
    },
    {
      "cell_type": "markdown",
      "metadata": {
        "id": "IGF4R1fwEfK6"
      },
      "source": [
        "** Ejemplo de contextualizacion de OR**\n",
        "\n",
        "1 False or False: False\n",
        "2 True or False : True\n",
        "3 False or True: True\n",
        "4 True or True: True"
      ]
    },
    {
      "cell_type": "markdown",
      "metadata": {
        "id": "wDZztqXHE7VE"
      },
      "source": [
        ""
      ]
    },
    {
      "cell_type": "code",
      "metadata": {
        "colab": {
          "base_uri": "https://localhost:8080/"
        },
        "id": "eQkEoMVSE72k",
        "outputId": "cc4b6c33-2f58-4d1b-8a66-9c0aa63d385b"
      },
      "source": [
        "a=3\n",
        "b=2\n",
        "print(a>4 or a==4)\n",
        "print(b==b and a>=b)"
      ],
      "execution_count": 35,
      "outputs": [
        {
          "output_type": "stream",
          "text": [
            "False\n",
            "True\n"
          ],
          "name": "stdout"
        }
      ]
    },
    {
      "cell_type": "markdown",
      "metadata": {
        "id": "3FwdQBK7FgaP"
      },
      "source": [
        "**Operador NOT**\n",
        "\n",
        "---\n",
        "Este operador es negacion, en español estoy diciendo \"No\", Este operador es especial ya que solo no sirve para hacer ninguna operacion, o en palabras mas simples invierte el valor booleano que viene despues de el.\n"
      ]
    },
    {
      "cell_type": "code",
      "metadata": {
        "colab": {
          "base_uri": "https://localhost:8080/"
        },
        "id": "G72OxBlmGSBj",
        "outputId": "b23a8878-ca76-4191-d1eb-005a2a00af93"
      },
      "source": [
        "print(not False)\n",
        "print(not True)"
      ],
      "execution_count": 36,
      "outputs": [
        {
          "output_type": "stream",
          "text": [
            "True\n",
            "False\n"
          ],
          "name": "stdout"
        }
      ]
    },
    {
      "cell_type": "markdown",
      "metadata": {
        "id": "-kIVj2vjGcRN"
      },
      "source": [
        "**PRECEDENCIA DE OPERADORES**\n",
        "\n",
        "***\n",
        "Es muy importante manejar el orden de las operaciones al realizarlas, para no caer en problemas de codigo de error.\n",
        "\n",
        "El orden debe ser:\n",
        "1. De izquierda a derecha \n",
        "2. Parentesis\n",
        "3. Potenciacion o radicacion\n",
        "4. Multiplicacion y division\n",
        "5. Suma y resta\n",
        "\n",
        "**Ejemplo**\n",
        "4-2(10)\n",
        "1.Primero el parentesis\n",
        "4-2*10\n",
        "2.Se continua con la multiplicacion \n",
        "4-20\n",
        "3. Por ultimo la resta\n",
        "4-20=16"
      ]
    },
    {
      "cell_type": "code",
      "metadata": {
        "colab": {
          "base_uri": "https://localhost:8080/"
        },
        "id": "xp9cF7uoDjI0",
        "outputId": "82dd3d7b-2aae-4bd6-b5a8-3cb924e5a86d"
      },
      "source": [
        "a=False\n",
        "b=True\n",
        "c=True\n",
        "print(not c and (a or b))"
      ],
      "execution_count": 37,
      "outputs": [
        {
          "output_type": "stream",
          "text": [
            "False\n"
          ],
          "name": "stdout"
        }
      ]
    },
    {
      "cell_type": "code",
      "metadata": {
        "colab": {
          "base_uri": "https://localhost:8080/"
        },
        "id": "Pv-K7w5zI_0R",
        "outputId": "c3059bfd-5a09-45ce-f0b9-88914cdff282"
      },
      "source": [
        "print(3-2*(13-5))"
      ],
      "execution_count": 38,
      "outputs": [
        {
          "output_type": "stream",
          "text": [
            "-13\n"
          ],
          "name": "stdout"
        }
      ]
    },
    {
      "cell_type": "code",
      "metadata": {
        "id": "N1T2bsp6JWoW"
      },
      "source": [
        ""
      ],
      "execution_count": null,
      "outputs": []
    },
    {
      "cell_type": "markdown",
      "metadata": {
        "id": "aWfKfKwNJdQS"
      },
      "source": [
        "**RESUMEN**\n",
        "\n",
        "---\n",
        "1. Aplicacion de ley conmutativa solo para suma y resta operadores basicos\n",
        "2. Los resultados con operadores logicos son de tipo booleano\n",
        "3. No se pueden realizar resta entre variables de tipo cadena\n",
        "4. Si aplicamos el condicional AND, para que el resultado sea verdadero , la unica forma es que ambos valores sean verdaderos\n",
        "5. En cambio en Or, si alguno de los valores es verdadero, el resultado sera verdadero.\n"
      ]
    },
    {
      "cell_type": "markdown",
      "metadata": {
        "id": "PmqdJkszNzM3"
      },
      "source": [
        "**TAREA CLASE 2**\n",
        "Hacer 5 ejercicios en conjunto con los operadores vistos el dia de hoy \n",
        "\n",
        "Resumen:\n"
      ]
    },
    {
      "cell_type": "code",
      "metadata": {
        "id": "vNkFv3MRKIVg"
      },
      "source": [
        ""
      ],
      "execution_count": null,
      "outputs": []
    }
  ]
}