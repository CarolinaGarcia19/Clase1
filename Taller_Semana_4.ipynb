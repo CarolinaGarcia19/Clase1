{
  "nbformat": 4,
  "nbformat_minor": 0,
  "metadata": {
    "colab": {
      "name": "Taller Semana 4.ipynb",
      "provenance": [],
      "include_colab_link": true
    },
    "kernelspec": {
      "display_name": "Python 3",
      "language": "python",
      "name": "python3"
    },
    "language_info": {
      "codemirror_mode": {
        "name": "ipython",
        "version": 3
      },
      "file_extension": ".py",
      "mimetype": "text/x-python",
      "name": "python",
      "nbconvert_exporter": "python",
      "pygments_lexer": "ipython3",
      "version": "3.7.3"
    }
  },
  "cells": [
    {
      "cell_type": "markdown",
      "metadata": {
        "id": "view-in-github",
        "colab_type": "text"
      },
      "source": [
        "<a href=\"https://colab.research.google.com/github/CarolinaGarcia19/Clase1/blob/main/Taller_Semana_4.ipynb\" target=\"_parent\"><img src=\"https://colab.research.google.com/assets/colab-badge.svg\" alt=\"Open In Colab\"/></a>"
      ]
    },
    {
      "cell_type": "markdown",
      "metadata": {
        "id": "SUIcZJyyd6Vw"
      },
      "source": [
        "# Investigando los accidentes de tránsito en Nueva York"
      ]
    },
    {
      "cell_type": "code",
      "metadata": {
        "colab": {
          "resources": {
            "http://localhost:8080/nbextensions/google.colab/files.js": {
              "data": "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",
              "ok": true,
              "headers": [
                [
                  "content-type",
                  "application/javascript"
                ]
              ],
              "status": 200,
              "status_text": ""
            }
          },
          "base_uri": "https://localhost:8080/",
          "height": 70
        },
        "id": "0qKbKxgBd6Vz",
        "outputId": "e698b5d6-33c1-4eda-f0e4-7c7acdfd9ef9"
      },
      "source": [
        "import pandas as pd\n",
        "import matplotlib.pyplot as plt\n",
        "import seaborn as sns\n",
        "import numpy as np\n",
        "import datetime\n",
        "from google.colab import files\n",
        "uploaded = files.upload()"
      ],
      "execution_count": 4,
      "outputs": [
        {
          "output_type": "display_data",
          "data": {
            "text/html": [
              "\n",
              "     <input type=\"file\" id=\"files-59ee20b3-f6d7-46d4-a1f5-04fd520b247a\" name=\"files[]\" multiple disabled\n",
              "        style=\"border:none\" />\n",
              "     <output id=\"result-59ee20b3-f6d7-46d4-a1f5-04fd520b247a\">\n",
              "      Upload widget is only available when the cell has been executed in the\n",
              "      current browser session. Please rerun this cell to enable.\n",
              "      </output>\n",
              "      <script src=\"/nbextensions/google.colab/files.js\"></script> "
            ],
            "text/plain": [
              "<IPython.core.display.HTML object>"
            ]
          },
          "metadata": {}
        },
        {
          "output_type": "stream",
          "name": "stdout",
          "text": [
            "Saving accidents_sample.csv to accidents_sample.csv\n"
          ]
        }
      ]
    },
    {
      "cell_type": "markdown",
      "metadata": {
        "id": "CciJWSAqd6V0"
      },
      "source": [
        "## Introducción\n",
        "\n",
        "**Contexto empresarial.** La ciudad de Nueva York ha experimentado un aumento en el número de accidentes en las vías de la ciudad. Quieren saber si el número de accidentes ha aumentado en las últimas semanas. Para todos los accidentes reportados, han recopilado detalles para cada accidente y han estado manteniendo registros durante el último año y medio (desde enero de 2018 hasta agosto de 2019).\n",
        "\n",
        "La ciudad te ha contratado para que construyas visualizaciones que les ayuden a identificar patrones en accidentes, lo que les ayudaría a tomar acciones preventivas para reducir la cantidad de accidentes en el futuro. Tienen ciertos parámetros como comuna, hora del día, motivo del accidente, etc. De los que se preocupan y de los que les gustaría obtener información específica.\n",
        "\n",
        "**Problema empresarial.** Su tarea es formatear los datos proporcionados y proporcionar visualizaciones que respondan a las preguntas específicas que tiene el cliente, que se mencionan a continuación.\n",
        "\n",
        "**Contexto analítico.** Se le proporciona un archivo CSV que contiene detalles sobre cada accidente como fecha, hora, ubicación del accidente, motivo del accidente, tipos de vehículos involucrados, recuento de lesiones y muertes, etc. El delimitador en el archivo CSV dado es; en lugar del predeterminado,. Realizará las siguientes tareas con los datos:\n",
        "\n",
        "*    Leer, transformar y preparar datos para su visualización\n",
        "*    Realizar análisis y construir visualizaciones de los datos para identificar patrones en el conjunto de datos.\n",
        "\n",
        "El cliente tiene un conjunto específico de preguntas a las que le gustaría obtener respuestas. Deberá proporcionar visualizaciones para acompañar estos:\n",
        "\n",
        "1.    ¿Cómo ha fluctuado el número de accidentes durante el último año y medio? ¿Han aumentado con el tiempo?\n",
        "2.   Para un día en particular, ¿durante qué horas es más probable que ocurran accidentes?\n",
        "3.    ¿Hay más accidentes entre semana que los fines de semana?\n",
        "4.    ¿Cuál es la proporción de accidentes por área por comuna? ¿Qué distritos tienen un número desproporcionadamente grande de accidentes para su tamaño?\n",
        "5.    Para cada comuna, ¿durante qué horas es más probable que ocurran accidentes?\n",
        "6.    ¿Cuáles son las 5 principales causas de accidentes en la ciudad?"
      ]
    },
    {
      "cell_type": "code",
      "metadata": {
        "id": "pf5H533Td6V1"
      },
      "source": [
        "# Use la siguiente informacipón de cada comuna (\"borough\") para realizar los análisis\n",
        "\n",
        "borough_data = {'the bronx': {'name': 'the bronx', 'population': 1471160.0, 'area': 42.1},\n",
        " 'brooklyn': {'name': 'brooklyn', 'population': 2648771.0, 'area': 70.82},\n",
        " 'manhattan': {'name': 'manhattan', 'population': 1664727.0, 'area': 22.83},\n",
        " 'queens': {'name': 'queens', 'population': 2358582.0, 'area': 108.53},\n",
        " 'staten island': {'name': 'staten island', 'population': 479458.0, 'area': 58.37}}"
      ],
      "execution_count": null,
      "outputs": []
    },
    {
      "cell_type": "markdown",
      "metadata": {
        "id": "QP-Y4A-3d6V2"
      },
      "source": [
        "Tenemos las siguientes columnas\n",
        "\n",
        "     Borough: el comuna en el que ocurrió el accidente.\n",
        "     COLLISION_ID: un identificador único para esta colisión\n",
        "     CONTRIBUTING FACTOR VEHICLE (1, 2, 3, 4, 5): Motivos del accidente\n",
        "     CROSS STREET : Calle transversal más cercana al lugar de los accidentes\n",
        "     DATE: Fecha del accidente\n",
        "     TIME: Hora del accidente\n",
        "     DATETIME: la columna que creamos anteriormente con la combinación de fecha y hora\n",
        "     LATITUDE: Latitud del accidente\n",
        "     LONGITUDE: Longitud del accidente\n",
        "     NUMBER OF (CYCLIST, MOTORIST, PEDESTRIANS) INJURED: Lesión por categoría\n",
        "     NUMBER OF (CYCLIST, MOTORIST, PEDESTRIANS) KILLED: Categoría muerte sabia\n",
        "     ON STREET NAME: Calle donde ocurrió el accidente\n",
        "     TOTAL INJURED: Total de heridos por el accidente\n",
        "     TOTAL KILLED: Total de bajas en el accidente\n",
        "     VEHICLE TYPE CODE (1, 2, 3, 4, 5): Tipos de vehículos involucrados en el accidente\n",
        "     ZIP CODE: código postal del lugar del accidente"
      ]
    },
    {
      "cell_type": "markdown",
      "metadata": {
        "id": "KsHqg54gd6V3"
      },
      "source": [
        "Primero cargue los datos del csv a un dataframe.\n",
        "\n",
        "**Nota:** El archivo se encuentra separado por punto y coma ( ; ) en lugar de coma ( , ), así que se debe ingresar el parámetro sep para leer el archivo. Aquí puede encontrar información:\n",
        "\n",
        "https://pandas.pydata.org/pandas-docs/stable/reference/api/pandas.read_csv.html#pandas.read_csv"
      ]
    },
    {
      "cell_type": "code",
      "metadata": {
        "id": "-lIQwE70d6V3"
      },
      "source": [
        "# Escriba su código aquí\n",
        "df = pd.read_csv('accidents_sample.csv', sep= ';')"
      ],
      "execution_count": 5,
      "outputs": []
    },
    {
      "cell_type": "code",
      "metadata": {
        "colab": {
          "base_uri": "https://localhost:8080/",
          "height": 163
        },
        "id": "tSYbN9nE0tOy",
        "outputId": "2790a690-bda2-4ddc-9a77-684f789c8878"
      },
      "source": [
        "df.head(1)"
      ],
      "execution_count": 6,
      "outputs": [
        {
          "output_type": "execute_result",
          "data": {
            "text/html": [
              "<div>\n",
              "<style scoped>\n",
              "    .dataframe tbody tr th:only-of-type {\n",
              "        vertical-align: middle;\n",
              "    }\n",
              "\n",
              "    .dataframe tbody tr th {\n",
              "        vertical-align: top;\n",
              "    }\n",
              "\n",
              "    .dataframe thead th {\n",
              "        text-align: right;\n",
              "    }\n",
              "</style>\n",
              "<table border=\"1\" class=\"dataframe\">\n",
              "  <thead>\n",
              "    <tr style=\"text-align: right;\">\n",
              "      <th></th>\n",
              "      <th>DATE</th>\n",
              "      <th>TIME</th>\n",
              "      <th>BOROUGH</th>\n",
              "      <th>ZIP CODE</th>\n",
              "      <th>LATITUDE</th>\n",
              "      <th>LONGITUDE</th>\n",
              "      <th>ON STREET NAME</th>\n",
              "      <th>NUMBER OF PEDESTRIANS INJURED</th>\n",
              "      <th>NUMBER OF PEDESTRIANS KILLED</th>\n",
              "      <th>NUMBER OF CYCLIST INJURED</th>\n",
              "      <th>NUMBER OF CYCLIST KILLED</th>\n",
              "      <th>NUMBER OF MOTORIST INJURED</th>\n",
              "      <th>NUMBER OF MOTORIST KILLED</th>\n",
              "      <th>CONTRIBUTING FACTOR VEHICLE 1</th>\n",
              "      <th>CONTRIBUTING FACTOR VEHICLE 2</th>\n",
              "      <th>CONTRIBUTING FACTOR VEHICLE 3</th>\n",
              "      <th>CONTRIBUTING FACTOR VEHICLE 4</th>\n",
              "      <th>CONTRIBUTING FACTOR VEHICLE 5</th>\n",
              "      <th>COLLISION_ID</th>\n",
              "      <th>VEHICLE TYPE CODE 1</th>\n",
              "      <th>VEHICLE TYPE CODE 2</th>\n",
              "      <th>VEHICLE TYPE CODE 3</th>\n",
              "      <th>VEHICLE TYPE CODE 4</th>\n",
              "      <th>VEHICLE TYPE CODE 5</th>\n",
              "    </tr>\n",
              "  </thead>\n",
              "  <tbody>\n",
              "    <tr>\n",
              "      <th>0</th>\n",
              "      <td>05/29/2019</td>\n",
              "      <td>8:19</td>\n",
              "      <td>QUEENS</td>\n",
              "      <td>11368.0</td>\n",
              "      <td>40.75106</td>\n",
              "      <td>-73.86954</td>\n",
              "      <td>NaN</td>\n",
              "      <td>0</td>\n",
              "      <td>0</td>\n",
              "      <td>0</td>\n",
              "      <td>0</td>\n",
              "      <td>0</td>\n",
              "      <td>0</td>\n",
              "      <td>Other Vehicular</td>\n",
              "      <td>Unspecified</td>\n",
              "      <td>NaN</td>\n",
              "      <td>NaN</td>\n",
              "      <td>NaN</td>\n",
              "      <td>4141862</td>\n",
              "      <td>Sedan</td>\n",
              "      <td>NaN</td>\n",
              "      <td>NaN</td>\n",
              "      <td>NaN</td>\n",
              "      <td>NaN</td>\n",
              "    </tr>\n",
              "  </tbody>\n",
              "</table>\n",
              "</div>"
            ],
            "text/plain": [
              "         DATE  TIME  ... VEHICLE TYPE CODE 4  VEHICLE TYPE CODE 5\n",
              "0  05/29/2019  8:19  ...                 NaN                  NaN\n",
              "\n",
              "[1 rows x 24 columns]"
            ]
          },
          "metadata": {},
          "execution_count": 6
        }
      ]
    },
    {
      "cell_type": "code",
      "metadata": {
        "colab": {
          "base_uri": "https://localhost:8080/",
          "height": 196
        },
        "id": "BeVitU1v10TS",
        "outputId": "3994be72-d171-42df-8109-6e9c62d7c395"
      },
      "source": [
        "df[\"DATETIME\"]=df[[\"DATE\",\"TIME\"]].apply(\" \".join, axis=1)\n",
        "df.tail(1)"
      ],
      "execution_count": 7,
      "outputs": [
        {
          "output_type": "execute_result",
          "data": {
            "text/html": [
              "<div>\n",
              "<style scoped>\n",
              "    .dataframe tbody tr th:only-of-type {\n",
              "        vertical-align: middle;\n",
              "    }\n",
              "\n",
              "    .dataframe tbody tr th {\n",
              "        vertical-align: top;\n",
              "    }\n",
              "\n",
              "    .dataframe thead th {\n",
              "        text-align: right;\n",
              "    }\n",
              "</style>\n",
              "<table border=\"1\" class=\"dataframe\">\n",
              "  <thead>\n",
              "    <tr style=\"text-align: right;\">\n",
              "      <th></th>\n",
              "      <th>DATE</th>\n",
              "      <th>TIME</th>\n",
              "      <th>BOROUGH</th>\n",
              "      <th>ZIP CODE</th>\n",
              "      <th>LATITUDE</th>\n",
              "      <th>LONGITUDE</th>\n",
              "      <th>ON STREET NAME</th>\n",
              "      <th>NUMBER OF PEDESTRIANS INJURED</th>\n",
              "      <th>NUMBER OF PEDESTRIANS KILLED</th>\n",
              "      <th>NUMBER OF CYCLIST INJURED</th>\n",
              "      <th>NUMBER OF CYCLIST KILLED</th>\n",
              "      <th>NUMBER OF MOTORIST INJURED</th>\n",
              "      <th>NUMBER OF MOTORIST KILLED</th>\n",
              "      <th>CONTRIBUTING FACTOR VEHICLE 1</th>\n",
              "      <th>CONTRIBUTING FACTOR VEHICLE 2</th>\n",
              "      <th>CONTRIBUTING FACTOR VEHICLE 3</th>\n",
              "      <th>CONTRIBUTING FACTOR VEHICLE 4</th>\n",
              "      <th>CONTRIBUTING FACTOR VEHICLE 5</th>\n",
              "      <th>COLLISION_ID</th>\n",
              "      <th>VEHICLE TYPE CODE 1</th>\n",
              "      <th>VEHICLE TYPE CODE 2</th>\n",
              "      <th>VEHICLE TYPE CODE 3</th>\n",
              "      <th>VEHICLE TYPE CODE 4</th>\n",
              "      <th>VEHICLE TYPE CODE 5</th>\n",
              "      <th>DATETIME</th>\n",
              "    </tr>\n",
              "  </thead>\n",
              "  <tbody>\n",
              "    <tr>\n",
              "      <th>47703</th>\n",
              "      <td>09/23/2018</td>\n",
              "      <td>17:28</td>\n",
              "      <td>STATEN ISLAND</td>\n",
              "      <td>10312.0</td>\n",
              "      <td>40.53874</td>\n",
              "      <td>-74.164894</td>\n",
              "      <td>NaN</td>\n",
              "      <td>0</td>\n",
              "      <td>0</td>\n",
              "      <td>0</td>\n",
              "      <td>0</td>\n",
              "      <td>0</td>\n",
              "      <td>0</td>\n",
              "      <td>Driverless/Runaway Vehicle</td>\n",
              "      <td>Unspecified</td>\n",
              "      <td>NaN</td>\n",
              "      <td>NaN</td>\n",
              "      <td>NaN</td>\n",
              "      <td>3986151</td>\n",
              "      <td>Station Wagon/Sport Utility Vehicle</td>\n",
              "      <td>Station Wagon/Sport Utility Vehicle</td>\n",
              "      <td>NaN</td>\n",
              "      <td>NaN</td>\n",
              "      <td>NaN</td>\n",
              "      <td>09/23/2018 17:28</td>\n",
              "    </tr>\n",
              "  </tbody>\n",
              "</table>\n",
              "</div>"
            ],
            "text/plain": [
              "             DATE   TIME  ... VEHICLE TYPE CODE 5          DATETIME\n",
              "47703  09/23/2018  17:28  ...                 NaN  09/23/2018 17:28\n",
              "\n",
              "[1 rows x 25 columns]"
            ]
          },
          "metadata": {},
          "execution_count": 7
        }
      ]
    },
    {
      "cell_type": "code",
      "metadata": {
        "colab": {
          "base_uri": "https://localhost:8080/"
        },
        "id": "Lvi6gHN55YuW",
        "outputId": "00fd9577-4250-4229-b10d-971d100ac020"
      },
      "source": [
        "df[\"DATETIME\"] = pd.to_datetime(df[\"DATETIME\"])\n",
        "df.dtypes\n"
      ],
      "execution_count": 8,
      "outputs": [
        {
          "output_type": "execute_result",
          "data": {
            "text/plain": [
              "DATE                                     object\n",
              "TIME                                     object\n",
              "BOROUGH                                  object\n",
              "ZIP CODE                                float64\n",
              "LATITUDE                                float64\n",
              "LONGITUDE                               float64\n",
              "ON STREET NAME                           object\n",
              "NUMBER OF PEDESTRIANS INJURED             int64\n",
              "NUMBER OF PEDESTRIANS KILLED              int64\n",
              "NUMBER OF CYCLIST INJURED                 int64\n",
              "NUMBER OF CYCLIST KILLED                  int64\n",
              "NUMBER OF MOTORIST INJURED                int64\n",
              "NUMBER OF MOTORIST KILLED                 int64\n",
              "CONTRIBUTING FACTOR VEHICLE 1            object\n",
              "CONTRIBUTING FACTOR VEHICLE 2            object\n",
              "CONTRIBUTING FACTOR VEHICLE 3            object\n",
              "CONTRIBUTING FACTOR VEHICLE 4            object\n",
              "CONTRIBUTING FACTOR VEHICLE 5            object\n",
              "COLLISION_ID                              int64\n",
              "VEHICLE TYPE CODE 1                      object\n",
              "VEHICLE TYPE CODE 2                      object\n",
              "VEHICLE TYPE CODE 3                      object\n",
              "VEHICLE TYPE CODE 4                      object\n",
              "VEHICLE TYPE CODE 5                      object\n",
              "DATETIME                         datetime64[ns]\n",
              "dtype: object"
            ]
          },
          "metadata": {},
          "execution_count": 8
        }
      ]
    },
    {
      "cell_type": "markdown",
      "metadata": {
        "id": "icNi1Weed6V4"
      },
      "source": [
        "## Parte 1: Accidentes a lo largo del tiempo\n",
        "\n",
        "Agrupe los datos disponibles mensualmente y genere una gráfica lineal de accidentes a lo largo del tiempo. ¿Ha aumentado el número de accidentes durante el último año y medio?"
      ]
    },
    {
      "cell_type": "code",
      "metadata": {
        "colab": {
          "base_uri": "https://localhost:8080/",
          "height": 332
        },
        "id": "7ggIzWDotAjs",
        "outputId": "0539438f-7efd-4013-f1aa-191d0a612b4f"
      },
      "source": [
        "df[\"DATETIME\"].groupby(df[\"DATETIME\"].dt.to_period(\"m\")).agg(\"count\").plot()\n",
        "plt.title(\"Accidentes entre 2018 y 2019\",fontsize=18,color=\"rebeccapurple\")\n",
        "plt.xlabel(\"Meses por año\",fontsize=15,color=\"darkslateblue\")\n",
        "plt.ylabel(\"Numero de accidentes\",fontsize=15,color=\"darkslateblue\")\n"
      ],
      "execution_count": 9,
      "outputs": [
        {
          "output_type": "execute_result",
          "data": {
            "text/plain": [
              "Text(0, 0.5, 'Numero de accidentes')"
            ]
          },
          "metadata": {},
          "execution_count": 9
        },
        {
          "output_type": "display_data",
          "data": {
            "image/png": "[encoded data removed]",
            "text/plain": [
              "<Figure size 432x288 with 1 Axes>"
            ]
          },
          "metadata": {
            "needs_background": "light"
          }
        }
      ]
    },
    {
      "cell_type": "markdown",
      "metadata": {
        "id": "D-gBURtr10CP"
      },
      "source": [
        ""
      ]
    },
    {
      "cell_type": "markdown",
      "metadata": {
        "id": "NqOw_sajd6V7"
      },
      "source": [
        "## Parte 2: Puntos calientes de accidentes en un día\n",
        "\n",
        "¿Cómo varía el número de accidentes a lo largo de un solo día? Cree una nueva columna HORA basada en los datos de la columna DATETIME, luego trace un gráfico de barras de la distribución por hora a lo largo del día."
      ]
    },
    {
      "cell_type": "markdown",
      "metadata": {
        "id": "99uLJKQJ721H"
      },
      "source": [
        ""
      ]
    },
    {
      "cell_type": "code",
      "metadata": {
        "id": "kHYzsDXOh7yp"
      },
      "source": [
        "df[\"HOUR\"]=df[\"DATETIME\"]"
      ],
      "execution_count": 22,
      "outputs": []
    },
    {
      "cell_type": "code",
      "metadata": {
        "colab": {
          "base_uri": "https://localhost:8080/",
          "height": 180
        },
        "id": "DbKxJ-64Tm8u",
        "outputId": "3f9a4278-675c-4d8a-8a7d-59fd0402684f"
      },
      "source": [
        "df[\"HOUR\"]=pd.to_datetime(df[\"HOUR\"],format=\"%H:%M\")\n",
        "df.head(1)"
      ],
      "execution_count": 23,
      "outputs": [
        {
          "output_type": "execute_result",
          "data": {
            "text/html": [
              "<div>\n",
              "<style scoped>\n",
              "    .dataframe tbody tr th:only-of-type {\n",
              "        vertical-align: middle;\n",
              "    }\n",
              "\n",
              "    .dataframe tbody tr th {\n",
              "        vertical-align: top;\n",
              "    }\n",
              "\n",
              "    .dataframe thead th {\n",
              "        text-align: right;\n",
              "    }\n",
              "</style>\n",
              "<table border=\"1\" class=\"dataframe\">\n",
              "  <thead>\n",
              "    <tr style=\"text-align: right;\">\n",
              "      <th></th>\n",
              "      <th>DATE</th>\n",
              "      <th>TIME</th>\n",
              "      <th>BOROUGH</th>\n",
              "      <th>ZIP CODE</th>\n",
              "      <th>LATITUDE</th>\n",
              "      <th>LONGITUDE</th>\n",
              "      <th>ON STREET NAME</th>\n",
              "      <th>NUMBER OF PEDESTRIANS INJURED</th>\n",
              "      <th>NUMBER OF PEDESTRIANS KILLED</th>\n",
              "      <th>NUMBER OF CYCLIST INJURED</th>\n",
              "      <th>NUMBER OF CYCLIST KILLED</th>\n",
              "      <th>NUMBER OF MOTORIST INJURED</th>\n",
              "      <th>NUMBER OF MOTORIST KILLED</th>\n",
              "      <th>CONTRIBUTING FACTOR VEHICLE 1</th>\n",
              "      <th>CONTRIBUTING FACTOR VEHICLE 2</th>\n",
              "      <th>CONTRIBUTING FACTOR VEHICLE 3</th>\n",
              "      <th>CONTRIBUTING FACTOR VEHICLE 4</th>\n",
              "      <th>CONTRIBUTING FACTOR VEHICLE 5</th>\n",
              "      <th>COLLISION_ID</th>\n",
              "      <th>VEHICLE TYPE CODE 1</th>\n",
              "      <th>VEHICLE TYPE CODE 2</th>\n",
              "      <th>VEHICLE TYPE CODE 3</th>\n",
              "      <th>VEHICLE TYPE CODE 4</th>\n",
              "      <th>VEHICLE TYPE CODE 5</th>\n",
              "      <th>DATETIME</th>\n",
              "      <th>HOUR</th>\n",
              "    </tr>\n",
              "  </thead>\n",
              "  <tbody>\n",
              "    <tr>\n",
              "      <th>0</th>\n",
              "      <td>05/29/2019</td>\n",
              "      <td>8:19</td>\n",
              "      <td>QUEENS</td>\n",
              "      <td>11368.0</td>\n",
              "      <td>40.75106</td>\n",
              "      <td>-73.86954</td>\n",
              "      <td>NaN</td>\n",
              "      <td>0</td>\n",
              "      <td>0</td>\n",
              "      <td>0</td>\n",
              "      <td>0</td>\n",
              "      <td>0</td>\n",
              "      <td>0</td>\n",
              "      <td>Other Vehicular</td>\n",
              "      <td>Unspecified</td>\n",
              "      <td>NaN</td>\n",
              "      <td>NaN</td>\n",
              "      <td>NaN</td>\n",
              "      <td>4141862</td>\n",
              "      <td>Sedan</td>\n",
              "      <td>NaN</td>\n",
              "      <td>NaN</td>\n",
              "      <td>NaN</td>\n",
              "      <td>NaN</td>\n",
              "      <td>2019-05-29 08:19:00</td>\n",
              "      <td>2019-05-29 08:19:00</td>\n",
              "    </tr>\n",
              "  </tbody>\n",
              "</table>\n",
              "</div>"
            ],
            "text/plain": [
              "         DATE  TIME  ...            DATETIME                HOUR\n",
              "0  05/29/2019  8:19  ... 2019-05-29 08:19:00 2019-05-29 08:19:00\n",
              "\n",
              "[1 rows x 26 columns]"
            ]
          },
          "metadata": {},
          "execution_count": 23
        }
      ]
    },
    {
      "cell_type": "code",
      "metadata": {
        "colab": {
          "base_uri": "https://localhost:8080/",
          "height": 298
        },
        "id": "eKIWEb2pFDgz",
        "outputId": "7ba3c2b7-5ba1-4e3e-e5b8-e3118273220c"
      },
      "source": [
        "df[\"HOUR\"].groupby(df[\"HOUR\"].dt.hour).count().plot(kind=\"bar\",color=\"red\")"
      ],
      "execution_count": 24,
      "outputs": [
        {
          "output_type": "execute_result",
          "data": {
            "text/plain": [
              "<matplotlib.axes._subplots.AxesSubplot at 0x7f0c6bfa6b50>"
            ]
          },
          "metadata": {},
          "execution_count": 24
        },
        {
          "output_type": "display_data",
          "data": {
            "image/png": "[encoded data removed]",
            "text/plain": [
              "<Figure size 432x288 with 1 Axes>"
            ]
          },
          "metadata": {
            "needs_background": "light"
          }
        }
      ]
    },
    {
      "cell_type": "code",
      "metadata": {
        "id": "Hjw3Mn3Ukj2K"
      },
      "source": [
        ""
      ],
      "execution_count": null,
      "outputs": []
    },
    {
      "cell_type": "code",
      "metadata": {
        "colab": {
          "base_uri": "https://localhost:8080/",
          "height": 175
        },
        "id": "R--98q92Dtob",
        "outputId": "b3851965-1b2d-405a-dcfd-7e135967cff9"
      },
      "source": [
        "plt.bar(x=df[\"TIME\"],height=df[\"HOUR\"],color=\"red\")\n",
        "plt.title(\"Horas\")"
      ],
      "execution_count": null,
      "outputs": [
        {
          "output_type": "error",
          "ename": "TypeError",
          "evalue": "ignored",
          "traceback": [
            "\u001b[0;31m---------------------------------------------------------------------------\u001b[0m",
            "\u001b[0;31mTypeError\u001b[0m                                 Traceback (most recent call last)",
            "\u001b[0;32m<ipython-input-94-c94440429057>\u001b[0m in \u001b[0;36m<module>\u001b[0;34m()\u001b[0m\n\u001b[0;32m----> 1\u001b[0;31m \u001b[0mplt\u001b[0m\u001b[0;34m.\u001b[0m\u001b[0mbar\u001b[0m\u001b[0;34m(\u001b[0m\u001b[0mx\u001b[0m\u001b[0;34m=\u001b[0m\u001b[0mdf\u001b[0m\u001b[0;34m[\u001b[0m\u001b[0;34m\"TIME\"\u001b[0m\u001b[0;34m]\u001b[0m\u001b[0;34m,\u001b[0m\u001b[0mheight\u001b[0m\u001b[0;34m=\u001b[0m\u001b[0mdf\u001b[0m\u001b[0;34m[\u001b[0m\u001b[0;34m\"HOUR\"\u001b[0m\u001b[0;34m]\u001b[0m\u001b[0;34m,\u001b[0m\u001b[0mcolor\u001b[0m\u001b[0;34m=\u001b[0m\u001b[0;34m\"red\"\u001b[0m\u001b[0;34m)\u001b[0m\u001b[0;34m\u001b[0m\u001b[0;34m\u001b[0m\u001b[0m\n\u001b[0m\u001b[1;32m      2\u001b[0m \u001b[0mplt\u001b[0m\u001b[0;34m.\u001b[0m\u001b[0mtitle\u001b[0m\u001b[0;34m(\u001b[0m\u001b[0;34m\"Horas\"\u001b[0m\u001b[0;34m)\u001b[0m\u001b[0;34m\u001b[0m\u001b[0;34m\u001b[0m\u001b[0m\n",
            "\u001b[0;31mTypeError\u001b[0m: 'Series' object is not callable"
          ]
        }
      ]
    },
    {
      "cell_type": "code",
      "metadata": {
        "colab": {
          "base_uri": "https://localhost:8080/"
        },
        "id": "Od1dLG_C54My",
        "outputId": "af8e3145-5d8c-4fb7-dcb9-9c853f9170ef"
      },
      "source": [
        ""
      ],
      "execution_count": null,
      "outputs": [
        {
          "output_type": "execute_result",
          "data": {
            "text/plain": [
              "47704"
            ]
          },
          "metadata": {},
          "execution_count": 58
        }
      ]
    },
    {
      "cell_type": "markdown",
      "metadata": {
        "id": "DbVnzWWGd6V8"
      },
      "source": [
        "## Parte 3: Accidentes por día laborable\n",
        "\n",
        "¿Cómo varía el número de accidentes en una sola semana? Trace un gráfico de barras basado en el recuento de accidentes por día de la semana."
      ]
    },
    {
      "cell_type": "code",
      "metadata": {
        "colab": {
          "base_uri": "https://localhost:8080/",
          "height": 343
        },
        "id": "wjmKw6mGd6V8",
        "outputId": "ff5bd746-1a18-4532-c064-99df1d150c85"
      },
      "source": [
        "df[\"DATETIME\"].groupby(df[\"DATETIME\"].dt.day_name()).agg(\"count\").plot(kind=\"bar\",color=\"green\")\n",
        "plt.title\n",
        "plt.xlabel\n",
        "plt.ylabel"
      ],
      "execution_count": null,
      "outputs": [
        {
          "output_type": "execute_result",
          "data": {
            "text/plain": [
              "<matplotlib.axes._subplots.AxesSubplot at 0x7ff45f75c690>"
            ]
          },
          "metadata": {},
          "execution_count": 79
        },
        {
          "output_type": "display_data",
          "data": {
            "image/png": "[encoded data removed]",
            "text/plain": [
              "<Figure size 432x288 with 1 Axes>"
            ]
          },
          "metadata": {
            "needs_background": "light"
          }
        }
      ]
    },
    {
      "cell_type": "code",
      "metadata": {
        "id": "s-5ou38SnVhq"
      },
      "source": [
        ""
      ],
      "execution_count": null,
      "outputs": []
    },
    {
      "cell_type": "markdown",
      "metadata": {
        "id": "7fNI3lqed6V9"
      },
      "source": [
        "## Parte 4: Análisis de comuna\n",
        "\n",
        "Trace un gráfico de barras del número total de accidentes en cada comuna, así como uno de los accidentes por kilómetro cuadrado por comuna. ¿Qué puedes concluir?"
      ]
    },
    {
      "cell_type": "code",
      "metadata": {
        "id": "ZDt6VtoTd6V9"
      },
      "source": [
        "# Escriba su código aquí\n"
      ],
      "execution_count": null,
      "outputs": []
    },
    {
      "cell_type": "code",
      "metadata": {
        "id": "0IZ5wdjcNQ5-"
      },
      "source": [
        ""
      ],
      "execution_count": null,
      "outputs": []
    },
    {
      "cell_type": "markdown",
      "metadata": {
        "id": "T7GhKEKRd6V9"
      },
      "source": [
        "## Parte 5: Análisis por hora del comuna\n",
        "\n",
        "¿Qué horas tienen más accidentes en cada comuna? Trace un gráfico de barras para cada comuna que muestre el número de accidentes por cada hora del día."
      ]
    },
    {
      "cell_type": "code",
      "metadata": {
        "id": "26MV8Ak0d6V9"
      },
      "source": [
        "# Escriba su código aquí\n"
      ],
      "execution_count": null,
      "outputs": []
    },
    {
      "cell_type": "markdown",
      "metadata": {
        "id": "6PPahsuVd6V-"
      },
      "source": [
        "## Parte 6: Causa de accidentes\n",
        "\n",
        "¿Qué factores provocan la mayoría de los accidentes?"
      ]
    },
    {
      "cell_type": "code",
      "metadata": {
        "id": "C2TiU-2gd6V-"
      },
      "source": [
        "# Escriba su código aquí\n"
      ],
      "execution_count": null,
      "outputs": []
    }
  ]
}