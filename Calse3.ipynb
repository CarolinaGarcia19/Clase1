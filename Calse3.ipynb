{
  "nbformat": 4,
  "nbformat_minor": 0,
  "metadata": {
    "colab": {
      "name": "Calse3.ipynb",
      "provenance": [],
      "authorship_tag": "ABX9TyMHsgvvC5RP/33UzhanMQ8p",
      "include_colab_link": true
    },
    "kernelspec": {
      "name": "python3",
      "display_name": "Python 3"
    },
    "language_info": {
      "name": "python"
    }
  },
  "cells": [
    {
      "cell_type": "markdown",
      "metadata": {
        "id": "view-in-github",
        "colab_type": "text"
      },
      "source": [
        "<a href=\"https://colab.research.google.com/github/CarolinaGarcia19/Clase1/blob/main/Calse3.ipynb\" target=\"_parent\"><img src=\"https://colab.research.google.com/assets/colab-badge.svg\" alt=\"Open In Colab\"/></a>"
      ]
    },
    {
      "cell_type": "markdown",
      "metadata": {
        "id": "bufb-Cak6kLE"
      },
      "source": [
        "**Estructuras de condicionales (Control)**\n",
        "\n",
        "---\n",
        "Al momento de construir una instruccion de tipo condicional se debera comprender que dichas instrucciones estan diseñadas para ayudar a la toma de decisiones:\n",
        "\n",
        "Ejemplo:\n",
        "**Si** pedro va a la tienda por la izquierda llegara mas rapido, sino se demorara mas.\n",
        "\n",
        "Existen varios tipos de instrucciones, algunos pueden ser simples y otros multiples.\n",
        "Sin embargo, solo se generan dos resultados.\n",
        "1. Verdadero\n",
        "2. Falso\n",
        "\n",
        "En Python tales resultados serian True o False."
      ]
    },
    {
      "cell_type": "markdown",
      "metadata": {
        "id": "LJ_HR5Ve6c0h"
      },
      "source": [
        "Para aplicar los condicionales que veremos a continuacion debemos recordar los comandos vistos en la clase anterior:\n",
        "\n",
        "1. Igualdad (==) // 2==7 // False\n",
        "2. Diferencia(!=)//rosado!=verde// True\n",
        "3. Menor que (<) //12<11//False\n",
        "4. Mayor que (>) //1>=2//False\n",
        "5. Menor o igual que (<=)//30<=30//True\n",
        "6. Mayor o igual que (>=)//1>=2//False"
      ]
    },
    {
      "cell_type": "markdown",
      "metadata": {
        "id": "-bX9wHZA7uzO"
      },
      "source": [
        "En condiciones multiples,podemos enlazar los operadores logicos:\n",
        "1. y(and)\n",
        "2. o(or)\n",
        "3. No(no)\n",
        "\n",
        "Ejemplos:\n",
        "1.3==8 and 8>12 // False\n",
        "2.3==3 or 15<3 // True\n",
        "3.not true // FAlse"
      ]
    },
    {
      "cell_type": "markdown",
      "metadata": {
        "id": "XCbQpLXC738j"
      },
      "source": [
        "Para aplicar los operadores matematicos y logicos tenemos que tener en cuenta lo que llamamos **Diagrama de flujos**, esto nos permite una mayor organizacion de las ideas para la toma de decisiones.\n"
      ]
    },
    {
      "cell_type": "markdown",
      "metadata": {
        "id": "rsZSSARvV8ua"
      },
      "source": [
        "**El comando if**\n",
        "\n",
        "---\n",
        "Este comando permite evaluar si una sentencia es verdadera o falsa. Es decir, se ejecuta una accion establecida mediante un codigo de instruccion o varias instrucciones inmediatamente en las lineas siguientes de dicha condicion."
      ]
    },
    {
      "cell_type": "code",
      "metadata": {
        "colab": {
          "base_uri": "https://localhost:8080/"
        },
        "id": "ybDP9mm9WXYg",
        "outputId": "32c43318-a1fd-4408-9ba7-d737bfdc78eb"
      },
      "source": [
        "num = input(\"Escribir un numero cualquiera\n",
        "if num == 200:\n",
        "  print(\"Escribiste el 200\")\n",
        "  "
      ],
      "execution_count": 1,
      "outputs": [
        {
          "output_type": "stream",
          "text": [
            "Escribir un numero cualquiera200\n"
          ],
          "name": "stdout"
        }
      ]
    },
    {
      "cell_type": "markdown",
      "metadata": {
        "id": "Tgrfn85LXNS5"
      },
      "source": [
        "**El comando ELSE**\n",
        "\n",
        "---\n",
        "En español es conocido como \"si no\". Este comando permite relaccionar las acciones que deberia realizar en caso de que la condicion sea falsa."
      ]
    },
    {
      "cell_type": "code",
      "metadata": {
        "colab": {
          "base_uri": "https://localhost:8080/"
        },
        "id": "yAmBTt2vdTTh",
        "outputId": "76ff54ff-45ca-4e34-8bdd-7ef8e1707466"
      },
      "source": [
        "num =int(input(\"Escribir un numero cualquiera\"))\n",
        "if num == 200:\n",
        "  print(\"Escribiste el 200\")\n",
        "else:\n",
        "    print(\"El numero escrito no es 200\")\n"
      ],
      "execution_count": 10,
      "outputs": [
        {
          "output_type": "stream",
          "text": [
            "Escribir un numero cualquiera100\n",
            "El numero escrito no es 200\n"
          ],
          "name": "stdout"
        }
      ]
    },
    {
      "cell_type": "markdown",
      "metadata": {
        "id": "0Q1yksMTgHjV"
      },
      "source": [
        "**El comando ELIF**\n",
        "\n",
        "---\n",
        "Significa \"sino,si\" y permite concatenar condiciones:\n"
      ]
    },
    {
      "cell_type": "code",
      "metadata": {
        "colab": {
          "base_uri": "https://localhost:8080/"
        },
        "id": "KItiZRWbgU-r",
        "outputId": "1fab6857-1047-45d9-ca0b-b48222110dd0"
      },
      "source": [
        "num =int(input(\"Escribir un numero cualquiera\"))\n",
        "if num == 200:\n",
        "  print(\"Escribiste el 200\")\n",
        "elif num> 200:\n",
        "  print(\"El numero escrito es mayor a 200\") \n",
        "else:\n",
        "  print(\"El numero escrito no es 200\")"
      ],
      "execution_count": 19,
      "outputs": [
        {
          "output_type": "stream",
          "text": [
            "Escribir un numero cualquiera300\n",
            "El numero escrito es mayor a 200\n"
          ],
          "name": "stdout"
        }
      ]
    },
    {
      "cell_type": "markdown",
      "metadata": {
        "id": "s2Jxx5RvkMkd"
      },
      "source": [
        "**condicionales Multiples**\n",
        "\n",
        "---\n",
        "Cuando se presentan situaciones o mas de una condicion que dependen unas de otras, estas se pueden tratar mediante el manejo de varias senencias o comandos if, o mediante el manejo adecuado del comando elif. Sin embargo en muchos casos cuando hay multiples condiciones, la programacion necesita mayor cantidad de lineas de codigo.\n",
        "\n",
        "En esos caso es necesario el uso de operadores logicos como el and y el or."
      ]
    },
    {
      "cell_type": "code",
      "metadata": {
        "colab": {
          "base_uri": "https://localhost:8080/"
        },
        "id": "LYSsbfDwlAka",
        "outputId": "dcc2d7af-2439-4e6d-9ba3-5896bc894496"
      },
      "source": [
        "x=int(input(\"valor\"))#condicion anidada\n",
        "if 0<x:\n",
        " if x<10:\n",
        "  print(\"x es un numero positivo\")                                        "
      ],
      "execution_count": 24,
      "outputs": [
        {
          "output_type": "stream",
          "text": [
            "valor15\n"
          ],
          "name": "stdout"
        }
      ]
    },
    {
      "cell_type": "code",
      "metadata": {
        "colab": {
          "base_uri": "https://localhost:8080/"
        },
        "id": "40ltaJ1kmz62",
        "outputId": "0f24387e-5952-465f-d087-702b956f6a44"
      },
      "source": [
        "x=int(input(\"valor\"))#Expresion booleana\n",
        "if 0<x and x<10:\n",
        "  print(\"x es un numero de un solo digito\")"
      ],
      "execution_count": 25,
      "outputs": [
        {
          "output_type": "stream",
          "text": [
            "valor51\n"
          ],
          "name": "stdout"
        }
      ]
    },
    {
      "cell_type": "code",
      "metadata": {
        "colab": {
          "base_uri": "https://localhost:8080/"
        },
        "id": "Now-Oa4nnVb0",
        "outputId": "05571047-ecab-4300-e287-b7d6e6eebd6f"
      },
      "source": [
        "x=int(input(\"valor\"))\n",
        "if 0<x<10:\n",
        " print(\"x es un numero de un solo digito\")"
      ],
      "execution_count": 27,
      "outputs": [
        {
          "output_type": "stream",
          "text": [
            "valor9\n",
            "x es un numero de un solo digito\n"
          ],
          "name": "stdout"
        }
      ]
    },
    {
      "cell_type": "markdown",
      "metadata": {
        "id": "fwj3aICXoZkN"
      },
      "source": [
        "Esta condicion es la misma expresion booleana compuesta y la misma condicional anidada."
      ]
    },
    {
      "cell_type": "markdown",
      "metadata": {
        "id": "mp4pf3AXpzeQ"
      },
      "source": [
        "**Estructura de control iterativas**\n",
        "\n",
        "---\n",
        "Las variables son claves en las estructuras de control iterativas, puesto que son el medio entre la iteracion y la condicion que se este ejecutando.\n",
        "\n",
        "**¿Que es iteracion?**\n",
        "Iteracion es la consecucion del codigo tantas veces requiera hasta que se cumplan las condiciones establecidas.\n",
        "\n",
        "**Banderas**\n",
        "Son las variables que toman un valor preferiblemente binario, booleano e indican un estado.\n",
        "Ejemplo:\n"
      ]
    },
    {
      "cell_type": "code",
      "metadata": {
        "colab": {
          "base_uri": "https://localhost:8080/"
        },
        "id": "8DfprIKAqorg",
        "outputId": "a5d2884a-6267-417e-f3e2-b4fc6f2e74ac"
      },
      "source": [
        "suma=False\n",
        "total=0\n",
        "a=3\n",
        "b=10\n",
        "if(suma==False):\n",
        "  total=a+b\n",
        "  suma=True\n",
        "\n",
        "if(suma==True):\n",
        "  print(\"el valor total de la suma es:\", total)"
      ],
      "execution_count": 30,
      "outputs": [
        {
          "output_type": "stream",
          "text": [
            "el valor total de la suma es: 13\n"
          ],
          "name": "stdout"
        }
      ]
    },
    {
      "cell_type": "markdown",
      "metadata": {
        "id": "dSqC3b7xsbVB"
      },
      "source": [
        "La variable suma en este caso es de tipo booleano y su funcion es indicar cuando se ejecuto la suma, por lo tanto tiene un estado inicial \"False\", pero luego de ejecutar la suma toma el valor true.\n",
        "Cuando pasa esto escuchamos la frase \"la bandera se levanto\". Esto quiere decir que una u otra accion hizo que el estado de la bandera cambiara.\n",
        "\n",
        "Ejemplo cualitativo:**CASO CONTAGIO**\n"
      ]
    },
    {
      "cell_type": "code",
      "metadata": {
        "colab": {
          "base_uri": "https://localhost:8080/"
        },
        "id": "W9T8QrPotWHY",
        "outputId": "bf8eb879-e549-47ba-887b-554c5ca6095d"
      },
      "source": [
        "\n",
        "paciente=input(\"Nombre del paciente\")\n",
        "contagio_v=input(\"¿Te has realizado la prueba de contagio?\")\n",
        "\n",
        "if (contagio_v==\"No\"):\n",
        "  print(\"La paciente\", paciente, \"No se ha realizado la prueba para validar, por favor realizarse la prueba en el centro de salud mas cercano\")\n",
        "  print(\"Aplicarse la prueba\")\n",
        " \n",
        "\n",
        "if (contagio_v==\"Pendiente\"): \n",
        " print(paciente,\"por favor revisar el correo donde se le adjunto el resultado de la prueba\")\n",
        " contagio_v=\"si\"\n",
        "\n",
        "if (contagio_v==\"Si\"): \n",
        " print(paciente,\"Dado que es POSITIVO el resultado de su prueba, mantener una distancia de las personas por lo menos 15 dias\")\n",
        "\n"
      ],
      "execution_count": 38,
      "outputs": [
        {
          "output_type": "stream",
          "text": [
            "Nombre del pacientejulio\n",
            "¿Te has realizado la prueba de contagio?no\n"
          ],
          "name": "stdout"
        }
      ]
    },
    {
      "cell_type": "markdown",
      "metadata": {
        "id": "cMS9PiLPxWqK"
      },
      "source": [
        "**Ejercicio en clase**\n",
        "\n",
        "---\n"
      ]
    }
  ]
}