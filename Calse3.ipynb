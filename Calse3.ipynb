{
  "nbformat": 4,
  "nbformat_minor": 0,
  "metadata": {
    "colab": {
      "name": "Calse3.ipynb",
      "provenance": [],
      "authorship_tag": "ABX9TyNdBJbNE5VMVKsBIT+oexTp",
      "include_colab_link": true
    },
    "kernelspec": {
      "name": "python3",
      "display_name": "Python 3"
    },
    "language_info": {
      "name": "python"
    }
  },
  "cells": [
    {
      "cell_type": "markdown",
      "metadata": {
        "id": "view-in-github",
        "colab_type": "text"
      },
      "source": [
        "<a href=\"https://colab.research.google.com/github/CarolinaGarcia19/Clase1/blob/main/Calse3.ipynb\" target=\"_parent\"><img src=\"https://colab.research.google.com/assets/colab-badge.svg\" alt=\"Open In Colab\"/></a>"
      ]
    },
    {
      "cell_type": "markdown",
      "metadata": {
        "id": "bufb-Cak6kLE"
      },
      "source": [
        "**Estructuras de condicionales (Control)**\n",
        "\n",
        "---\n",
        "Al momento de construir una instruccion de tipo condicional se debera comprender que dichas instrucciones estan diseñadas para ayudar a la toma de decisiones:\n",
        "\n",
        "Ejemplo:\n",
        "**Si** pedro va a la tienda por la izquierda llegara mas rapido, sino se demorara mas.\n",
        "\n",
        "Existen varios tipos de instrucciones, algunos pueden ser simples y otros multiples.\n",
        "Sin embargo, solo se generan dos resultados.\n",
        "1. Verdadero\n",
        "2. Falso\n",
        "\n",
        "En Python tales resultados serian True o False."
      ]
    },
    {
      "cell_type": "markdown",
      "metadata": {
        "id": "LJ_HR5Ve6c0h"
      },
      "source": [
        "Para aplicar los condicionales que veremos a continuacion debemos recordar los comandos vistos en la clase anterior:\n",
        "\n",
        "1. Igualdad (==) // 2==7 // False\n",
        "2. Diferencia(!=)//rosado!=verde// True\n",
        "3. Menor que (<) //12<11//False\n",
        "4. Mayor que (>) //1>=2//False\n",
        "5. Menor o igual que (<=)//30<=30//True\n",
        "6. Mayor o igual que (>=)//1>=2//False"
      ]
    },
    {
      "cell_type": "markdown",
      "metadata": {
        "id": "-bX9wHZA7uzO"
      },
      "source": [
        "En condiciones multiples,podemos enlazar los operadores logicos:\n",
        "1. y(and)\n",
        "2. o(or)\n",
        "3. No(no)\n",
        "\n",
        "Ejemplos:\n",
        "1.3==8 and 8>12 // False\n",
        "2.3==3 or 15<3 // True\n",
        "3.not true // FAlse"
      ]
    },
    {
      "cell_type": "markdown",
      "metadata": {
        "id": "XCbQpLXC738j"
      },
      "source": [
        "Para aplicar los operadores matematicos y logicos tenemos que tener en cuenta lo que llamamos **Diagrama de flujos**, esto nos permite una mayor organizacion de las ideas para la toma de decisiones.\n"
      ]
    },
    {
      "cell_type": "markdown",
      "metadata": {
        "id": "rsZSSARvV8ua"
      },
      "source": [
        "**El comando if**\n",
        "\n",
        "---\n",
        "Este comando permite evaluar si una sentencia es verdadera o falsa. Es decir, se ejecuta una accion establecida mediante un codigo de instruccion o varias instrucciones inmediatamente en las lineas siguientes de dicha condicion."
      ]
    },
    {
      "cell_type": "code",
      "metadata": {
        "colab": {
          "base_uri": "https://localhost:8080/"
        },
        "id": "ybDP9mm9WXYg",
        "outputId": "32c43318-a1fd-4408-9ba7-d737bfdc78eb"
      },
      "source": [
        "num = input(\"Escribir un numero cualquiera\n",
        "if num == 200:\n",
        "  print(\"Escribiste el 200\")\n",
        "  "
      ],
      "execution_count": null,
      "outputs": [
        {
          "output_type": "stream",
          "text": [
            "Escribir un numero cualquiera200\n"
          ],
          "name": "stdout"
        }
      ]
    },
    {
      "cell_type": "markdown",
      "metadata": {
        "id": "Tgrfn85LXNS5"
      },
      "source": [
        "**El comando ELSE**\n",
        "\n",
        "---\n",
        "En español es conocido como \"si no\". Este comando permite relaccionar las acciones que deberia realizar en caso de que la condicion sea falsa."
      ]
    },
    {
      "cell_type": "code",
      "metadata": {
        "colab": {
          "base_uri": "https://localhost:8080/"
        },
        "id": "yAmBTt2vdTTh",
        "outputId": "76ff54ff-45ca-4e34-8bdd-7ef8e1707466"
      },
      "source": [
        "num =int(input(\"Escribir un numero cualquiera\"))\n",
        "if num == 200:\n",
        "  print(\"Escribiste el 200\")\n",
        "else:\n",
        "    print(\"El numero escrito no es 200\")\n"
      ],
      "execution_count": null,
      "outputs": [
        {
          "output_type": "stream",
          "text": [
            "Escribir un numero cualquiera100\n",
            "El numero escrito no es 200\n"
          ],
          "name": "stdout"
        }
      ]
    },
    {
      "cell_type": "markdown",
      "metadata": {
        "id": "0Q1yksMTgHjV"
      },
      "source": [
        "**El comando ELIF**\n",
        "\n",
        "---\n",
        "Significa \"sino,si\" y permite concatenar condiciones:\n"
      ]
    },
    {
      "cell_type": "code",
      "metadata": {
        "colab": {
          "base_uri": "https://localhost:8080/"
        },
        "id": "KItiZRWbgU-r",
        "outputId": "1fab6857-1047-45d9-ca0b-b48222110dd0"
      },
      "source": [
        "num =int(input(\"Escribir un numero cualquiera\"))\n",
        "if num == 200:\n",
        "  print(\"Escribiste el 200\")\n",
        "elif num> 200:\n",
        "  print(\"El numero escrito es mayor a 200\") \n",
        "else:\n",
        "  print(\"El numero escrito no es 200\")"
      ],
      "execution_count": null,
      "outputs": [
        {
          "output_type": "stream",
          "text": [
            "Escribir un numero cualquiera300\n",
            "El numero escrito es mayor a 200\n"
          ],
          "name": "stdout"
        }
      ]
    },
    {
      "cell_type": "markdown",
      "metadata": {
        "id": "SRE94IewUy6k"
      },
      "source": [
        ""
      ]
    },
    {
      "cell_type": "markdown",
      "metadata": {
        "id": "s2Jxx5RvkMkd"
      },
      "source": [
        "**condicionales Multiples**\n",
        "\n",
        "---\n",
        "Cuando se presentan situaciones o mas de una condicion que dependen unas de otras, estas se pueden tratar mediante el manejo de varias senencias o comandos if, o mediante el manejo adecuado del comando elif. Sin embargo en muchos casos cuando hay multiples condiciones, la programacion necesita mayor cantidad de lineas de codigo.\n",
        "\n",
        "En esos caso es necesario el uso de operadores logicos como el and y el or."
      ]
    },
    {
      "cell_type": "code",
      "metadata": {
        "colab": {
          "base_uri": "https://localhost:8080/"
        },
        "id": "LYSsbfDwlAka",
        "outputId": "89f13ec9-9754-45d0-b256-71711e7aaa5e"
      },
      "source": [
        "x=int(input(\"valor\"))#condicion anidada\n",
        "if 0<x:\n",
        " if x<10:\n",
        "  print(\"x es un numero positivo\")                                        "
      ],
      "execution_count": null,
      "outputs": [
        {
          "output_type": "stream",
          "text": [
            "valor10\n"
          ],
          "name": "stdout"
        }
      ]
    },
    {
      "cell_type": "code",
      "metadata": {
        "colab": {
          "base_uri": "https://localhost:8080/"
        },
        "id": "40ltaJ1kmz62",
        "outputId": "0f24387e-5952-465f-d087-702b956f6a44"
      },
      "source": [
        "x=int(input(\"valor\"))#Expresion booleana\n",
        "if 0<x and x<10:\n",
        "  print(\"x es un numero de un solo digito\")"
      ],
      "execution_count": null,
      "outputs": [
        {
          "output_type": "stream",
          "text": [
            "valor51\n"
          ],
          "name": "stdout"
        }
      ]
    },
    {
      "cell_type": "code",
      "metadata": {
        "colab": {
          "base_uri": "https://localhost:8080/"
        },
        "id": "Now-Oa4nnVb0",
        "outputId": "05571047-ecab-4300-e287-b7d6e6eebd6f"
      },
      "source": [
        "x=int(input(\"valor\"))\n",
        "if 0<x<10:\n",
        " print(\"x es un numero de un solo digito\")"
      ],
      "execution_count": null,
      "outputs": [
        {
          "output_type": "stream",
          "text": [
            "valor9\n",
            "x es un numero de un solo digito\n"
          ],
          "name": "stdout"
        }
      ]
    },
    {
      "cell_type": "markdown",
      "metadata": {
        "id": "fwj3aICXoZkN"
      },
      "source": [
        "Esta condicion es la misma expresion booleana compuesta y la misma condicional anidada."
      ]
    },
    {
      "cell_type": "markdown",
      "metadata": {
        "id": "mp4pf3AXpzeQ"
      },
      "source": [
        "**Estructura de control iterativas**\n",
        "\n",
        "---\n",
        "Las variables son claves en las estructuras de control iterativas, puesto que son el medio entre la iteracion y la condicion que se este ejecutando.\n",
        "\n",
        "**¿Que es iteracion?**\n",
        "Iteracion es la consecucion del codigo tantas veces requiera hasta que se cumplan las condiciones establecidas.\n",
        "\n",
        "**Banderas**\n",
        "Son las variables que toman un valor preferiblemente binario, booleano e indican un estado.\n",
        "Ejemplo:\n"
      ]
    },
    {
      "cell_type": "code",
      "metadata": {
        "colab": {
          "base_uri": "https://localhost:8080/"
        },
        "id": "8DfprIKAqorg",
        "outputId": "a5d2884a-6267-417e-f3e2-b4fc6f2e74ac"
      },
      "source": [
        "suma=False\n",
        "total=0\n",
        "a=3\n",
        "b=10\n",
        "if(suma==False):\n",
        "  total=a+b\n",
        "  suma=True\n",
        "\n",
        "if(suma==True):\n",
        "  print(\"el valor total de la suma es:\", total)"
      ],
      "execution_count": null,
      "outputs": [
        {
          "output_type": "stream",
          "text": [
            "el valor total de la suma es: 13\n"
          ],
          "name": "stdout"
        }
      ]
    },
    {
      "cell_type": "markdown",
      "metadata": {
        "id": "dSqC3b7xsbVB"
      },
      "source": [
        "La variable suma en este caso es de tipo booleano y su funcion es indicar cuando se ejecuto la suma, por lo tanto tiene un estado inicial \"False\", pero luego de ejecutar la suma toma el valor true.\n",
        "Cuando pasa esto escuchamos la frase \"la bandera se levanto\". Esto quiere decir que una u otra accion hizo que el estado de la bandera cambiara.\n",
        "\n",
        "Ejemplo cualitativo:**CASO CONTAGIO**\n"
      ]
    },
    {
      "cell_type": "code",
      "metadata": {
        "id": "W9T8QrPotWHY",
        "colab": {
          "base_uri": "https://localhost:8080/"
        },
        "outputId": "4cb5cc24-b8e9-4521-abec-17a6ca28e3e1"
      },
      "source": [
        "paciente=input(\"Nombre del paciente\")\n",
        "contagio_v=input(\"¿Te has realizado la prueba de contagio?\")\n",
        "\n",
        "if (contagio_v==\"No\"):\n",
        "  print(\"La paciente\", paciente, \"No se ha realizado la prueba para validar, por favor realizarse la prueba en el centro de salud mas cercano\")\n",
        "  print(\"Aplicarse la prueba\")\n",
        "  contagio_v=\"Pendiente\"\n",
        "\n",
        "if (contagio_v==\"Pendiente\"): \n",
        " print(paciente,\"por favor revisar el correo donde se le adjunto el resultado de la prueba\")\n",
        " contagio_v=\"si\"\n",
        "\n",
        "if (contagio_v==\"si\"):\n",
        "  print(paciente,\"Dado que es POSITIVO el resultado de su prueba, mantener una distancia de las personas por lo menos 15 dias\") \n",
        "\n"
      ],
      "execution_count": null,
      "outputs": [
        {
          "output_type": "stream",
          "text": [
            "Nombre del pacienteJulia\n",
            "¿Te has realizado la prueba de contagio?No\n",
            "La paciente Julia No se ha realizado la prueba para validar, por favor realizarse la prueba en el centro de salud mas cercano\n",
            "Aplicarse la prueba\n",
            "Julia por favor revisar el correo donde se le adjunto el resultado de la prueba\n",
            "Julia Dado que es POSITIVO el resultado de su prueba, mantener una distancia de las personas por lo menos 15 dias\n"
          ],
          "name": "stdout"
        }
      ]
    },
    {
      "cell_type": "markdown",
      "metadata": {
        "id": "Z9DWLZAHXeJw"
      },
      "source": [
        "**Ejercicio en clase**\n",
        "El Bootcamp comenzo el 26 de Julio del 2021, se les explico a las estudiantes que se les evaluaria de la siguiente forma:\n",
        "\n",
        "Tareas=10% Talleres=25% ASistencia=5%Participacion=15%Proyecto=45%\n",
        "\n",
        "teniendo en cuanta las ponderaciones de calificacion del bootcamp, las estudiantes deciden desarrollar un programa que les permita saber cuanto tendria que sacar en el proyecto para tener una definitiva de 3.7 minimo en el curso.Si las notas que lleva hasta el momento son las siguientes:\n",
        "\n",
        "Tareas=4.5Talleres=4Asistencia5 Participacion=4\n",
        "\n",
        "¿Cuanto tendrian que sacar en el proyecto?\n",
        "\n",
        "\n",
        "**2.**\n",
        "La empresa VIVAFLY tiene como eslogan: \"Satisfaccion y plenitud en un solo viaje\". Por lo cual , uno de los medios que utiliza VIVAFLY para mantener la satisfacion del cliente, es realizar rifas a lo largo del año para fomentar mayor union y entendimiento.\n",
        "Para el mes de septiembre, por motivos de celebracion de Amor y Amistad,la empresa decide sortear los siguientes viajes a los 5 clientes con mas antiguedad:\n",
        "\n",
        "1. Viaje todo incluido para dos personas a San Andres(Premio 1 )\n",
        "2. Una pasadia a los termales de San Vicente incluyendo almuerzo(Premio2)\n",
        "3. viaje todo incluido para dos personas a Santa Martha (Premio3)\n",
        "4. pasadia al desierto de Tatacoa (Sin incluir alimentacion)(Premio 4)\n",
        "\n",
        "La empresa utilizara para el sorteo el metodo de balotera. A continuacion se menciona el color ganador por premio:\n",
        "\n",
        "1. Rosado=Premio 1\n",
        "2. Verde=Premio 2 \n",
        "3. Azul=Premio 3 \n",
        "4. Gris=Premio 4\n",
        "5. Roja=No hay premio\n",
        "\n",
        "La probabilidad de sacar una balota rosada es del 15%, verde 20%, azul 5 %, gris 20% y roja 40%.\n",
        "\n",
        "Adicionalmente para las personas que si obtengan premio, recibiran un bono en efectivo del porcentaje que presente la probabilidad de ganar con cada balota sobre un valor de 1.000.000 pesos. Sin embargo, se debe tener en cuanta que, Si al aplicar el porcentaje arroja un valor inferior a 120.000, no se les dara el bono en efectivo sino dos boletas de cine 4D para la pelicula en estreno del mes incluyendo un solo combo de palomitas.Por otro lado, para la persona que saque balota roja obtendra un premio de 120.000 pesos.\n",
        "\n",
        "**Nota**: El sorteo se realizara con el metodo de No reemplazo.Es decir,la probabilidad de sacar cada una de las balotas es la misma para los 5 clientes. Porque a medida que vayan sacando las balotas ganadoras estas se regresan a la balotera y se mantendran la misma cantidad de balotas.\n",
        "\n",
        "Teniendo en cuenta lo anterior se pide a la analista que genere un codigo donde se pueda observar las respectivas premiaciones.\n",
        "\n",
        "La entradas deben ser las siguientes:\n",
        "\n",
        "*Nombre de la concursante\n",
        "*Color de balota\n",
        "\n",
        "Salida:\n",
        "*Premio\n",
        "\n",
        "Enunciao de salida:\"La empresa VIVAFLY se complace en anunciar que la participante_gano_en nuestro sorteo de viajes de AMOR Y AMISTAD\"\n",
        "\n",
        "Ejemplo:\"La empresa VIVAFLY se complace en anunciar que La participante ANA gano una pasadia a los termales de San Vicente en nuestro sorteo de viajes de AMOR y AMISTAD\"\n"
      ]
    },
    {
      "cell_type": "code",
      "metadata": {
        "colab": {
          "base_uri": "https://localhost:8080/"
        },
        "id": "hnO8nG7d2AJc",
        "outputId": "756c3a55-e54f-4777-af2f-9108564261b2"
      },
      "source": [
        "#Ejercicio 1\n",
        "\n",
        "#Tareas=10%\n",
        "#Talleres=25%\n",
        "#Asistencia=5%\n",
        "#Participacion=15%\n",
        "#Proyecto=45%\n",
        "\n",
        "definitiva_total=3.7\n",
        "nota_minima_protecto=0\n",
        "\n",
        "tareas=float (input(\"Ingrese la nota de tareas\"))\n",
        "talleres=float (input(\"Ingrese la nota de talleres\"))\n",
        "asistencia=float (input(\"Ingrese la nota de asistencia\"))\n",
        "participacion=float (input(\"Ingrese la nota de participacion\"))\n",
        "\n",
        "definitiva_parcial= tareas*0.10+talleres*0.25+asistencia*0.05+participacion*0.15\n",
        "print(\"La definitiva parcial es:\",definitiva_parcial)\n",
        "\n",
        "if (definitiva_total==3.7):\n",
        " nota_minima_proyecto=definitiva_total-definitiva_parcial\n",
        " print(\"La nota minima para el proyecto es:\",nota_minima_proyecto)"
      ],
      "execution_count": 34,
      "outputs": [
        {
          "output_type": "stream",
          "text": [
            "Ingrese la nota de tareas4.5\n",
            "Ingrese la nota de talleres4\n",
            "Ingrese la nota de asistencia5\n",
            "Ingrese la nota de participacion4\n",
            "La definitiva parcial es: 2.3\n",
            "La nota minima para el proyecto es: 1.4000000000000004\n"
          ],
          "name": "stdout"
        }
      ]
    },
    {
      "cell_type": "code",
      "metadata": {
        "colab": {
          "base_uri": "https://localhost:8080/"
        },
        "id": "FcvJTk6ijkiz",
        "outputId": "72b6a379-d323-4dc7-aa6c-c1a4f6ae008a"
      },
      "source": [
        "#Ejercicio 2\n",
        "\n",
        "#Viaje todo incluido a San Andres(Premio1-Rosado)15%\n",
        "#Una pasadia en los termales de san vicente(Premio2-Verde)20%\n",
        "#Viaje todo incluido para dos personas a Santa Martha(Premio3-Azul)5% 2 boletas de cine 4D+1Combo de palomitas incluido\n",
        "#Pasadia al desierto de la tatacoa(Sin alimentacion incluida)(Premio4-Gris)20%\n",
        "#Roja(No hay premio)40%+120.000\n",
        "\n",
        "anuncio=\"La empresa VIVAFLY se complace en anunciar que el participante:\"\n",
        "premio1=\"**gano un viaje todo incluido a San Andres,\"\n",
        "premio2=\"**gano una pasadia en los termales de San Vicente,\"\n",
        "premio3=\"**gano viaje todo incluido para dos personas a Santa Martha,\"\n",
        "premio4=\"**gano pasadia al desierto de la tatacoa (sin alimentacion incluida),\"\n",
        "cine=\"adicional gana 2 boletas de cine 4D + un combo de palomitas incluido\"\n",
        "bono=\"mas un bono de\"\n",
        "cierre=\"en nuestro sorteo de viajes de AMOR Y AMISTAD\"\n",
        "valor=1000000\n",
        "\n",
        "cliente=input(\"Nombre del cliente:\")\n",
        "color_balota=str (input(\"Ingrese el color de la balota:\"))\n",
        "\n",
        "if (color_balota==\"rosado\"):\n",
        "  print(anuncio, cliente, premio1)\n",
        "  valor_bono=valor*0.15\n",
        "\n",
        "if (color_balota==\"verde\"):\n",
        "  print(anuncio, cliente, premio2)\n",
        "  valor_bono=valor*0.20\n",
        "\n",
        "if (color_balota==\"azul\"):\n",
        "  print(anuncio, cliente, premio3)\n",
        "  valor_bono=valor*0.05\n",
        "\n",
        "if (color_balota==\"gris\"):\n",
        "  print(anuncio, cliente, premio4) \n",
        "  valor_bono=valor*0.20\n",
        "\n",
        "if (color_balota==\"rojo\"):\n",
        "  print(anuncio, cliente, \"gano 120.000 pesos\")\n",
        "  valor_bono=valor*0.40\n",
        "\n",
        "if (valor_bono<120000):\n",
        "    print(cine, cierre)\n",
        "else:\n",
        "    print(bono, valor_bono, cierre)\n",
        "\n"
      ],
      "execution_count": 127,
      "outputs": [
        {
          "output_type": "stream",
          "text": [
            "Nombre del cliente:ana\n",
            "Ingrese el color de la balota:rosado\n",
            "La empresa VIVAFLY se complace en anunciar que el participante: ana **gano un viaje todo incluido a San Andres,\n",
            "mas un bono de 150000.0 en nuestro sorteo de viajes de AMOR Y AMISTAD\n"
          ],
          "name": "stdout"
        }
      ]
    }
  ]
}