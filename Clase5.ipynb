{
  "nbformat": 4,
  "nbformat_minor": 0,
  "metadata": {
    "colab": {
      "name": "Clase5.ipynb",
      "provenance": [],
      "authorship_tag": "ABX9TyN+pXj083lnMQZK2zEKOYlq",
      "include_colab_link": true
    },
    "kernelspec": {
      "name": "python3",
      "display_name": "Python 3"
    },
    "language_info": {
      "name": "python"
    }
  },
  "cells": [
    {
      "cell_type": "markdown",
      "metadata": {
        "id": "view-in-github",
        "colab_type": "text"
      },
      "source": [
        "<a href=\"https://colab.research.google.com/github/CarolinaGarcia19/Clase1/blob/main/Clase5.ipynb\" target=\"_parent\"><img src=\"https://colab.research.google.com/assets/colab-badge.svg\" alt=\"Open In Colab\"/></a>"
      ]
    },
    {
      "cell_type": "markdown",
      "metadata": {
        "id": "n_ZYZPNDpiFX"
      },
      "source": [
        "#**Continuacion de cliclos**\n",
        "\n",
        "Ciclo FOR - Bucle FOR"
      ]
    },
    {
      "cell_type": "code",
      "metadata": {
        "colab": {
          "base_uri": "https://localhost:8080/"
        },
        "id": "9Nej_8-wooJ2",
        "outputId": "c7e52165-5ecb-4348-f9c1-17096e11ca6e"
      },
      "source": [
        "for i in range(1,5):\n",
        "  print(i)\n",
        "   "
      ],
      "execution_count": 3,
      "outputs": [
        {
          "output_type": "stream",
          "text": [
            "1\n",
            "2\n",
            "3\n",
            "4\n"
          ],
          "name": "stdout"
        }
      ]
    },
    {
      "cell_type": "markdown",
      "metadata": {
        "id": "G3JgxJrnqS7b"
      },
      "source": [
        "Para dejar claro las partes que componen un bucle FOR, vamos a dejar claro las siguientes definiciones:\n",
        "\n",
        "1. **Iterable** son: Los objetos que pueden ser iterados. Por ejemplo una lista, valor tipo cadena, etc,\n",
        "2. **Iterador**:Son objetos que hacen referencia a un elemento(Para hacer referencia a cada uno de los elementos hay un metodo denominado \"next\" que permite hacer referencia a los elementos del conjunto. \n",
        "\n",
        "**for <variable> in <iterable>:\n",
        "    <bloque codigo>\n",
        "\n",
        "Algunos ejemplos de iterables en Python son las listas, cadenas, diccionarios, tuplas, etc.\n",
        "\n",
        "¿Como saber que es iterable a la hora de programar?\n",
        "Podemos darnos cuenta que es iterable usando la funcion isinstance()."
      ]
    },
    {
      "cell_type": "code",
      "metadata": {
        "colab": {
          "base_uri": "https://localhost:8080/"
        },
        "id": "PWIFAtzdr5nN",
        "outputId": "a00c349e-dbf3-4c0a-b0e9-94a0b17194e0"
      },
      "source": [
        "from collections import Iterable\n",
        "lista=[1,2,3,4,5,6,7,8,9,0]\n",
        "a=\"computador\"\n",
        "b=14\n",
        "print(isinstance(lista,Iterable))\n",
        "print(isinstance(a,Iterable))\n",
        "print(isinstance(b,Iterable))"
      ],
      "execution_count": 10,
      "outputs": [
        {
          "output_type": "stream",
          "text": [
            "True\n",
            "True\n",
            "False\n"
          ],
          "name": "stdout"
        }
      ]
    },
    {
      "cell_type": "markdown",
      "metadata": {
        "id": "opQBNgaVvuur"
      },
      "source": [
        "Para entender los iteradores, es importante conocer la funcion *Iter()*, esta funcion puede ser llamada sobre un objeto que sea iterable, y nos devolvera un iterador.\n",
        "\n",
        "Ejemplo:"
      ]
    },
    {
      "cell_type": "code",
      "metadata": {
        "colab": {
          "base_uri": "https://localhost:8080/"
        },
        "id": "nrLLzibbwO5s",
        "outputId": "5388f427-3d2f-4169-ac1b-44b32bb6108b"
      },
      "source": [
        "lista=[1,2,3,4,5,6,7,8.9,0]\n",
        "ref=iter(lista)\n",
        "print(ref)\n",
        "print(type(ref))"
      ],
      "execution_count": 13,
      "outputs": [
        {
          "output_type": "stream",
          "text": [
            "<list_iterator object at 0x7fb07d5c9290>\n",
            "<class 'list_iterator'>\n"
          ],
          "name": "stdout"
        }
      ]
    },
    {
      "cell_type": "markdown",
      "metadata": {
        "id": "RcrJRdb9xM55"
      },
      "source": [
        ""
      ]
    },
    {
      "cell_type": "code",
      "metadata": {
        "colab": {
          "base_uri": "https://localhost:8080/"
        },
        "id": "kc5j653Euoce",
        "outputId": "ee8b0708-52c5-40d7-fabc-55ead31190fc"
      },
      "source": [
        "lista=[1,2,3,4,5,6,7,8,9,0]\n",
        "ref=iter(lista)\n",
        "print(next(ref))\n",
        "print(next(ref))\n"
      ],
      "execution_count": 15,
      "outputs": [
        {
          "output_type": "stream",
          "text": [
            "1\n",
            "2\n"
          ],
          "name": "stdout"
        }
      ]
    },
    {
      "cell_type": "markdown",
      "metadata": {
        "id": "PCtzecNVxpwa"
      },
      "source": [
        "**Tener en cuenta**\n",
        "Existen otros iteradores para las diferentes clases:\n",
        "1. str_iterador para cadenas\n",
        "2. list_iterador para listas\n",
        "3. set_iterador para conjuntos\n",
        "4. dict_keyiterador para diccionarios\n"
      ]
    },
    {
      "cell_type": "markdown",
      "metadata": {
        "id": "R3PgD0StyF4b"
      },
      "source": [
        "#**For anidados**\n",
        "\n",
        "---\n",
        "Es posible anidarlos. es decir uno dentro de otro.Como lo vemos a continuacion:"
      ]
    },
    {
      "cell_type": "code",
      "metadata": {
        "colab": {
          "base_uri": "https://localhost:8080/"
        },
        "id": "BH1YZqwQyVBF",
        "outputId": "8c23d56d-164b-47f7-889e-e5adbb2fda17"
      },
      "source": [
        "#Vamos a crear una lista de listas, lo cual conforma una especie de matriz\n",
        "#Recordemos que una matriz se compone de valores que se distribuyen en filas y columnas.\n",
        "\n",
        "qa=[[1,2,3],\n",
        "    [4,5,6],\n",
        "    [7,8,9]]\n",
        "\n",
        "for i in qa:\n",
        "  print(i)\n",
        "\n",
        "for i in qa:\n",
        "  for j in i:\n",
        "    print(j)\n",
        "        "
      ],
      "execution_count": 17,
      "outputs": [
        {
          "output_type": "stream",
          "text": [
            "[1, 2, 3]\n",
            "[4, 5, 6]\n",
            "[7, 8, 9]\n",
            "1\n",
            "2\n",
            "3\n",
            "4\n",
            "5\n",
            "6\n",
            "7\n",
            "8\n",
            "9\n"
          ],
          "name": "stdout"
        }
      ]
    },
    {
      "cell_type": "markdown",
      "metadata": {
        "id": "DhbZry3qzQTT"
      },
      "source": [
        "Si queremos acceder a cada elemento individualmente se procede a realizar un bucle de for anidado, es decir, un for se encargara de iterar las columnas y el otro las filas.\n"
      ]
    },
    {
      "cell_type": "code",
      "metadata": {
        "colab": {
          "base_uri": "https://localhost:8080/"
        },
        "id": "QDXFbA-dz_Pl",
        "outputId": "8ea130ed-a2b7-4506-8889-438e515ddbb5"
      },
      "source": [
        "# Otra forma de utilizar el for, es la iteracion al reves.Es decir se puede iterar del ultimo elemento al primer elemento.\n",
        "lista=[1,2,3,4,5,6,7,8,9,0]\n",
        "for i in lista[::2]:\n",
        "  print(i)\n",
        "print(\"--------------------\")\n",
        "a=\"computador\"\n",
        "for i in a[::3]:\n",
        "  print(i) "
      ],
      "execution_count": 21,
      "outputs": [
        {
          "output_type": "stream",
          "text": [
            "1\n",
            "3\n",
            "5\n",
            "7\n",
            "9\n",
            "--------------------\n",
            "c\n",
            "p\n",
            "a\n",
            "r\n"
          ],
          "name": "stdout"
        }
      ]
    },
    {
      "cell_type": "code",
      "metadata": {
        "colab": {
          "base_uri": "https://localhost:8080/"
        },
        "id": "Yy-u3olA1uAJ",
        "outputId": "62bf280b-e7ed-4712-b204-cf0ab3227906"
      },
      "source": [
        "#Usando rango\n",
        "for i in range(10):\n",
        " print(i)\n",
        " #El range()genera una secuencia de numeros que van desde 0 por defecto\n",
        " #el numero que se pasa como parametro menos 2.\n",
        "\n",
        " #*Estructura: range(inicio, fin salto\n",
        " \n",
        " #Observemos un truco con el range:\n",
        "\n",
        " print(list(range(2,10,2)))\n"
      ],
      "execution_count": 25,
      "outputs": [
        {
          "output_type": "stream",
          "text": [
            "0\n",
            "1\n",
            "2\n",
            "3\n",
            "4\n",
            "5\n",
            "6\n",
            "7\n",
            "8\n",
            "9\n"
          ],
          "name": "stdout"
        }
      ]
    },
    {
      "cell_type": "markdown",
      "metadata": {
        "id": "b7fNG4Up3bft"
      },
      "source": [
        "**Lista de comprension**\n",
        "\n",
        "\n",
        "---\n",
        "Estas nos permiten crear listas de elementos en una sola linea de codigo.\n",
        "Ejemplo: Crear una lista de las potencias a las 3 de los numeros impares de 0 a 9"
      ]
    },
    {
      "cell_type": "code",
      "metadata": {
        "colab": {
          "base_uri": "https://localhost:8080/"
        },
        "id": "J2GaCzHQ3-E2",
        "outputId": "42252435-48d7-4325-b58f-7236186d85c3"
      },
      "source": [
        "tres=[i**3 for i in range(1,10,2)]\n",
        "#1,3,5,7,9\n",
        "print(tres)\n",
        "\n",
        "tres=[]\n",
        "for i in range(1,10,2):\n",
        "  tres.append(i**3)\n",
        "  print(tres)"
      ],
      "execution_count": 33,
      "outputs": [
        {
          "output_type": "stream",
          "text": [
            "[1, 27, 125, 343, 729]\n",
            "[1]\n",
            "[1, 27]\n",
            "[1, 27, 125]\n",
            "[1, 27, 125, 343]\n",
            "[1, 27, 125, 343, 729]\n"
          ],
          "name": "stdout"
        }
      ]
    },
    {
      "cell_type": "code",
      "metadata": {
        "colab": {
          "base_uri": "https://localhost:8080/"
        },
        "id": "Erty6gjY2TA2",
        "outputId": "0e0636ab-f99a-48cd-d6ce-d6a78740c5d4"
      },
      "source": [
        "s=[1 for i in range(10)]\n",
        "print(s)\n"
      ],
      "execution_count": 35,
      "outputs": [
        {
          "output_type": "stream",
          "text": [
            "[1, 1, 1, 1, 1, 1, 1, 1, 1, 1]\n"
          ],
          "name": "stdout"
        }
      ]
    },
    {
      "cell_type": "code",
      "metadata": {
        "colab": {
          "base_uri": "https://localhost:8080/"
        },
        "id": "7nlmudlh6XLJ",
        "outputId": "5ee800b7-2329-4114-cc7e-b4e0f61a4300"
      },
      "source": [
        "lwa=[5,10,15,20,25,30]\n",
        "lwa2=[i/5 for i in lwa]\n",
        "print(lwa2)"
      ],
      "execution_count": 37,
      "outputs": [
        {
          "output_type": "stream",
          "text": [
            "[1.0, 2.0, 3.0, 4.0, 5.0, 6.0]\n"
          ],
          "name": "stdout"
        }
      ]
    },
    {
      "cell_type": "code",
      "metadata": {
        "colab": {
          "base_uri": "https://localhost:8080/"
        },
        "id": "u8H-YD3H61tG",
        "outputId": "a2d74f3a-0685-4502-adea-22e41c89b2a0"
      },
      "source": [
        "pera=\"mama ama a ema\"\n",
        "pera2=[i for i in pera if i==\"m\"]\n",
        "print(pera2)\n",
        "\n",
        "print(len(pera2))"
      ],
      "execution_count": 41,
      "outputs": [
        {
          "output_type": "stream",
          "text": [
            "['m', 'm', 'm', 'm']\n"
          ],
          "name": "stdout"
        }
      ]
    },
    {
      "cell_type": "code",
      "metadata": {
        "id": "G5rN2WyP8WdR"
      },
      "source": [
        ""
      ],
      "execution_count": null,
      "outputs": []
    }
  ]
}