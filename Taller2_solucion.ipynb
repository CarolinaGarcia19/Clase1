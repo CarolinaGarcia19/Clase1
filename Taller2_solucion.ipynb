{
  "nbformat": 4,
  "nbformat_minor": 0,
  "metadata": {
    "colab": {
      "name": "Taller2_solucion.ipynb",
      "provenance": [],
      "authorship_tag": "ABX9TyMIv/hs8DBpu/4wQcf+NRbE",
      "include_colab_link": true
    },
    "kernelspec": {
      "name": "python3",
      "display_name": "Python 3"
    },
    "language_info": {
      "name": "python"
    }
  },
  "cells": [
    {
      "cell_type": "markdown",
      "metadata": {
        "id": "view-in-github",
        "colab_type": "text"
      },
      "source": [
        "<a href=\"https://colab.research.google.com/github/CarolinaGarcia19/Clase1/blob/main/Taller2_solucion.ipynb\" target=\"_parent\"><img src=\"https://colab.research.google.com/assets/colab-badge.svg\" alt=\"Open In Colab\"/></a>"
      ]
    },
    {
      "cell_type": "code",
      "metadata": {
        "colab": {
          "base_uri": "https://localhost:8080/"
        },
        "id": "7fjkgwM-vic5",
        "outputId": "cf401881-18a8-4a7f-e529-d0fdebc981a0"
      },
      "source": [
        "#Ingresar cantidad de vendedores area de ventas\n",
        "#Ingresar puntuacion de 1 a 10\n",
        "#Identificar vendedor con mejor rendimiento y vendedor con peor rendimiento\n",
        "#Obtener promedio general de nivel de cumplimiento area de ventas\n",
        "#Ordenar ventas por orden alfabetico en caso de haber empate\n",
        "\n",
        "ventas=[]\n",
        "can_ven=int(input(\"Ingresa la cantidad de vendedores\"))\n",
        "for x in range(can_ven):\n",
        "    nombre=str(input(\"Ingresa el nombre del vendedor  :\"))\n",
        "    puntaje=int(input(\"Ingrese el puntaje de 1 a 10  :\"))\n",
        "    ventas.append(puntaje)\n",
        "   \n",
        "def promediar(ventas):\n",
        "    return print(\"El promedio de las ventas es:\", sum(ventas) / len(ventas) if len(ventas) else none)\n",
        "    \n",
        "def mayormenor(ventas):\n",
        "    may=ventas[0]\n",
        "    men=ventas[0]\n",
        "    for x in range(1,len(ventas)):\n",
        "        if ventas[x]>may:\n",
        "            may=ventas[x]\n",
        "        else:\n",
        "             if ventas[x]<men:\n",
        "                men=ventas[x]\n",
        "    print(\"El puntaje mayor de las ventas es\", may)\n",
        "    print(\"El puntaje menor de las ventas es\", men)\n",
        "\n",
        "print(\"El orden de las ventas de menor a mayor es:\", sorted(ventas))\n",
        "\n",
        "\n",
        "mayormenor(ventas)\n",
        "promediar(ventas)\n",
        "\n",
        "\n",
        "\n",
        "\n",
        "\n"
      ],
      "execution_count": 76,
      "outputs": [
        {
          "output_type": "stream",
          "text": [
            "Ingresa la cantidad de vendedores2\n",
            "Ingresa el nombre del vendedor  :juan\n",
            "Ingrese el puntaje de 1 a 10  :5\n",
            "Ingresa el nombre del vendedor  :pedro\n",
            "Ingrese el puntaje de 1 a 10  :8\n",
            "El orden de las ventas de menor a mayor es: [5, 8]\n",
            "El puntaje mayor de las ventas es 8\n",
            "El puntaje menor de las ventas es 5\n",
            "El promedio de las ventas es: 6.5\n"
          ],
          "name": "stdout"
        }
      ]
    },
    {
      "cell_type": "code",
      "metadata": {
        "id": "xBc7wfcSdIWs"
      },
      "source": [
        ""
      ],
      "execution_count": null,
      "outputs": []
    }
  ]
}