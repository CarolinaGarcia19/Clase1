{
  "nbformat": 4,
  "nbformat_minor": 0,
  "metadata": {
    "colab": {
      "name": "Untitled0.ipynb",
      "provenance": [],
      "authorship_tag": "ABX9TyN90aJEQZy8DbdK2baN6rUt",
      "include_colab_link": true
    },
    "kernelspec": {
      "name": "python3",
      "display_name": "Python 3"
    },
    "language_info": {
      "name": "python"
    }
  },
  "cells": [
    {
      "cell_type": "markdown",
      "metadata": {
        "id": "view-in-github",
        "colab_type": "text"
      },
      "source": [
        "<a href=\"https://colab.research.google.com/github/CarolinaGarcia19/Clase1/blob/main/taller2.ipynb\" target=\"_parent\"><img src=\"https://colab.research.google.com/assets/colab-badge.svg\" alt=\"Open In Colab\"/></a>"
      ]
    },
    {
      "cell_type": "code",
      "metadata": {
        "colab": {
          "base_uri": "https://localhost:8080/"
        },
        "id": "7fjkgwM-vic5",
        "outputId": "bfcb42cf-d977-47d5-a239-b43ff0e9516e"
      },
      "source": [
        "\n",
        "ventas=[]\n",
        "can_ven=int(input(\"Ingresa la cantidad de vendedores\"))\n",
        "for x in range(can_ven):\n",
        "    nombre=(input(\"Ingresa el nombre del vendedor:\"))\n",
        "    puntaje=int(input(\"Ingrese el puntaje de 1 a 10:\"))\n",
        "    ventas.append(puntaje)\n",
        "\n",
        "def sumarizar(ventas):\n",
        "    suma=0\n",
        "    for x in range(len(ventas)):\n",
        "        suma=suma+ventas[x]\n",
        "    return suma\n",
        "\n",
        "def mayormenor(ventas):\n",
        "    may=ventas[0]\n",
        "    men=ventas[0]\n",
        "    for x in range(1,len(ventas)):\n",
        "        if ventas[x]>may:\n",
        "            may=ventas[x]\n",
        "        else:\n",
        "             if ventas[x]<men:\n",
        "                men=ventas[x]\n",
        "    print(\"El puntaje mayor de las ventas es\", may)\n",
        "    print(\"El puntaje menor de las ventas es\", men)\n",
        "\n",
        "mayormenor(ventas)\n",
        "sumarizar(ventas)\n",
        "\n",
        "\n"
      ],
      "execution_count": 14,
      "outputs": [
        {
          "output_type": "stream",
          "text": [
            "Ingresa la cantidad de vendedores2\n",
            "Ingresa el nombre del vendedor:juan\n",
            "Ingrese el puntaje de 1 a 10:4\n",
            "Ingresa el nombre del vendedor:miguel\n",
            "Ingrese el puntaje de 1 a 10:8\n",
            "El puntaje mayor de las ventas es 8\n",
            "El puntaje menor de las ventas es 4\n"
          ],
          "name": "stdout"
        },
        {
          "output_type": "execute_result",
          "data": {
            "text/plain": [
              "12"
            ]
          },
          "metadata": {
            "tags": []
          },
          "execution_count": 14
        }
      ]
    },
    {
      "cell_type": "code",
      "metadata": {
        "id": "xBc7wfcSdIWs"
      },
      "source": [
        ""
      ],
      "execution_count": null,
      "outputs": []
    }
  ]
}