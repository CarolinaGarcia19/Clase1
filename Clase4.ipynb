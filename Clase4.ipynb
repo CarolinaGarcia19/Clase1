{
  "nbformat": 4,
  "nbformat_minor": 0,
  "metadata": {
    "colab": {
      "name": "Clase4.ipynb",
      "provenance": [],
      "authorship_tag": "ABX9TyM4UKHh9fRqQKOC4TNVvbcM",
      "include_colab_link": true
    },
    "kernelspec": {
      "display_name": "Python 3",
      "name": "python3"
    },
    "language_info": {
      "name": "python"
    }
  },
  "cells": [
    {
      "cell_type": "markdown",
      "metadata": {
        "id": "view-in-github",
        "colab_type": "text"
      },
      "source": [
        "<a href=\"https://colab.research.google.com/github/CarolinaGarcia19/Clase1/blob/main/Clase4.ipynb\" target=\"_parent\"><img src=\"https://colab.research.google.com/assets/colab-badge.svg\" alt=\"Open In Colab\"/></a>"
      ]
    },
    {
      "cell_type": "markdown",
      "metadata": {
        "id": "GBswXUrQjEHK"
      },
      "source": [
        "**Continuacion de estructuras de control iterativas**\n",
        "\n",
        "---\n",
        "***ACUMULADORES**\n",
        "\n",
        "Se le da este nombre a las variables que se encargan de \"almacenar\" algun tipo de informacion. Ejemplo:\n",
        "\n",
        "El caso de la compra de viveres en la tienda:\n"
      ]
    },
    {
      "cell_type": "code",
      "metadata": {
        "colab": {
          "base_uri": "https://localhost:8080/"
        },
        "id": "7Ukkv_dBjp30",
        "outputId": "189b83d2-4d9e-4c5d-a87a-79916e2a22ee"
      },
      "source": [
        "nombre=input(\"Nombre del consumidor\")\n",
        "listacomp=\"\"\n",
        "print(nombre, \"escribe los siguientes viveres para su compra en el supermercado\")\n",
        "listacomp=listacomp+\",1 paca de papel higienico\"\n",
        "print(\"---Compras que tengo que hacer---\")\n",
        "listacomp=listacomp+\",2 shampoo pantene2 and 1\"\n",
        "listacomp=listacomp+\",2 pacas de pañales pequeñin etapa 3\"\n",
        "print(listacomp)\n",
        "\n"
      ],
      "execution_count": null,
      "outputs": [
        {
          "output_type": "stream",
          "text": [
            "Nombre del consumidorana\n",
            "ana escribe los siguientes viveres para su compra en el supermercado\n",
            "---Compras que tengo que hacer---\n",
            "1 paca de papel higienico,2 shampoo pantene2 and 1,2 pacas de pañales pequeñin etapa 3\n"
          ],
          "name": "stdout"
        }
      ]
    },
    {
      "cell_type": "markdown",
      "metadata": {
        "id": "twqf1fmRl98w"
      },
      "source": [
        "La variable \"lista comp nos esta sirviendo para acumular informacion de la lista de compras. Podemos observar, que no estamos creando una variable por cada item, sino una variable definida nos sirve para almacenar la informacion.\n",
        "\n",
        "A continuacion observemos un ejemplo donde se ponga en practica el uso de acumulacion en una variable usando cantidades y precio.\n"
      ]
    },
    {
      "cell_type": "code",
      "metadata": {
        "colab": {
          "base_uri": "https://localhost:8080/"
        },
        "id": "5Gz8PjZ0mk8a",
        "outputId": "d3e35c36-dde3-4821-9fc8-ff4de28637c7"
      },
      "source": [
        "ppph=14000 # precio de paquete de papel higienico\n",
        "cpph=2 # Cantidad de paquete de papel higienico\n",
        "pshampoo=18000 # precio unidad de shampoo pantene 2 and 1\n",
        "cshampoo=4# Cantidad shampoo pantene 2 and 1\n",
        "ppbebe=17000 # precio de pacas de pañales pequeñin\n",
        "cpbebe=3#cantidad de pacas de pañales pequeñin\n",
        "\n",
        "subtotal=0\n",
        "print(\"Calculando el total de la compra...\")\n",
        "total_pph=ppph*cpph\n",
        "print(\"El valor total del papel higienico es:$\", total_pph)\n",
        "subtotal=subtotal+total_pph\n",
        "print(\"--El subtotal es:$ \",subtotal)\n",
        "total_shampoo=pshampoo*cshampoo\n",
        "print(\"El valor total del shampoo es:$\",total_shampoo)\n",
        "subtotal=subtotal+total_shampoo\n",
        "print(\"---EL subtotal es:$\",subtotal)\n",
        "total_pbebe=ppbebe*cpbebe\n",
        "print(\"El valor total para pañales es:$\",total_pbebe)\n",
        "subtotal=subtotal+total_pbebe\n",
        "print(\"El total de su compra es:$\",subtotal)"
      ],
      "execution_count": null,
      "outputs": [
        {
          "output_type": "stream",
          "text": [
            "Calculando el total de la compra...\n",
            "El valor total del papel higienico es:$ 28000\n",
            "--El subtotal es:$  28000\n",
            "El valor total del shampoo es:$ 72000\n",
            "---EL subtotal es:$ 100000\n",
            "El valor total para pañales es:$ 51000\n",
            "El total de su compra es:$ 151000\n"
          ],
          "name": "stdout"
        }
      ]
    },
    {
      "cell_type": "markdown",
      "metadata": {
        "id": "Kjub9HEYjAS7"
      },
      "source": [
        "**Contenedores**\n",
        "\n",
        "---\n",
        "Tiene mucha relacion con los \"acumuladores\" visto en el apartado anterior. Estas variables se caracterizan por ser variables de control, es decir, controlan la cantidad de veces que se ejecuta determinada accion. Usando el ejemplo anterior y modificandolo un poco,podemos desarrollar el siguiente algoritmo:\n"
      ]
    },
    {
      "cell_type": "code",
      "metadata": {
        "colab": {
          "base_uri": "https://localhost:8080/"
        },
        "id": "Wiaw2R1NaKbs",
        "outputId": "e430fb9a-1d24-4a9f-f519-b997a75bbaff"
      },
      "source": [
        "#Se comprara pañales por unidad en este caso.\n",
        "\n",
        "contp=0\n",
        "print(\"Se realizara la compra de pañales etapa 3... Se ha iniciado la compra y asignacion en el carrito. En total hay:\",contp,\"pañales\")\n",
        "contp=contp+1\n",
        "print(\"Ahora hay:\",contp ,\"pañal\")\n",
        "contp=contp+1 \n",
        "print(\"Ahora hay:\",contp ,\"pañal\")\n",
        "contp=contp+1\n",
        "print(\"Ahora hay:\",contp ,\"pañal\")\n",
        "contp=contp+1\n",
        "print(\"Ahora hay:\",contp ,\"pañal\")\n",
        "\n",
        "\n",
        "\n"
      ],
      "execution_count": null,
      "outputs": [
        {
          "output_type": "stream",
          "text": [
            "Se realizara la compra de pañales etapa 3... Se ha iniciado la compra y asignacion en el carrito. En total hay: 0 pañales\n",
            "Ahora hay: 1 pañal\n",
            "Ahora hay: 2 pañal\n",
            "Ahora hay: 3 pañal\n",
            "Ahora hay: 4 pañal\n"
          ],
          "name": "stdout"
        }
      ]
    },
    {
      "cell_type": "markdown",
      "metadata": {
        "id": "63OY4CIpkSjb"
      },
      "source": [
        "**Cliclos controlados por condiciones**\n",
        "\n",
        "\"WHILE\"\n",
        "\n",
        "---\n",
        "Recordemos que las variables de control nos permiten pasar de un estado a otro, por ejemplo, una variable que no contiene elementos a contenerlo o una variable u elemento particular(Acumulador o Control) y cambiarlo por completo(Bandera).\n",
        "\n",
        "Estas variables de control son la base de ciclos de control. Siendo mas claros, pasar de una adicion manual a algo mas automatizado.\n",
        "\n",
        "Empezamos con el ciclo \"While\". En español es \"mientras\". Este ciclo se compone de una **condicion** y su **bloque de codigo** Lo que quiere While es que el bloque de codigo d¿se ejecutara **mientras** la condicion da como resultado TRue or False.\n",
        "\n"
      ]
    },
    {
      "cell_type": "code",
      "metadata": {
        "id": "NOIC_f1wpKCO",
        "colab": {
          "base_uri": "https://localhost:8080/"
        },
        "outputId": "657f3a04-155a-4908-86e7-4e2f404d96f4"
      },
      "source": [
        "lapiz=5\n",
        "contlapiz=0\n",
        "print(\"Se ha iniciado la compra. En total hay:\", contlapiz, lapiz)\n",
        "\n",
        "while (contlapiz <lapiz):\n",
        "  contlapiz=contlapiz+1\n",
        "  print(\"Se ha realizado la compra de Lapices. Ahora hay\" + str(contlapiz)+ \" lapiz\")\n",
        "\n",
        "a=str(contlapiz)\n",
        "print(type(contlapiz))\n",
        "print(type(a))\n"
      ],
      "execution_count": 21,
      "outputs": [
        {
          "output_type": "stream",
          "text": [
            "Se ha iniciado la compra. En total hay: 0 5\n",
            "Se ha realizado la compra de Lapices. Ahora hay1 lapiz\n",
            "Se ha realizado la compra de Lapices. Ahora hay2 lapiz\n",
            "Se ha realizado la compra de Lapices. Ahora hay3 lapiz\n",
            "Se ha realizado la compra de Lapices. Ahora hay4 lapiz\n",
            "Se ha realizado la compra de Lapices. Ahora hay5 lapiz\n",
            "<class 'int'>\n",
            "<class 'str'>\n"
          ],
          "name": "stdout"
        }
      ]
    },
    {
      "cell_type": "markdown",
      "metadata": {
        "id": "EhJZKxqHwVwi"
      },
      "source": [
        "Tener en cuenta que dentro del ciclo de WHILE se va afectando las variables implicadas en la declaracion de la condicion que debe cumplir el ciclo. En el ejemplo anterior la variable contlapizpara que en algun momento la condicion sea verdadera y termine el ciclo se tiene que cumplir la condicion (contlapiz<lapiz). De lo contrario tendriamos un ciclo que nunca se detendria, lo cual decantaria en un ciclo interminable. "
      ]
    },
    {
      "cell_type": "markdown",
      "metadata": {
        "id": "bLilpp5gxp-o"
      },
      "source": [
        "**CLICLO DE FOR**\n",
        "\n",
        "---\n",
        "Es un ciclo especializado y optimizado para los ciclos controlados por cantidad. Se compone de tres elementos:\n",
        "1.variable de iteracion\n",
        "2.Elemento de iteracion\n",
        "3.Bloque de codigo a iterar\n",
        "\n",
        "**¿ventajas de usar el FOR?**\n",
        "En Python es muy importante y se considera una e¿herramienta bastante flexible y poderosa por permitir ingresar estructuaras de datos bastante complejas, cadena de caracteres, estructuras, rangos, entre otros. Los elementos de iteracion usados en esta estructura de datos son necesarios que tengan la siguiente caracteristica:\n",
        " 1. cantidad definida (Esto lo diferencia totalmente del while)\n",
        " \n",
        " El while parte de una condicion de verdad pero el for parte de una cantidad definida.\n",
        " "
      ]
    },
    {
      "cell_type": "code",
      "metadata": {
        "colab": {
          "base_uri": "https://localhost:8080/"
        },
        "id": "415uecG_y3ET",
        "outputId": "38313c18-cafa-4103-c030-7bd8bff57f3d"
      },
      "source": [
        "#Retomando el ejemplo de la compra de los lapices\n",
        "print(\"se ha iniciado la compra. En total hay: 0 lapices,\")\n",
        "for i in range(1,10): #En los rangos, la funcion range manejan un intervalo abierto a la derecha y cerrado a la izquierda\n",
        " print(\"Se ha realizado la compra de lapices, Ahora hay\",i,\"lapices\")"
      ],
      "execution_count": 25,
      "outputs": [
        {
          "output_type": "stream",
          "text": [
            "se ha iniciado la compra. En total hay: 0 lapices,\n",
            "Se ha realizado la compra de lapices, Ahora hay 1 lapices\n",
            "Se ha realizado la compra de lapices, Ahora hay 2 lapices\n",
            "Se ha realizado la compra de lapices, Ahora hay 3 lapices\n",
            "Se ha realizado la compra de lapices, Ahora hay 4 lapices\n",
            "Se ha realizado la compra de lapices, Ahora hay 5 lapices\n",
            "Se ha realizado la compra de lapices, Ahora hay 6 lapices\n",
            "Se ha realizado la compra de lapices, Ahora hay 7 lapices\n",
            "Se ha realizado la compra de lapices, Ahora hay 8 lapices\n",
            "Se ha realizado la compra de lapices, Ahora hay 9 lapices\n"
          ],
          "name": "stdout"
        }
      ]
    },
    {
      "cell_type": "markdown",
      "metadata": {
        "id": "fKMVvKMJzZOQ"
      },
      "source": [
        ""
      ]
    }
  ]
}