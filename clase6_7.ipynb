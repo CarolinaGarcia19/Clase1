{
  "nbformat": 4,
  "nbformat_minor": 0,
  "metadata": {
    "colab": {
      "name": "clase6-7.ipynb",
      "provenance": [],
      "authorship_tag": "ABX9TyOM21FT2z6hNWa9ywn7/1vi",
      "include_colab_link": true
    },
    "kernelspec": {
      "name": "python3",
      "display_name": "Python 3"
    },
    "language_info": {
      "name": "python"
    }
  },
  "cells": [
    {
      "cell_type": "markdown",
      "metadata": {
        "id": "view-in-github",
        "colab_type": "text"
      },
      "source": [
        "<a href=\"https://colab.research.google.com/github/CarolinaGarcia19/Clase1/blob/main/clase6_7.ipynb\" target=\"_parent\"><img src=\"https://colab.research.google.com/assets/colab-badge.svg\" alt=\"Open In Colab\"/></a>"
      ]
    },
    {
      "cell_type": "markdown",
      "metadata": {
        "id": "SAsgAQarOWTK"
      },
      "source": [
        "**CONTINUACION DE LOS EJEMPLOS DEL USO DE LISTAS DE COMPRENSION**\n",
        "---\n",
        "COMPRENSION DE CONJUNTOS\n",
        "\n",
        "---\n",
        "La comprension de conjuntos es muy similar a la que veniamos manejando con listas. La unica diferencia es que se usa los{}.\n",
        "\n",
        "Recordemos que los conjuntos tambien deniminados *sets* no permiten duplicados, es decir, cada elemento es unico. Si se llega a añadir un elemento repetitivo no arrojara error pero no se mostrara en el print.\n"
      ]
    },
    {
      "cell_type": "code",
      "metadata": {
        "colab": {
          "base_uri": "https://localhost:8080/"
        },
        "id": "GsEp7tVDPSVj",
        "outputId": "13d5810b-97cb-4e22-8181-423cd4941fbc"
      },
      "source": [
        "sa=\"ema ama a mama\"\n",
        "sa2={i for i in sa if i==\"m\"}\n",
        "print(sa2)"
      ],
      "execution_count": 32,
      "outputs": [
        {
          "output_type": "stream",
          "text": [
            "{'m'}\n"
          ],
          "name": "stdout"
        }
      ]
    },
    {
      "cell_type": "markdown",
      "metadata": {
        "id": "jxTon5LqQGmZ"
      },
      "source": [
        "Ahora, veamos a continuacion el caso de diccionarios de compresion.La unica diferencia que tiene respecto a las listas o conjuntos de comprension es la especificacion de llaves o claves(key)"
      ]
    },
    {
      "cell_type": "code",
      "metadata": {
        "colab": {
          "base_uri": "https://localhost:8080/"
        },
        "id": "fR6cXY62QcrC",
        "outputId": "e7f0ab08-9f41-49b4-e657-aa552adcf7e5"
      },
      "source": [
        "lista1=[\"nombre\",\"apellido\",\"ciudad\"]\n",
        "lista2=[\"Ana\",\"Rodriguez\",\"Popayan\"]\n",
        "\n",
        "dic={i:j for i,j in zip(lista1,lista2)}\n",
        "print(dic)"
      ],
      "execution_count": 35,
      "outputs": [
        {
          "output_type": "stream",
          "text": [
            "{'nombre': 'Ana', 'apellido': 'Rodriguez', 'ciudad': 'Popayan'}\n"
          ],
          "name": "stdout"
        }
      ]
    },
    {
      "cell_type": "markdown",
      "metadata": {
        "id": "0Xjo706vReJ8"
      },
      "source": [
        "pudimos observar que añadiendo : asignamos un valor a la llave declarada, a su vez, usamos zip() el cual tiene como funcion iterar dos listas en paralelo. Es decir con zip podemo convertir dos listas en un diccionario y el for se manejaria iterando dos valores en simultaneo."
      ]
    },
    {
      "cell_type": "markdown",
      "metadata": {
        "id": "zR1gm0SGSFmb"
      },
      "source": [
        "**OTRAS ESTRUCTURAS DE CONTROL**\n",
        "\n",
        "---\n",
        "1. Switch\n",
        "2. Break\n",
        "3. Continue\n",
        "4. complemento de iteracion (Enumerate).\n",
        "\n",
        "**1. Switch**\n",
        "El switch es una herramienta que permite ejecutar diferentes secciones de codigo dependiedo de las condiciones impuestas. Su funcion es muy similar a usar if anidados o varios if por separado al mismo tiempo.\n",
        "\n",
        "Sin embargo en Python no hay switch directo.\n",
        "\n",
        "**2. Break**\n",
        "Nos permite alterar el comportamiento de los ciclos de while y for. Directamente su funcion es la de finalizar los ciclos."
      ]
    },
    {
      "cell_type": "code",
      "metadata": {
        "colab": {
          "base_uri": "https://localhost:8080/"
        },
        "id": "CyOHR0HsThHl",
        "outputId": "0bac6145-0aac-4c8c-c898-79bcfde57f4c"
      },
      "source": [
        "x=\"Andrea\"\n",
        "for i in x:\n",
        "  if i==\"e\":\n",
        "   print(\"Se obtuvo de la letra e\")\n",
        "   break\n",
        "print(i)"
      ],
      "execution_count": 39,
      "outputs": [
        {
          "output_type": "stream",
          "text": [
            "Se obtuvo de la letra e\n",
            "e\n"
          ],
          "name": "stdout"
        }
      ]
    },
    {
      "cell_type": "code",
      "metadata": {
        "id": "P8403dMCUn74"
      },
      "source": [
        ""
      ],
      "execution_count": null,
      "outputs": []
    },
    {
      "cell_type": "code",
      "metadata": {
        "colab": {
          "base_uri": "https://localhost:8080/"
        },
        "id": "KNzp0xLDUoAQ",
        "outputId": "d0018576-26b3-4ffe-b78c-130ec483fd65"
      },
      "source": [
        "x=15\n",
        "while True:\n",
        "  x -=1\n",
        "  print(x)\n",
        "  if x==0: \n",
        "    break\n",
        "  print(\"Se finaliza ciclo\")"
      ],
      "execution_count": 40,
      "outputs": [
        {
          "output_type": "stream",
          "text": [
            "14\n",
            "Se finaliza ciclo\n",
            "13\n",
            "Se finaliza ciclo\n",
            "12\n",
            "Se finaliza ciclo\n",
            "11\n",
            "Se finaliza ciclo\n",
            "10\n",
            "Se finaliza ciclo\n",
            "9\n",
            "Se finaliza ciclo\n",
            "8\n",
            "Se finaliza ciclo\n",
            "7\n",
            "Se finaliza ciclo\n",
            "6\n",
            "Se finaliza ciclo\n",
            "5\n",
            "Se finaliza ciclo\n",
            "4\n",
            "Se finaliza ciclo\n",
            "3\n",
            "Se finaliza ciclo\n",
            "2\n",
            "Se finaliza ciclo\n",
            "1\n",
            "Se finaliza ciclo\n",
            "0\n"
          ],
          "name": "stdout"
        }
      ]
    },
    {
      "cell_type": "code",
      "metadata": {
        "colab": {
          "base_uri": "https://localhost:8080/"
        },
        "id": "TVDBZlsaWBMm",
        "outputId": "ab909353-3238-4e35-f5b8-2d63fe3202fb"
      },
      "source": [
        "##Uso de break con los ciclos anidados:\n",
        "\n",
        "for i in range(1,8):\n",
        " for j in range(1,8):\n",
        "  break\n",
        " print(i,j)\n",
        "\n",
        " #El break no afecta el for exterior, rompe el ciclo anidado en su conjunto,\n",
        " #Pero no afecta directamente el ciclo esterior."
      ],
      "execution_count": 45,
      "outputs": [
        {
          "output_type": "stream",
          "text": [
            "1 1\n",
            "2 1\n",
            "3 1\n",
            "4 1\n",
            "5 1\n",
            "6 1\n",
            "7 1\n"
          ],
          "name": "stdout"
        }
      ]
    },
    {
      "cell_type": "markdown",
      "metadata": {
        "id": "6MNaCcTOXeEW"
      },
      "source": [
        "**2.CONTINUE**\n",
        "\n",
        "---\n",
        "El *CONTINUE* se salta todo el codigo restante en la iteracion actual y vuelve al principio en caso que queda elementos por iterar.\n",
        "\n",
        "Diferencias entre break y continue:\n",
        "La principal diferencia es que el continue no rompe el ciclo sino que pasa a la iteracion pendiente.\n"
      ]
    },
    {
      "cell_type": "code",
      "metadata": {
        "colab": {
          "base_uri": "https://localhost:8080/"
        },
        "id": "dkMN_LCrYAB7",
        "outputId": "5bd098d7-9f93-4bde-b758-a6855d65c16c"
      },
      "source": [
        "x=\"Andrea\"\n",
        "for i in x:\n",
        "  if i==\"r\":\n",
        "    continue \n",
        "  print(i)"
      ],
      "execution_count": 47,
      "outputs": [
        {
          "output_type": "stream",
          "text": [
            "A\n",
            "n\n",
            "d\n",
            "e\n",
            "a\n"
          ],
          "name": "stdout"
        }
      ]
    },
    {
      "cell_type": "code",
      "metadata": {
        "colab": {
          "base_uri": "https://localhost:8080/"
        },
        "id": "4wtUmEwfYYXL",
        "outputId": "fc896fd0-c297-47e3-e555-a5e165fc6be9"
      },
      "source": [
        "x=15\n",
        "while x>0:\n",
        "  x -=1\n",
        "  if x==3:\n",
        "    continue\n",
        "  print(x)"
      ],
      "execution_count": 48,
      "outputs": [
        {
          "output_type": "stream",
          "text": [
            "14\n",
            "13\n",
            "12\n",
            "11\n",
            "10\n",
            "9\n",
            "8\n",
            "7\n",
            "6\n",
            "5\n",
            "4\n",
            "2\n",
            "1\n",
            "0\n"
          ],
          "name": "stdout"
        }
      ]
    },
    {
      "cell_type": "markdown",
      "metadata": {
        "id": "477u8gRyXBlX"
      },
      "source": [
        "**Iterar con enumerate**\n",
        "\n",
        "---\n",
        "Python nos permite iterar colecciones de objetos y elementos de la misma forma.Sin embargo hay una opcion que en algunas situaciones que queramos acceder a un elemento ordenado podemos hacerlonombrando en indice de cada elemento llamado. "
      ]
    },
    {
      "cell_type": "code",
      "metadata": {
        "colab": {
          "base_uri": "https://localhost:8080/"
        },
        "id": "XwIixnvFasP6",
        "outputId": "ff1604e0-7341-4dd9-ba49-f1ae60f696fe"
      },
      "source": [
        "w=[\"sa\",\"se\",\"si\",\"so\",\"su\"]\n",
        "indice=1\n",
        "for i in w:\n",
        "  print(indice,i)\n",
        "  indice +=1"
      ],
      "execution_count": 50,
      "outputs": [
        {
          "output_type": "stream",
          "text": [
            "1 sa\n",
            "2 se\n",
            "3 si\n",
            "4 so\n",
            "5 su\n"
          ],
          "name": "stdout"
        }
      ]
    },
    {
      "cell_type": "code",
      "metadata": {
        "colab": {
          "base_uri": "https://localhost:8080/"
        },
        "id": "b3PM2RNIbPBa",
        "outputId": "9a2b3e4a-e085-453d-f48b-117057922dd2"
      },
      "source": [
        "w=[\"sa\",\"se\",\"si\",\"so\",\"su\"]\n",
        "for indice, i in enumerate(w):\n",
        "  print(indice,i)\n",
        "\n",
        "x=list(enumerate(w))\n",
        "print(x)"
      ],
      "execution_count": 52,
      "outputs": [
        {
          "output_type": "stream",
          "text": [
            "0 sa\n",
            "1 se\n",
            "2 si\n",
            "3 so\n",
            "4 su\n",
            "[(0, 'sa'), (1, 'se'), (2, 'si'), (3, 'so'), (4, 'su')]\n"
          ],
          "name": "stdout"
        }
      ]
    },
    {
      "cell_type": "markdown",
      "metadata": {
        "id": "tvixA6nFccuT"
      },
      "source": [
        "**Uso zip()**\n",
        "\n",
        "---\n",
        "Si pasamos dos listas a zip, el resultado sera una tupla donde cada elemento tendra todos y cada uno de los elementos de las entradas"
      ]
    },
    {
      "cell_type": "code",
      "metadata": {
        "colab": {
          "base_uri": "https://localhost:8080/"
        },
        "id": "4FlJYAANc3Lg",
        "outputId": "d19adb1e-60f7-467c-a7e8-2731ba9babe5"
      },
      "source": [
        "a=[1,2,3]\n",
        "b=[\"a\",\"b\",\"c\"]\n",
        "x=(\"q\",\"w\",\"e\")\n",
        "z=(10,20,30)\n",
        "c=zip(a,b)\n",
        "print(list(c))\n",
        "\n",
        "for lu,la,le,li in zip(a,b, x,z):\n",
        "  print(lu,la,le,li)\n"
      ],
      "execution_count": 56,
      "outputs": [
        {
          "output_type": "stream",
          "text": [
            "[(1, 'a'), (2, 'b'), (3, 'c')]\n",
            "1 a q 10\n",
            "2 b w 20\n",
            "3 c e 30\n"
          ],
          "name": "stdout"
        }
      ]
    },
    {
      "cell_type": "code",
      "metadata": {
        "colab": {
          "base_uri": "https://localhost:8080/"
        },
        "id": "gvjK-cRve6Og",
        "outputId": "2ca1f05f-cdc4-4846-d63a-c184fecafaee"
      },
      "source": [
        "a=[1,2,3]\n",
        "b=[\"a\",\"b\"]\n",
        "\n",
        "for sa, se in zip(a,b):\n",
        "  print(sa, se)\n"
      ],
      "execution_count": 59,
      "outputs": [
        {
          "output_type": "stream",
          "text": [
            "1 a\n",
            "2 b\n"
          ],
          "name": "stdout"
        }
      ]
    },
    {
      "cell_type": "code",
      "metadata": {
        "colab": {
          "base_uri": "https://localhost:8080/"
        },
        "id": "CrQJnaYNgeqh",
        "outputId": "e9b54fd2-95e3-4dfd-97bb-e8e6d7aee6e7"
      },
      "source": [
        "a=[1,2,3]\n",
        "b=[\"a\",\"b\",\"c\"]\n",
        "c=zip(a,b)\n",
        "print(list(c))"
      ],
      "execution_count": 62,
      "outputs": [
        {
          "output_type": "stream",
          "text": [
            "[(1, 'a'), (2, 'b'), (3, 'c')]\n"
          ],
          "name": "stdout"
        }
      ]
    },
    {
      "cell_type": "markdown",
      "metadata": {
        "id": "oEqtUouGhuPu"
      },
      "source": [
        "**FUNCIONES**\n",
        "\n",
        "---\n",
        "La funcion nos permite ordenar de manera adecuada la generacion de objetos y bloques de codigo por ciclos y demas estructuras.\n",
        "\n",
        "La sintaxis es la siguiente:\n",
        "\n",
        "def nombre_funcion(argumentos):\n",
        "  codigo \n",
        "\n",
        "nombre_funcion(argumentos2)\n"
      ]
    },
    {
      "cell_type": "code",
      "metadata": {
        "colab": {
          "base_uri": "https://localhost:8080/"
        },
        "id": "K4OpCGoUifEb",
        "outputId": "c0ac0d22-7df4-4bda-8e34-43a3259e5892"
      },
      "source": [
        "def f(a):\n",
        "  return 2*a\n",
        "y=f(3)\n",
        "print(y)  "
      ],
      "execution_count": 64,
      "outputs": [
        {
          "output_type": "stream",
          "text": [
            "6\n"
          ],
          "name": "stdout"
        }
      ]
    },
    {
      "cell_type": "markdown",
      "metadata": {
        "id": "oycsFd86jOS0"
      },
      "source": [
        "Las funciones no solo realizan una operacion con sus entradas( argumentos de inicio). sino tambien parte de los siguientes principios:\n",
        "\n",
        "**1.Reusabilidad:** si tenemos un fragmento de codigo usado en muchos sitios y se guarda en una funcion, nos evitara tener codigos repetidos, ademas de la conveniencia que tiene por ser facilmente editable.\n",
        "\n",
        "**2. Modularidad:** Permite legibilidad de forma mas sencilla, es decir, los largos bloques de codigo se pueden agrupar en modulos o funciones y la lectura va a ser mucho mas sencilla.\n"
      ]
    },
    {
      "cell_type": "code",
      "metadata": {
        "colab": {
          "base_uri": "https://localhost:8080/"
        },
        "id": "PZTbAGKekSX6",
        "outputId": "e1a07170-197d-4955-b967-32d4ec6ec739"
      },
      "source": [
        "#Ejemplo 1: Funcion sin argumentos de entrada ni parametros de salida\n",
        "\n",
        "def s(): #Declaracion de funcion\n",
        "  print(\"Hi Luisa\")\n",
        "s() #Al cerrar la definicion de funcion ma va a aparecer la ejecucion del codigo\n"
      ],
      "execution_count": 66,
      "outputs": [
        {
          "output_type": "stream",
          "text": [
            "Hi Luisa\n"
          ],
          "name": "stdout"
        }
      ]
    },
    {
      "cell_type": "code",
      "metadata": {
        "colab": {
          "base_uri": "https://localhost:8080/"
        },
        "id": "w8MzRZvgk-M7",
        "outputId": "0e7ecad7-d07f-4208-f64f-4466167e0e23"
      },
      "source": [
        "#Ejemplo 2. Incluir argumentos de entrada\n",
        "\n",
        "def s(apellido):\n",
        "  print(\"Hi Luisa\", apellido)\n",
        "s(\"Varon\")"
      ],
      "execution_count": 67,
      "outputs": [
        {
          "output_type": "stream",
          "text": [
            "Hi Luisa Varon\n"
          ],
          "name": "stdout"
        }
      ]
    },
    {
      "cell_type": "code",
      "metadata": {
        "colab": {
          "base_uri": "https://localhost:8080/"
        },
        "id": "Sg3kOVh9lkaa",
        "outputId": "61cd45ab-587d-4072-d876-8afb458599cb"
      },
      "source": [
        "#Ejemplo 3. Usando dos argumentos de entrada y salida y operacion matematica\n",
        "def suma(a,b):\n",
        "  return a+b\n",
        "suma(3,5)"
      ],
      "execution_count": 68,
      "outputs": [
        {
          "output_type": "execute_result",
          "data": {
            "text/plain": [
              "8"
            ]
          },
          "metadata": {
            "tags": []
          },
          "execution_count": 68
        }
      ]
    },
    {
      "cell_type": "code",
      "metadata": {
        "colab": {
          "base_uri": "https://localhost:8080/"
        },
        "id": "6cliZjHpmfkY",
        "outputId": "1f23f2c7-c4d9-4af0-a85d-3b8279264d8c"
      },
      "source": [
        "#Ejemplo 4. Reusabilidad del codigo\n",
        "suma(a=3, b=20)"
      ],
      "execution_count": 70,
      "outputs": [
        {
          "output_type": "execute_result",
          "data": {
            "text/plain": [
              "23"
            ]
          },
          "metadata": {
            "tags": []
          },
          "execution_count": 70
        }
      ]
    },
    {
      "cell_type": "code",
      "metadata": {
        "colab": {
          "base_uri": "https://localhost:8080/"
        },
        "id": "CGM-WB67nLym",
        "outputId": "c18b639c-f2fd-4f7c-bc02-9bb127d2d0b5"
      },
      "source": [
        "#Ejemplo 4. Argumentos fijos desde el inicio\n",
        "\n",
        "def suma(a,b,c,d=1):\n",
        "  return a+b+c+d\n",
        "suma(2,3,4,2)"
      ],
      "execution_count": 73,
      "outputs": [
        {
          "output_type": "execute_result",
          "data": {
            "text/plain": [
              "11"
            ]
          },
          "metadata": {
            "tags": []
          },
          "execution_count": 73
        }
      ]
    },
    {
      "cell_type": "code",
      "metadata": {
        "colab": {
          "base_uri": "https://localhost:8080/"
        },
        "id": "DkQMLuxnoln3",
        "outputId": "b115d256-0b7f-4e98-a0dc-f876b558ad4c"
      },
      "source": [
        "suma(2,3,3,4)"
      ],
      "execution_count": 74,
      "outputs": [
        {
          "output_type": "execute_result",
          "data": {
            "text/plain": [
              "12"
            ]
          },
          "metadata": {
            "tags": []
          },
          "execution_count": 74
        }
      ]
    },
    {
      "cell_type": "code",
      "metadata": {
        "colab": {
          "base_uri": "https://localhost:8080/"
        },
        "id": "k1NgpiQ8pHbP",
        "outputId": "07d98fc8-fd13-43de-dc5a-909b92c57802"
      },
      "source": [
        "def suma(a=2, b=3, c=4, d=5):\n",
        "  return a+b+c+d\n",
        "suma()\n",
        "\n",
        "suma(1)\n",
        "suma(a=1,c=5)\n"
      ],
      "execution_count": 75,
      "outputs": [
        {
          "output_type": "execute_result",
          "data": {
            "text/plain": [
              "14"
            ]
          },
          "metadata": {
            "tags": []
          },
          "execution_count": 75
        }
      ]
    },
    {
      "cell_type": "markdown",
      "metadata": {
        "id": "pcI8ziqLU7p7"
      },
      "source": [
        ""
      ]
    },
    {
      "cell_type": "code",
      "metadata": {
        "id": "MQAVlPm2RdmD"
      },
      "source": [
        "#Ejemplo 5 Argumentos de longitud de variable\n",
        "\n",
        "def suma(number):\n",
        "  total=0\n",
        "  for i in number:\n",
        "    total +=i \n",
        "    return total \n",
        "suma([1,3,5,4])\n"
      ],
      "execution_count": 82,
      "outputs": []
    },
    {
      "cell_type": "markdown",
      "metadata": {
        "id": "DYnYDEtgrkDO"
      },
      "source": [
        "Se realizo la suma de todos los numeros de entrada. Para ello la declaracion de los argumentos de salida seria como una lista.\n",
        "La forma de sintaxis anterior es valida, sin embargo, tenemos un solo argumento que es una lista de numeros.\n",
        "\n",
        "Di declaramos una argumento con *, esto hara que el argumento sea guardado como tupla de manera automatica."
      ]
    },
    {
      "cell_type": "markdown",
      "metadata": {
        "id": "3R0SfgcUzEpr"
      },
      "source": [
        "**Continuacion de funciones**"
      ]
    },
    {
      "cell_type": "code",
      "metadata": {
        "id": "uvkdsJyhzOYb"
      },
      "source": [
        "##Recordemos el ejercicio de la clase pasada\n",
        "def suma(*number):\n",
        "  print(type(number))\n",
        "  total=0\n",
        "  for i in number:\n",
        "    total+=i\n",
        "    return total\n",
        "    suma(2,3,5,4)"
      ],
      "execution_count": 2,
      "outputs": []
    },
    {
      "cell_type": "code",
      "metadata": {
        "colab": {
          "base_uri": "https://localhost:8080/"
        },
        "id": "YwblRU_QyklL",
        "outputId": "993e9c76-646b-47c4-f3c3-31997c2dc929"
      },
      "source": [
        "suma(1,2,5,6,7,9) #Al realizar el cambio y/o edicion de la funcion suma que veniamos usando, se puede añadir n elementos para iterar la funcion"
      ],
      "execution_count": 3,
      "outputs": [
        {
          "output_type": "stream",
          "text": [
            "<class 'tuple'>\n"
          ],
          "name": "stdout"
        },
        {
          "output_type": "execute_result",
          "data": {
            "text/plain": [
              "1"
            ]
          },
          "metadata": {
            "tags": []
          },
          "execution_count": 3
        }
      ]
    },
    {
      "cell_type": "markdown",
      "metadata": {
        "id": "ouzdQA4X2pzW"
      },
      "source": [
        "El uso de **:\n",
        "El uso de doble * nos permite tener como parametro de entrada una lista de elementos en forma de clave y valor. La forma de iterar sera usando el comando * item()"
      ]
    },
    {
      "cell_type": "code",
      "metadata": {
        "colab": {
          "base_uri": "https://localhost:8080/"
        },
        "id": "xasYJEi03Hlb",
        "outputId": "18034e38-c769-416d-a487-1f3311e86f8b"
      },
      "source": [
        "def suma(**dado):\n",
        "  suma=0;\n",
        "  for i,j in dado.items():\n",
        "    suma +=j\n",
        "  return suma\n",
        "\n",
        "suma(a=3, b=30, c=7)\n"
      ],
      "execution_count": 4,
      "outputs": [
        {
          "output_type": "execute_result",
          "data": {
            "text/plain": [
              "40"
            ]
          },
          "metadata": {
            "tags": []
          },
          "execution_count": 4
        }
      ]
    },
    {
      "cell_type": "markdown",
      "metadata": {
        "id": "U3FJSM8039Sx"
      },
      "source": [
        "**Ampliemos la definicion del comando return**\n",
        "\n",
        "---\n",
        "1. Devolver parametros."
      ]
    },
    {
      "cell_type": "code",
      "metadata": {
        "colab": {
          "base_uri": "https://localhost:8080/",
          "height": 35
        },
        "id": "oh6EfWkI4WG3",
        "outputId": "5f85ecbc-20d7-43c9-a44b-f26eff84bac8"
      },
      "source": [
        "def w():\n",
        "  return \"Hi\"\n",
        "w()"
      ],
      "execution_count": 5,
      "outputs": [
        {
          "output_type": "execute_result",
          "data": {
            "application/vnd.google.colaboratory.intrinsic+json": {
              "type": "string"
            },
            "text/plain": [
              "'Hi'"
            ]
          },
          "metadata": {
            "tags": []
          },
          "execution_count": 5
        }
      ]
    },
    {
      "cell_type": "markdown",
      "metadata": {
        "id": "H1lqIECq4pLD"
      },
      "source": [
        "2. Devolver varias variables"
      ]
    },
    {
      "cell_type": "code",
      "metadata": {
        "colab": {
          "base_uri": "https://localhost:8080/"
        },
        "id": "A-spw2aM4x9J",
        "outputId": "f080acbb-8206-4d03-c28c-46c2df335298"
      },
      "source": [
        "def sd(a,b,c):\n",
        "  q=a+b+c #Declaracion de variable con una suma de argumentos\n",
        "  z=q/3   #Declaracion de variable con el promedio\n",
        "  return q,z\n",
        "q,z=sd(2,4,6)  \n",
        "print(q)\n",
        "print(z)"
      ],
      "execution_count": 6,
      "outputs": [
        {
          "output_type": "stream",
          "text": [
            "12\n",
            "4.0\n"
          ],
          "name": "stdout"
        }
      ]
    },
    {
      "cell_type": "markdown",
      "metadata": {
        "id": "OIF0nfze5mmq"
      },
      "source": [
        "**Formas de hacer documentacion en programacion y por bloques de codigo o linea\n",
        "\n",
        "---"
      ]
    },
    {
      "cell_type": "code",
      "metadata": {
        "colab": {
          "base_uri": "https://localhost:8080/"
        },
        "id": "JF26S7HN6Adn",
        "outputId": "46a96b5c-0f7e-4c84-c51b-2d7eb3bf907a"
      },
      "source": [
        "def paula(a,b):\n",
        "  \"\"\"\n",
        "  Descripcion de la funcion, los parametros que se van a usar, explicar como se usa y que operaciones devuelve esta funcion\n",
        "  \"\"\"\n",
        "  return a+b\n",
        "paula(2,3)  \n"
      ],
      "execution_count": 7,
      "outputs": [
        {
          "output_type": "execute_result",
          "data": {
            "text/plain": [
              "5"
            ]
          },
          "metadata": {
            "tags": []
          },
          "execution_count": 7
        }
      ]
    },
    {
      "cell_type": "code",
      "metadata": {
        "colab": {
          "base_uri": "https://localhost:8080/"
        },
        "id": "XVdSP1Yr7C32",
        "outputId": "8df8e046-d475-431c-f52a-8a5ca4abc652"
      },
      "source": [
        "help(paula)"
      ],
      "execution_count": 8,
      "outputs": [
        {
          "output_type": "stream",
          "text": [
            "Help on function paula in module __main__:\n",
            "\n",
            "paula(a, b)\n",
            "    Descripcion de la funcion, los parametros que se van a usar, explicar como se usa y que operaciones devuelve esta funcion\n",
            "\n"
          ],
          "name": "stdout"
        }
      ]
    },
    {
      "cell_type": "code",
      "metadata": {
        "colab": {
          "base_uri": "https://localhost:8080/"
        },
        "id": "Fm0h95BG7g98",
        "outputId": "73071fdb-d421-4ef2-8971-2b05d0f7345f"
      },
      "source": [
        "print(paula.__doc__) #Otra forma de llamar al comentario es print del # funcion segudo de .__doc__"
      ],
      "execution_count": 9,
      "outputs": [
        {
          "output_type": "stream",
          "text": [
            "\n",
            "  Descripcion de la funcion, los parametros que se van a usar, explicar como se usa y que operaciones devuelve esta funcion\n",
            "  \n"
          ],
          "name": "stdout"
        }
      ]
    },
    {
      "cell_type": "markdown",
      "metadata": {
        "id": "Od0kkce-8gME"
      },
      "source": [
        "**Diferencias entre valores y referencias**\n",
        "\n",
        "---\n",
        "Existen dos conceptos de paso por *valor* u p*r *referencia* que se aplican a la hora de tratar a los parametros de entrada de una funcion:\n",
        "\n",
        "1. Si se usa un parametro que pasa por valor, se crea una copia locar de la variable, lo cual implica que cualquier modificacion sobre esta no tendra repercusiones sobre la basa original.\n",
        "\n",
        "2. Si la variable pasa como referencia, \n",
        "si actuara directamente sobre la base original.\n"
      ]
    },
    {
      "cell_type": "code",
      "metadata": {
        "colab": {
          "base_uri": "https://localhost:8080/"
        },
        "id": "xUFg6n0I9rm9",
        "outputId": "5eb9e9c9-c15a-478a-b99b-83cd9461729d"
      },
      "source": [
        "#Ejemplo de paso por**valor**\n",
        "\n",
        "x=3\n",
        "def funcion(w):\n",
        "  w=0\n",
        "funcion(x)\n",
        "print(x)\n"
      ],
      "execution_count": 11,
      "outputs": [
        {
          "output_type": "stream",
          "text": [
            "3\n"
          ],
          "name": "stdout"
        }
      ]
    },
    {
      "cell_type": "markdown",
      "metadata": {
        "id": "T6ClJ97d-b67"
      },
      "source": [
        "1. inicio con x=3\n",
        "2. Se lo pasamos a la funcion()\n",
        "3. Dentro de esta funcion hacemos que la variable valga cero\n",
        "4. Dado que pasa como valor dentro de la funcion se crea una copia locar de x.\n",
        "por lo cual la variable original no se modifica"
      ]
    },
    {
      "cell_type": "code",
      "metadata": {
        "colab": {
          "base_uri": "https://localhost:8080/"
        },
        "id": "I3Yqz1ek_G2c",
        "outputId": "18987d80-b7cd-4a59-8fea-466dc0292690"
      },
      "source": [
        "##Caso que pasa por **Referencia**\n",
        "x=[3,6,9,12]\n",
        "def sw(tipo):\n",
        "  tipo.append(50)\n",
        "sw(x)\n",
        "print(x)  "
      ],
      "execution_count": 12,
      "outputs": [
        {
          "output_type": "stream",
          "text": [
            "[3, 6, 9, 12, 50]\n"
          ],
          "name": "stdout"
        }
      ]
    },
    {
      "cell_type": "markdown",
      "metadata": {
        "id": "jVzMxdpWBnzB"
      },
      "source": [
        "**Tipos de Funciones**\n",
        "\n",
        "---\n",
        "1. Funcion Lambda\n",
        "---\n",
        "Son funciones que normalmente se usan para definir el codigo en una sola linea."
      ]
    },
    {
      "cell_type": "code",
      "metadata": {
        "colab": {
          "base_uri": "https://localhost:8080/"
        },
        "id": "MwBGk7AbB31K",
        "outputId": "7c2d25f0-e621-4cbd-fddb-f12b6a0c982b"
      },
      "source": [
        "#Lo que normalmente seria la definicion de la funcion de este estilo:\n",
        "#def suma(a,b,c,d):\n",
        "#  return a+b+c+d\n",
        "\n",
        "#,# se puede escribir de la siguiente forma:\n",
        "(lambda a,b,c,d: a+b+c+d)(1,2,3,4)\n"
      ],
      "execution_count": 14,
      "outputs": [
        {
          "output_type": "execute_result",
          "data": {
            "text/plain": [
              "10"
            ]
          },
          "metadata": {
            "tags": []
          },
          "execution_count": 14
        }
      ]
    },
    {
      "cell_type": "code",
      "metadata": {
        "colab": {
          "base_uri": "https://localhost:8080/"
        },
        "id": "y6d7aEL4DQTc",
        "outputId": "68dd3828-db62-4d53-e10a-86f0c59c6539"
      },
      "source": [
        "(lambda *number:sum(number))(1,4,5,6,7,8,9)"
      ],
      "execution_count": 16,
      "outputs": [
        {
          "output_type": "execute_result",
          "data": {
            "text/plain": [
              "40"
            ]
          },
          "metadata": {
            "tags": []
          },
          "execution_count": 16
        }
      ]
    },
    {
      "cell_type": "code",
      "metadata": {
        "colab": {
          "base_uri": "https://localhost:8080/"
        },
        "id": "xcXkz4yKEWDG",
        "outputId": "7b36ca4a-db19-4181-c0bf-62847e749626"
      },
      "source": [
        "(lambda **number:sum(number.values()))(a=1,b=4,c=10)"
      ],
      "execution_count": 17,
      "outputs": [
        {
          "output_type": "execute_result",
          "data": {
            "text/plain": [
              "15"
            ]
          },
          "metadata": {
            "tags": []
          },
          "execution_count": 17
        }
      ]
    },
    {
      "cell_type": "code",
      "metadata": {
        "colab": {
          "base_uri": "https://localhost:8080/"
        },
        "id": "ckbSpxZUExQo",
        "outputId": "09329d11-0199-42ae-9b13-0de3baa7762d"
      },
      "source": [
        "luisa=lambda a,b,c,d:(a,b,c,d)\n",
        "print(luisa(2,5,7,9))"
      ],
      "execution_count": 18,
      "outputs": [
        {
          "output_type": "stream",
          "text": [
            "(2, 5, 7, 9)\n"
          ],
          "name": "stdout"
        }
      ]
    },
    {
      "cell_type": "code",
      "metadata": {
        "colab": {
          "base_uri": "https://localhost:8080/"
        },
        "id": "VN6X-lGLFf8r",
        "outputId": "37e2e566-cbc0-451d-f382-fbe04c53790f"
      },
      "source": [
        "luisa=lambda a,b,c,d:a+b+c+d\n",
        "print(luisa(4,6,1,1))"
      ],
      "execution_count": 20,
      "outputs": [
        {
          "output_type": "stream",
          "text": [
            "12\n"
          ],
          "name": "stdout"
        }
      ]
    },
    {
      "cell_type": "markdown",
      "metadata": {
        "id": "epVlWu2gFu_5"
      },
      "source": [
        "**RECURSIVIDAD**\n",
        "\n",
        "---\n",
        "Las caracteristicas de una funcion recursiva son las siguientes:\n",
        "\n",
        "1. Seccion en que se llama a si misma.\n",
        "2. seccion del bloque de codigo donde este la condicion que implique retornar sin volver a llamarse.(IMPORTANTE).\n",
        "\n",
        "Los ejemplos tradicionales de recursividad son **calculo factorial** y la serie **fibonacci**.\n",
        "\n",
        "**1. Calculo factorial**\n",
        "\n",
        "En matematicas definimos factorial(n!) como la multiplicacion de todos los numeros predecesores hasta llegar a 1.\n",
        "\n",
        "Ejemplo:\n",
        "5!= 5*4*3*2*1\n",
        "100!= 100*99*98*98*97*96....*1\n",
        "\n"
      ]
    },
    {
      "cell_type": "code",
      "metadata": {
        "colab": {
          "base_uri": "https://localhost:8080/"
        },
        "id": "qtU4t3egHgzn",
        "outputId": "d839249f-cd8f-4f10-d9a1-985e3a950ef3"
      },
      "source": [
        "#Apliquemos un enfoque no recursivo de calculo factorial:\n",
        "\n",
        "def factorial(n):\n",
        "  w=1\n",
        "  i=2\n",
        "  while i<=n:\n",
        "    w *=i\n",
        "    i +=1\n",
        "  return w \n",
        "factorial(5)  \n"
      ],
      "execution_count": 23,
      "outputs": [
        {
          "output_type": "execute_result",
          "data": {
            "text/plain": [
              "120"
            ]
          },
          "metadata": {
            "tags": []
          },
          "execution_count": 23
        }
      ]
    },
    {
      "cell_type": "code",
      "metadata": {
        "colab": {
          "base_uri": "https://localhost:8080/"
        },
        "id": "w87STTSvI7lF",
        "outputId": "df947b57-3cc1-4b97-9ea9-96bd6bf51184"
      },
      "source": [
        "#Definamos factorial recursivo:\n",
        "\n",
        "def recursivofac(n):\n",
        " if n==1:\n",
        "   return 1\n",
        " else:\n",
        "   return n*recursivofac(n-1)\n",
        "recursivofac(10)"
      ],
      "execution_count": 29,
      "outputs": [
        {
          "output_type": "execute_result",
          "data": {
            "text/plain": [
              "3628800"
            ]
          },
          "metadata": {
            "tags": []
          },
          "execution_count": 29
        }
      ]
    },
    {
      "cell_type": "markdown",
      "metadata": {
        "id": "Ksy5OBldKdiQ"
      },
      "source": [
        "A continuacion complementamos los tipos de generadores:\n",
        "\n",
        "1. Return\n",
        "2. Yield\n"
      ]
    },
    {
      "cell_type": "code",
      "metadata": {
        "id": "g8MIOhrTKvbk"
      },
      "source": [
        ""
      ],
      "execution_count": null,
      "outputs": []
    },
    {
      "cell_type": "code",
      "metadata": {
        "colab": {
          "base_uri": "https://localhost:8080/"
        },
        "id": "3QV7IKQLKviQ",
        "outputId": "2f1bdfb9-1fae-43f2-fe52-44860d2e8885"
      },
      "source": [
        "def s():\n",
        "  return 4 \n",
        "s()  "
      ],
      "execution_count": 30,
      "outputs": [
        {
          "output_type": "execute_result",
          "data": {
            "text/plain": [
              "4"
            ]
          },
          "metadata": {
            "tags": []
          },
          "execution_count": 30
        }
      ]
    },
    {
      "cell_type": "code",
      "metadata": {
        "colab": {
          "base_uri": "https://localhost:8080/"
        },
        "id": "q32aQfEDK5aO",
        "outputId": "acf42b35-8c12-4f3f-b793-ea7bdc69c52f"
      },
      "source": [
        "def s():\n",
        "  yield 4\n",
        "s()"
      ],
      "execution_count": 31,
      "outputs": [
        {
          "output_type": "execute_result",
          "data": {
            "text/plain": [
              "<generator object s at 0x7f7a8bbabc50>"
            ]
          },
          "metadata": {
            "tags": []
          },
          "execution_count": 31
        }
      ]
    },
    {
      "cell_type": "markdown",
      "metadata": {
        "id": "fm_NLzGtLHc8"
      },
      "source": [
        "Cuando usamos el return, nos devuelve el numero 4, pero cuando usamos el yield lo que devuelve es un objeto de clase (generador)"
      ]
    }
  ]
}