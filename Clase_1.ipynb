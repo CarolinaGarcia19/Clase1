{
  "nbformat": 4,
  "nbformat_minor": 0,
  "metadata": {
    "colab": {
      "name": "Clase 1.ipynb",
      "provenance": [],
      "collapsed_sections": [],
      "authorship_tag": "ABX9TyPLkhs1F0gHW6zUyE6ajHSQ",
      "include_colab_link": true
    },
    "kernelspec": {
      "name": "python3",
      "display_name": "Python 3"
    },
    "language_info": {
      "name": "python"
    }
  },
  "cells": [
    {
      "cell_type": "markdown",
      "metadata": {
        "id": "view-in-github",
        "colab_type": "text"
      },
      "source": [
        "<a href=\"https://colab.research.google.com/github/CarolinaGarcia19/Clase1/blob/main/Clase_1.ipynb\" target=\"_parent\"><img src=\"https://colab.research.google.com/assets/colab-badge.svg\" alt=\"Open In Colab\"/></a>"
      ]
    },
    {
      "cell_type": "markdown",
      "metadata": {
        "id": "AYKpgtuVqEwg"
      },
      "source": [
        "**Introduccion**\n",
        "----En python hay variso tipos de datos compuestos y estan disponibles por defecto en los interpretes.\n",
        "---\n",
        "Para manejar codigo limpio en python podemos seguir las siguientes recomendaciones:\n",
        "\n",
        "1.Manejar siempre minuscula\n",
        "2.Se le puede añadir numeros\n",
        "3.\n",
        "En python hay varios tipos de datos compuestos y estan disponibles por defecto en los interpretes.\n",
        "\n",
        "**¿De que tipos?**\n",
        "1.Numericos\n",
        "2.secuencias\n",
        "3.Mapeos\n",
        "4.Conjuntos usados para agrupar otros valor\n",
        "\n",
        "**Diferencias entre variables y constantes**\n",
        "En matematicas llamamos constante a una magnitud que no cambia con el paso del tiempo.\n",
        "Ejemplo: contabilidad, gastos fijos , miuebles de oficina\n",
        "Ejemplo 2:6\n",
        "\n",
        "Por otro lado, el concepto de variable, como la cantidad que es suceptible a tomar distintos valores numericos.\n",
        "\n"
      ]
    },
    {
      "cell_type": "code",
      "metadata": {
        "colab": {
          "base_uri": "https://localhost:8080/"
        },
        "id": "e-JMfrV5rQis",
        "outputId": "3e683e11-4560-4abc-c33c-4c9073d7adde"
      },
      "source": [
        "x=80\n",
        "print(x)\n",
        "\n",
        "\n",
        "\n",
        "\n"
      ],
      "execution_count": 1,
      "outputs": [
        {
          "output_type": "stream",
          "text": [
            "80\n"
          ],
          "name": "stdout"
        }
      ]
    },
    {
      "cell_type": "markdown",
      "metadata": {
        "id": "tHhtFygisDar"
      },
      "source": [
        "Tipos de datos\n"
      ]
    },
    {
      "cell_type": "code",
      "metadata": {
        "colab": {
          "base_uri": "https://localhost:8080/"
        },
        "id": "1mGKurI6sIS2",
        "outputId": "e5235485-2527-4089-ed08-56a8abe0b13e"
      },
      "source": [
        "a= int(3.965)\n",
        "print(a)\n"
      ],
      "execution_count": 2,
      "outputs": [
        {
          "output_type": "stream",
          "text": [
            "3\n"
          ],
          "name": "stdout"
        }
      ]
    },
    {
      "cell_type": "markdown",
      "metadata": {
        "id": "fV5yhxlKsiLJ"
      },
      "source": [
        "El comando int es para hacer alusion a numeros enteros. A parte el comando float , permite valores con decimales.\n"
      ]
    },
    {
      "cell_type": "code",
      "metadata": {
        "colab": {
          "base_uri": "https://localhost:8080/"
        },
        "id": "isnq8-PTsz_g",
        "outputId": "de40ea5a-7228-45a5-a3cf-fa1ef39325b2"
      },
      "source": [
        "b=float(8.23)\n",
        "print(b)\n",
        "      "
      ],
      "execution_count": 4,
      "outputs": [
        {
          "output_type": "stream",
          "text": [
            "8.23\n"
          ],
          "name": "stdout"
        }
      ]
    },
    {
      "cell_type": "markdown",
      "metadata": {
        "id": "Wk9_QEB0tAvv"
      },
      "source": [
        "**tipo cadena**\n",
        "\n",
        "Las cadenas de texto encerrado entre comillas (simples o dobles) y se pueden confrmar de diferentes caracteres (Numericos, Alfabeticos, Especiales; #$+%*)\n",
        "Tener en cuenta, las cadenas admiten operadores como la suma y la resta.\n"
      ]
    },
    {
      "cell_type": "code",
      "metadata": {
        "colab": {
          "base_uri": "https://localhost:8080/"
        },
        "id": "wMXpZsjUtkgp",
        "outputId": "32d7cb05-e3a0-4949-f62b-a18bffe21537"
      },
      "source": [
        "val1=\"Luisa\"\n",
        "print(val1)\n",
        "val2=\"Hola mundo\"\n",
        "print(val2)"
      ],
      "execution_count": 6,
      "outputs": [
        {
          "output_type": "stream",
          "text": [
            "Luisa\n",
            "Hola mundo\n"
          ],
          "name": "stdout"
        }
      ]
    },
    {
      "cell_type": "code",
      "metadata": {
        "colab": {
          "base_uri": "https://localhost:8080/"
        },
        "id": "qXTA2m50t--d",
        "outputId": "fc522a88-2cb5-4b4a-f055-3433b26209b8"
      },
      "source": [
        "n=\"Aprender\"\n",
        "z=\"Python\"\n",
        "nz=n+\" \"+z\n",
        "print(n,z)\n",
        "\n",
        "q=\"5\"\n",
        "p=\"2\"\n",
        "b=int(q)\n",
        "c=int(p)\n",
        "print(b-c)\n"
      ],
      "execution_count": 15,
      "outputs": [
        {
          "output_type": "stream",
          "text": [
            "Aprender Python\n",
            "3\n"
          ],
          "name": "stdout"
        }
      ]
    },
    {
      "cell_type": "markdown",
      "metadata": {
        "id": "uCl1pIjXyDBA"
      },
      "source": [
        "**Tipo Boleano**\n",
        "---\n",
        "\n",
        "Este tipo de variable solo tendra un valor de verdadero o falso.\n",
        "**nota**\n",
        "son valores muy usados en condiciones y bucles.\n"
      ]
    },
    {
      "cell_type": "code",
      "metadata": {
        "colab": {
          "base_uri": "https://localhost:8080/"
        },
        "id": "swS3qhEDyfV9",
        "outputId": "b43eb786-4626-4d84-99c3-f8ff16735136"
      },
      "source": [
        "lola=True\n",
        "print(\"El valor es verdadero:\",lola,\", el cual es de tipo\", type(lola))"
      ],
      "execution_count": 16,
      "outputs": [
        {
          "output_type": "stream",
          "text": [
            "El valor es verdadero: True , el cual es de tipo <class 'bool'>\n"
          ],
          "name": "stdout"
        }
      ]
    },
    {
      "cell_type": "markdown",
      "metadata": {
        "id": "rMipVkeP0WNW"
      },
      "source": [
        "**Tipos de conjuntos**\n",
        "Son una coleccion de elementos que se repiten:\n"
      ]
    },
    {
      "cell_type": "code",
      "metadata": {
        "colab": {
          "base_uri": "https://localhost:8080/"
        },
        "id": "5tPJG2Tg0oMF",
        "outputId": "003488ab-c025-4163-b86c-26887f743b6b"
      },
      "source": [
        "fru=\"pera\",\"manzana\",\"naranja\"\n",
        "color=\"morado\",\"blanco\",\"azul\"\n",
        "print(fru,color)"
      ],
      "execution_count": 17,
      "outputs": [
        {
          "output_type": "stream",
          "text": [
            "('pera', 'manzana', 'naranja') ('morado', 'blanco', 'azul')\n"
          ],
          "name": "stdout"
        }
      ]
    },
    {
      "cell_type": "markdown",
      "metadata": {
        "id": "1cKf6oIZ09cS"
      },
      "source": [
        "**tipos de listas**\n",
        "---\n",
        "Son listas las almacenan vectore. Ejemplos de listas en python:\n",
        "\n",
        "Las listas empiezan a nombrarse siempre desde el elemento cero,a partir de alli empieza el conteo. el segundo numero determina el numero de elementos\n",
        "\n",
        "\n"
      ]
    },
    {
      "cell_type": "code",
      "metadata": {
        "colab": {
          "base_uri": "https://localhost:8080/"
        },
        "id": "PnYliozN1JTX",
        "outputId": "da42ea6b-c274-408a-926a-167fb2f6c146"
      },
      "source": [
        "ines=[\"5\",\"uva\",\"lila\",\"perro\"]\n",
        "print(ines)\n",
        "fe=ines[0:2]\n",
        "print(fe)\n"
      ],
      "execution_count": 21,
      "outputs": [
        {
          "output_type": "stream",
          "text": [
            "['5', 'uva', 'lila', 'perro']\n",
            "['5', 'uva']\n"
          ],
          "name": "stdout"
        }
      ]
    },
    {
      "cell_type": "markdown",
      "metadata": {
        "id": "2gDs52Pp4zuZ"
      },
      "source": [
        "**Tipo tuplas**\n",
        "Es una lista que no se puede modificar despues de la creacion de esta:\n",
        "Tuplas anidadas: Agrupacion(Tuplas)\n",
        "\n",
        "\n"
      ]
    },
    {
      "cell_type": "code",
      "metadata": {
        "colab": {
          "base_uri": "https://localhost:8080/"
        },
        "id": "mKKCKPJk49Xu",
        "outputId": "5283ded1-31d2-4906-f245-7cba7c217c42"
      },
      "source": [
        "tupla=23,28,\"hello\"\n",
        "print(tupla)\n",
        "otra=tupla,(1,2,3,4)\n",
        "print(otra)"
      ],
      "execution_count": 23,
      "outputs": [
        {
          "output_type": "stream",
          "text": [
            "(23, 28, 'hello')\n",
            "((23, 28, 'hello'), (1, 2, 3, 4))\n"
          ],
          "name": "stdout"
        }
      ]
    },
    {
      "cell_type": "markdown",
      "metadata": {
        "id": "V89X913F6BXk"
      },
      "source": [
        "**Tipo Diccionario**\n",
        "---\n",
        "Define los datos uno a uno entre un campo (ID-Identificador-Clave) y un valor: "
      ]
    },
    {
      "cell_type": "code",
      "metadata": {
        "colab": {
          "base_uri": "https://localhost:8080/",
          "height": 129
        },
        "id": "-PJeIKsB6ySA",
        "outputId": "53a192a3-a2f9-4801-9a59-daa3c3db12b3"
      },
      "source": [
        "datos_b={\n",
        "    \"nombres\":\"Diana\",\n",
        "    \"apellido\":\"Perea\",\n",
        "    \"cedula\":\"2345671\",\n",
        "    \"estado_civil\":\"viuda\",\n",
        "    \"lugar_nacimiento\":\"Neiva\",\n",
        "    \"fecha_nacimiento\":\"24/12/1980\",\n",
        "}\n",
        "\n",
        "print(\"ID del diccionario\", datos_b.keys())\n",
        "print(\"ID del diccionario\", datos_b.values())\n",
        "print(\"ID del diccionario\", datos_b.it\n",
        "\n"
      ],
      "execution_count": 32,
      "outputs": [
        {
          "output_type": "error",
          "ename": "SyntaxError",
          "evalue": "ignored",
          "traceback": [
            "\u001b[0;36m  File \u001b[0;32m\"<ipython-input-32-47072742af21>\"\u001b[0;36m, line \u001b[0;32m13\u001b[0m\n\u001b[0;31m    print(\"fecha_nacimiento\", datos_b.())\u001b[0m\n\u001b[0m                                      ^\u001b[0m\n\u001b[0;31mSyntaxError\u001b[0m\u001b[0;31m:\u001b[0m invalid syntax\n"
          ]
        }
      ]
    },
    {
      "cell_type": "markdown",
      "metadata": {
        "id": "iuYyDkW99lTF"
      },
      "source": [
        "**Ejemplo practico (Caracteristicas de los carros)**"
      ]
    },
    {
      "cell_type": "code",
      "metadata": {
        "id": "o7t0i-vd-Fke"
      },
      "source": [
        ""
      ],
      "execution_count": null,
      "outputs": []
    }
  ]
}